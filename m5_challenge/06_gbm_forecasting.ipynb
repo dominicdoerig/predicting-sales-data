{
 "cells": [
  {
   "cell_type": "markdown",
   "metadata": {},
   "source": [
    "# Define Running Mode"
   ]
  },
  {
   "cell_type": "markdown",
   "metadata": {},
   "source": [
    "- 'full_dataset = True' to use the full data set. If 'full_dataset = True', then a data set containing only data one year of the hobbies sales in TX2.  \n",
    "    \n",
    "- 'submit_to_kaggle = True' to submit the forecasts to Kaggle.  \n"
   ]
  },
  {
   "cell_type": "code",
   "execution_count": 1,
   "metadata": {
    "ExecuteTime": {
     "end_time": "2020-05-09T20:09:41.672874Z",
     "start_time": "2020-05-09T20:09:41.670848Z"
    }
   },
   "outputs": [],
   "source": [
    "full_dataset = True\n",
    "submit_to_kaggle = False\n"
   ]
  },
  {
   "cell_type": "markdown",
   "metadata": {},
   "source": [
    "# Import Packages"
   ]
  },
  {
   "cell_type": "code",
   "execution_count": 2,
   "metadata": {
    "ExecuteTime": {
     "end_time": "2020-05-09T20:09:43.307513Z",
     "start_time": "2020-05-09T20:09:41.675833Z"
    }
   },
   "outputs": [],
   "source": [
    "import utils\n",
    "import pandas as pd\n",
    "import numpy as np\n",
    "import matplotlib.pyplot as plt\n",
    "from tqdm.notebook import tqdm\n",
    "import time\n",
    "from sklearn.metrics import mean_squared_error\n",
    "import lightgbm as lgb\n",
    "import pickle"
   ]
  },
  {
   "cell_type": "markdown",
   "metadata": {},
   "source": [
    "# Data Import and Preparation"
   ]
  },
  {
   "cell_type": "code",
   "execution_count": 3,
   "metadata": {
    "ExecuteTime": {
     "end_time": "2020-05-09T20:14:17.513508Z",
     "start_time": "2020-05-09T20:09:43.308507Z"
    }
   },
   "outputs": [],
   "source": [
    "if full_dataset:\n",
    "    prefix = 'full_dataset'\n",
    "else:\n",
    "    prefix = 'subset'\n",
    "    \n",
    "models_path = utils.get_m5_root_dir() + '/models/'\n",
    "\n",
    "df_merged = pd.read_csv(\n",
    "    f'{utils.get_m5_root_dir()}/data/feature_engineering/{prefix}_df_merged.csv')\n",
    "\n",
    "scaling_factors_rmsse = pd.read_csv(\n",
    "    f'{utils.get_m5_root_dir()}/data/weights/scaling_factors_rmsse.csv')\n",
    "\n",
    "weights_wrmsse = pd.read_csv(\n",
    "    f'{utils.get_m5_root_dir()}/data/weights/weights_for_wrmsse.csv')\n"
   ]
  },
  {
   "cell_type": "code",
   "execution_count": 4,
   "metadata": {
    "ExecuteTime": {
     "end_time": "2020-05-09T20:17:25.430908Z",
     "start_time": "2020-05-09T20:14:17.599381Z"
    }
   },
   "outputs": [
    {
     "name": "stdout",
     "output_type": "stream",
     "text": [
      "Mem. usage of decreased to 4912.94 Mb (64.7% reduction)\n"
     ]
    }
   ],
   "source": [
    "# downcast numerical values to reduce mem usage\n",
    "df_merged = utils.reduce_mem_usage(df_merged)"
   ]
  },
  {
   "cell_type": "markdown",
   "metadata": {},
   "source": [
    "# Delete Data where Item was not up for Sale"
   ]
  },
  {
   "cell_type": "markdown",
   "metadata": {},
   "source": [
    "Item is not up for sale when price is NA."
   ]
  },
  {
   "cell_type": "code",
   "execution_count": 5,
   "metadata": {
    "ExecuteTime": {
     "end_time": "2020-05-09T20:17:58.620854Z",
     "start_time": "2020-05-09T20:17:25.439852Z"
    }
   },
   "outputs": [
    {
     "name": "stdout",
     "output_type": "stream",
     "text": [
      "(53662400, 34)\n",
      "(44307636, 34)\n"
     ]
    }
   ],
   "source": [
    "print(df_merged.shape)\n",
    "\n",
    "df_merged = df_merged.loc[df_merged['sell_price'] > 0]\n",
    "\n",
    "print(df_merged.shape)"
   ]
  },
  {
   "cell_type": "markdown",
   "metadata": {},
   "source": [
    "# Model Training & Forecasting (LightGBM)"
   ]
  },
  {
   "cell_type": "code",
   "execution_count": 6,
   "metadata": {
    "ExecuteTime": {
     "end_time": "2020-05-09T20:17:58.655739Z",
     "start_time": "2020-05-09T20:17:58.627804Z"
    }
   },
   "outputs": [],
   "source": [
    "# Custom Loss & valid for asymetric rmse\n",
    "def custom_mse_asymmetric_loss(y_pred, y_true):\n",
    "    y_true = y_true.get_label()\n",
    "    residual = (y_true - y_pred).astype(\"float\")\n",
    "    grad = np.where(residual < 0, -2 * residual, -2 * residual * 1.1)\n",
    "    hess = np.where(residual < 0, 2, 2 * 1.1)\n",
    "    return grad, hess\n",
    "\n",
    "\n",
    "def custom_rmse_asymmetric_valid(y_pred, y_true, tmp=None):\n",
    "    y_true = y_true.get_label()\n",
    "    residual = (y_true - y_pred).astype(\"float\")\n",
    "    loss = np.where(residual < 0, (residual ** 2), (residual ** 2) * 1.1)\n",
    "    return \"custom_mse_asymmetric_eval\", np.sqrt(np.mean(loss)), False"
   ]
  },
  {
   "cell_type": "code",
   "execution_count": null,
   "metadata": {},
   "outputs": [],
   "source": []
  },
  {
   "cell_type": "code",
   "execution_count": 7,
   "metadata": {
    "ExecuteTime": {
     "end_time": "2020-05-09T20:17:58.675675Z",
     "start_time": "2020-05-09T20:17:58.657739Z"
    }
   },
   "outputs": [],
   "source": [
    "# TODO: proper feature selection (e.g. random forrest)\n",
    "# for now: hardcoded list of features\n",
    "\n",
    "cat_features = [\n",
    "    'item_id',\n",
    "    'dept_id',\n",
    "    'cat_id',\n",
    "    'store_id',\n",
    "    'state_id',\n",
    "    'year',\n",
    "    'month',\n",
    "    'day',\n",
    "    'is_weekend',\n",
    "    'wday',\n",
    "    'event_name_1',\n",
    "    'event_type_1',\n",
    "    'event_name_2',\n",
    "    'event_type_2',\n",
    "    'snap_CA',\n",
    "    'snap_TX',\n",
    "    'snap_WI',\n",
    "    'up_for_sale'\n",
    "]\n",
    "\n",
    "num_features = [\n",
    "    'sell_price',\n",
    "    'lag_t28',\n",
    "    'rolling_kurt_t28',\n",
    "    'rolling_skew_t28',\n",
    "    'rolling_mean_t28',\n",
    "    'rolling_std_t28',\n",
    "    'price_change_t1',\n",
    "    'price_change_t30',\n",
    "    'rolling_price_std_t28',\n",
    "]\n",
    "\n",
    "features = cat_features + num_features"
   ]
  },
  {
   "cell_type": "code",
   "execution_count": null,
   "metadata": {
    "ExecuteTime": {
     "start_time": "2020-05-09T20:09:41.685Z"
    }
   },
   "outputs": [
    {
     "name": "stdout",
     "output_type": "stream",
     "text": [
      "\n",
      " ***** Computation for cat_id  1 *****\n",
      "log: create data sets\n",
      "log: create LightGBM data sets\n",
      "log: model training\n"
     ]
    },
    {
     "name": "stderr",
     "output_type": "stream",
     "text": [
      "c:\\users\\domin\\anaconda3\\envs\\predicting-sales-data\\lib\\site-packages\\lightgbm\\basic.py:1291: UserWarning: Using categorical_feature in Dataset.\n",
      "  warnings.warn('Using categorical_feature in Dataset.')\n"
     ]
    },
    {
     "name": "stdout",
     "output_type": "stream",
     "text": [
      "Training until validation scores don't improve for 20 rounds\n"
     ]
    }
   ],
   "source": [
    "\n",
    "\n",
    "params = {\n",
    "    'boosting_type': 'gbdt',\n",
    "    'objective': 'regression',\n",
    "    'seed': 10,\n",
    "    'learning_rate': 0.25,\n",
    "    'bagging_fraction': 0.75,\n",
    "    'bagging_freq': 10,\n",
    "    'max_bin': 128,\n",
    "    'feature_fraction ': 0.75,\n",
    "}\n",
    "\n",
    "  # to record eval results for plotting\n",
    "\n",
    "\n",
    "for cat in df_merged.cat_id.drop_duplicates():\n",
    "    \n",
    "    print('\\n ***** Computation for cat_id ', cat, '*****')\n",
    "    \n",
    "    evals_result = {}\n",
    "    \n",
    "    print('log: create data sets')\n",
    "    x_train = df_merged[df_merged['date'] <= '2016-03-27'].loc[df_merged['cat_id'] == cat][features]\n",
    "    y_train = df_merged[df_merged['date'] <= '2016-03-27'].loc[df_merged['cat_id'] == cat]['sale']\n",
    "\n",
    "    x_val = df_merged.loc[df_merged['data_type'] ==\n",
    "                          'train'].loc[df_merged['date'] > '2016-03-27'].loc[df_merged['cat_id'] == cat][features]\n",
    "    y_val = df_merged.loc[df_merged['data_type'] ==\n",
    "                          'train'].loc[df_merged['date'] > '2016-03-27'].loc[df_merged['cat_id'] == cat]['sale']\n",
    "\n",
    "    print('log: create LightGBM data sets')\n",
    "    train_data = lgb.Dataset(x_train, label=y_train,\n",
    "                             categorical_feature=cat_features, free_raw_data=False,\n",
    "                           )\n",
    "    validation_data = lgb.Dataset(\n",
    "        x_val, label=y_val, categorical_feature=cat_features, free_raw_data=False, reference=train_data,\n",
    "    )\n",
    "\n",
    "    print('log: model training')\n",
    "    gbm= lgb.train(params, train_data, valid_sets=[train_data, validation_data],\n",
    "                    evals_result=evals_result, num_boost_round=1000,\n",
    "                    verbose_eval=25, early_stopping_rounds=20,\n",
    "                    fobj=custom_mse_asymmetric_loss,\n",
    "                    feval=custom_rmse_asymmetric_valid\n",
    "                   )\n",
    "    \n",
    "    \n",
    "    print('log: save model and evals result')\n",
    "    gbm.save_model(f'{models_path}gbm_cat_id_{cat}_{prefix}.txt', num_iteration=gbm.best_iteration) \n",
    "    \n",
    "    evals_result_p = open(f'{models_path}evals_result_cat_id_{cat}_{prefix}.pkl', 'wb')\n",
    "    pickle.dump(evals_result, evals_result_p)\n",
    "    evals_result_p.close()\n",
    "\n"
   ]
  },
  {
   "cell_type": "code",
   "execution_count": null,
   "metadata": {
    "ExecuteTime": {
     "start_time": "2020-05-09T20:09:41.687Z"
    }
   },
   "outputs": [],
   "source": [
    "\n",
    "\n",
    "# keep date here, drop later\n",
    "x_pred = df_merged[(df_merged['data_type'] == 'validation')][features]\n",
    "x_pred['y_pred'] = np.nan\n",
    "\n",
    "\n",
    "for cat in x_pred.cat_id.drop_duplicates():\n",
    "    mod = lgb.Booster(model_file=f'{models_path}gbm_cat_id_{cat}_{prefix}.txt')\n",
    "    x_pred.loc[x_pred.cat_id == cat,'y_pred'] = mod.predict(x_pred.loc[x_pred.cat_id == cat][features])\n",
    "\n",
    "    "
   ]
  },
  {
   "cell_type": "markdown",
   "metadata": {},
   "source": [
    "# Training Analysis"
   ]
  },
  {
   "cell_type": "code",
   "execution_count": null,
   "metadata": {
    "ExecuteTime": {
     "start_time": "2020-05-09T20:09:41.688Z"
    }
   },
   "outputs": [],
   "source": [
    "for cat in x_pred.cat_id.drop_duplicates():\n",
    "    print('\\n ***** Computation for cat_id ', cat, '*****')\n",
    "    \n",
    "    mod = lgb.Booster(model_file=f'{models_path}gbm_cat_id_{cat}_{prefix}.txt')\n",
    "    evals = pickle.load(open(f'{models_path}evals_result_cat_id_{cat}_{prefix}.pkl', 'rb'))\n",
    "\n",
    "    ax = lgb.plot_metric(evals)\n",
    "    plt.show()\n",
    "    \n",
    "    ax = lgb.plot_importance(mod, figsize=(10,8))\n",
    "    plt.show()\n",
    "    \n"
   ]
  },
  {
   "cell_type": "markdown",
   "metadata": {},
   "source": [
    "# Compute RMSSE and WRMSSE on Validation Data"
   ]
  },
  {
   "cell_type": "code",
   "execution_count": null,
   "metadata": {
    "ExecuteTime": {
     "start_time": "2020-05-09T20:09:41.690Z"
    }
   },
   "outputs": [],
   "source": [
    "# compute forecasts, error and map it to df_merged to get ids\n",
    "\n",
    "# create validation set containing all categories\n",
    "df_tmp = df_merged.loc[df_merged['data_type'] ==\n",
    "                          'train'].loc[df_merged['date'] > '2016-03-27'][features].copy()\n",
    "df_tmp['y_true'] = df_merged.loc[df_merged['data_type'] ==\n",
    "                          'train'].loc[df_merged['date'] > '2016-03-27']['sale'].copy()\n",
    "\n",
    "for cat in df_tmp.cat_id.drop_duplicates():\n",
    "    mod = lgb.Booster(model_file=f'{models_path}gbm_cat_id_{cat}_{prefix}.txt')\n",
    "    df_tmp.loc[df_tmp.cat_id == cat,'y_pred'] = mod.predict(df_tmp.loc[df_tmp.cat_id == cat][features])\n",
    "    \n",
    "df_tmp['error'] = (df_tmp.y_true - df_tmp.y_pred)\n",
    "df_tmp = df_tmp.merge(df_merged[['id', 'item_id','dept_id','cat_id', 'store_id', 'state_id']].drop_duplicates())\n",
    "\n",
    "df_tmp.head(10)"
   ]
  },
  {
   "cell_type": "code",
   "execution_count": null,
   "metadata": {
    "ExecuteTime": {
     "start_time": "2020-05-09T20:09:41.691Z"
    }
   },
   "outputs": [],
   "source": [
    "# compute RMSSE and store it in dict\n",
    "rmsse_dict = {}\n",
    "\n",
    "for name, group in df_tmp.groupby(['id']):\n",
    "    \n",
    "    scale = scaling_factors_rmsse.loc[scaling_factors_rmsse['id'] == name]['scaling_factor'].to_list()[0]\n",
    "    weight = weights_wrmsse.loc[weights_wrmsse['id'] == name]['weights'].values[0]\n",
    "    \n",
    "    rmsse_dict[name] = [np.sqrt(np.mean(group.error**2 / scale))]\n",
    "    "
   ]
  },
  {
   "cell_type": "code",
   "execution_count": null,
   "metadata": {
    "ExecuteTime": {
     "start_time": "2020-05-09T20:09:41.693Z"
    }
   },
   "outputs": [],
   "source": [
    "# convert dict to dataframe\n",
    "rmsse_df = pd.DataFrame(rmsse_dict).T\n",
    "rmsse_df['id'] = rmsse_df.index\n",
    "rmsse_df = rmsse_df.reset_index(drop=True)\n",
    "rmsse_df = rmsse_df.rename(columns={0:'RMSSE'})\n",
    "\n",
    "# add weights to df and compute weights multiplied by RMSSE\n",
    "rmsse_df = rmsse_df.merge(weights_wrmsse, how='inner')\n",
    "rmsse_df['w_times_RMSSE'] = rmsse_df.loc[:,'weights'] * rmsse_df.loc[:,'RMSSE']\n",
    "\n",
    "# sort values by their impact\n",
    "rmsse_df = rmsse_df.sort_values(by='RMSSE', ascending=False)\n"
   ]
  },
  {
   "cell_type": "code",
   "execution_count": null,
   "metadata": {
    "ExecuteTime": {
     "start_time": "2020-05-09T20:09:41.694Z"
    }
   },
   "outputs": [],
   "source": [
    "# compute WRMSSE\n",
    "print('WRMSSE = %0.5f' % np.sum(rmsse_df.RMSSE * rmsse_df.weights))\n",
    "# WRMSSE = 0.01167"
   ]
  },
  {
   "cell_type": "code",
   "execution_count": null,
   "metadata": {
    "ExecuteTime": {
     "start_time": "2020-05-09T20:09:41.696Z"
    }
   },
   "outputs": [],
   "source": [
    "# show RMSSE and corresponding weights\n",
    "rmsse_df.sort_values(by='weights', ascending=False).head(20)"
   ]
  },
  {
   "cell_type": "code",
   "execution_count": null,
   "metadata": {
    "ExecuteTime": {
     "start_time": "2020-05-09T20:09:41.697Z"
    }
   },
   "outputs": [],
   "source": [
    "# analyse time series (manually)\n",
    "rel_id = 'FOODS_1_096_WI_2_validation'\n",
    "df_tmp.loc[df_tmp.id == rel_id][[\n",
    "    'id',\n",
    "    'month',\n",
    "    'day',\n",
    "    'up_for_sale',\n",
    "    'event_name_1',\n",
    "    'event_type_1',\n",
    "    'event_name_2',\n",
    "    'event_type_2',\n",
    "    'is_weekend',\n",
    "    'wday',\n",
    "    'sell_price',\n",
    "    'y_pred',\n",
    "    'y_true',\n",
    "    'error',\n",
    "]]"
   ]
  },
  {
   "cell_type": "markdown",
   "metadata": {},
   "source": [
    "# Printout Forecasts"
   ]
  },
  {
   "cell_type": "code",
   "execution_count": null,
   "metadata": {
    "ExecuteTime": {
     "start_time": "2020-05-09T20:09:41.698Z"
    }
   },
   "outputs": [],
   "source": [
    "x_pred"
   ]
  },
  {
   "cell_type": "code",
   "execution_count": null,
   "metadata": {
    "ExecuteTime": {
     "start_time": "2020-05-09T20:09:41.700Z"
    }
   },
   "outputs": [],
   "source": [
    "# map encoded ids to decoded ids\n",
    "id_mapping_table = df_merged[['id', 'item_id', 'year', 'month', 'day','store_id']].drop_duplicates()\n",
    "df_results = x_pred.merge(id_mapping_table,\n",
    "                         on=['item_id', 'store_id', 'year', 'month', 'day'],\n",
    "                         how='left')[[\n",
    "                             'id', 'item_id', 'store_id', 'year', 'month',\n",
    "                             'day', 'y_pred'\n",
    "                         ]]"
   ]
  },
  {
   "cell_type": "code",
   "execution_count": null,
   "metadata": {
    "ExecuteTime": {
     "start_time": "2020-05-09T20:09:41.702Z"
    }
   },
   "outputs": [],
   "source": [
    "id_mapping_table"
   ]
  },
  {
   "cell_type": "code",
   "execution_count": null,
   "metadata": {
    "ExecuteTime": {
     "start_time": "2020-05-09T20:09:41.703Z"
    }
   },
   "outputs": [],
   "source": [
    "# create dict with IDs and forecasts\n",
    "submission_dict = {}\n",
    "\n",
    "for i, df in df_results.groupby(['id']):\n",
    "    df = df.reset_index(drop=True)\n",
    "    submission_dict[i] = df['y_pred']"
   ]
  },
  {
   "cell_type": "code",
   "execution_count": null,
   "metadata": {
    "ExecuteTime": {
     "start_time": "2020-05-09T20:09:41.705Z"
    }
   },
   "outputs": [],
   "source": [
    "# convert dict to dataframe\n",
    "submission_df = pd.DataFrame(submission_dict).T\n",
    "submission_df = submission_df.clip(lower=0) # Convert negative values to 0\n",
    "submission_df.reset_index(level=0, inplace=True)\n",
    "f_list = [f'F{di}' for di in list(range(1, 29))]\n",
    "submission_df.columns = ['id'] + f_list\n",
    "submission_df"
   ]
  },
  {
   "cell_type": "markdown",
   "metadata": {},
   "source": [
    "# Increase Predictions for Food Items as they are underestimated"
   ]
  },
  {
   "cell_type": "code",
   "execution_count": null,
   "metadata": {
    "ExecuteTime": {
     "start_time": "2020-05-09T20:09:41.707Z"
    }
   },
   "outputs": [],
   "source": [
    "\n",
    "food_list = []\n",
    "for i in rmsse_df.head(50).itertuples():\n",
    "    if 'FOODS' in i.id:\n",
    "        food_list.append(i.id)\n",
    "\n"
   ]
  },
  {
   "cell_type": "code",
   "execution_count": null,
   "metadata": {
    "ExecuteTime": {
     "start_time": "2020-05-09T20:09:41.708Z"
    }
   },
   "outputs": [],
   "source": [
    "\n",
    "\n",
    "submission_df.loc[submission_df.id.isin(food_list),\n",
    "                  f_list] = submission_df.loc[submission_df.id.isin(food_list),\n",
    "                                            f_list] * 1.4\n",
    "\n",
    "submission_df\n",
    "\n"
   ]
  },
  {
   "cell_type": "markdown",
   "metadata": {},
   "source": [
    "# Submit to Kaggle "
   ]
  },
  {
   "cell_type": "code",
   "execution_count": null,
   "metadata": {
    "ExecuteTime": {
     "start_time": "2020-05-09T20:09:41.710Z"
    }
   },
   "outputs": [],
   "source": [
    "df_submission = submission_df.append(\n",
    "    submission_df.replace(to_replace='validation',\n",
    "                          value='evaluation',\n",
    "                          regex=True))\n",
    "filename = utils.get_m5_root_dir(\n",
    ") + '/data/submissions/gradient_boosting_regressor_v_2_5.csv'\n",
    "df_submission.to_csv(filename, index=False)"
   ]
  }
 ],
 "metadata": {
  "kernelspec": {
   "display_name": "Python 3",
   "language": "python",
   "name": "python3"
  },
  "language_info": {
   "codemirror_mode": {
    "name": "ipython",
    "version": 3
   },
   "file_extension": ".py",
   "mimetype": "text/x-python",
   "name": "python",
   "nbconvert_exporter": "python",
   "pygments_lexer": "ipython3",
   "version": "3.7.6"
  }
 },
 "nbformat": 4,
 "nbformat_minor": 4
}
