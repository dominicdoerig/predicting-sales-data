{
 "cells": [
  {
   "cell_type": "markdown",
   "metadata": {},
   "source": [
    "# Define Running Mode"
   ]
  },
  {
   "cell_type": "markdown",
   "metadata": {},
   "source": [
    "- 'full_dataset = True' to use the full data set. If 'full_dataset = True', then a data set containing only data one year of the hobbies sales in TX2.  \n",
    "    \n",
    "- 'submit_to_kaggle = True' to submit the forecasts to Kaggle.  \n"
   ]
  },
  {
   "cell_type": "code",
   "execution_count": 1,
   "metadata": {
    "ExecuteTime": {
     "end_time": "2020-04-23T20:20:19.729889Z",
     "start_time": "2020-04-23T20:20:19.726899Z"
    }
   },
   "outputs": [],
   "source": [
    "full_dataset = True\n",
    "submit_to_kaggle = False\n"
   ]
  },
  {
   "cell_type": "markdown",
   "metadata": {},
   "source": [
    "# Import Packages"
   ]
  },
  {
   "cell_type": "code",
   "execution_count": 2,
   "metadata": {
    "ExecuteTime": {
     "end_time": "2020-04-23T20:20:21.429698Z",
     "start_time": "2020-04-23T20:20:19.730886Z"
    }
   },
   "outputs": [],
   "source": [
    "import utils\n",
    "import pandas as pd\n",
    "import numpy as np\n",
    "import matplotlib.pyplot as plt\n",
    "from tqdm.notebook import tqdm\n",
    "import time\n",
    "from sklearn.metrics import mean_squared_error\n",
    "import lightgbm as lgb"
   ]
  },
  {
   "cell_type": "markdown",
   "metadata": {},
   "source": [
    "# Data Import and Preparation"
   ]
  },
  {
   "cell_type": "code",
   "execution_count": 3,
   "metadata": {
    "ExecuteTime": {
     "end_time": "2020-04-23T20:24:43.875244Z",
     "start_time": "2020-04-23T20:20:21.430695Z"
    }
   },
   "outputs": [],
   "source": [
    "if full_dataset:\n",
    "    prefix = 'full_dataset'\n",
    "else:\n",
    "    prefix = 'subset'\n",
    "\n",
    "df_merged = pd.read_csv(\n",
    "    f'{utils.get_m5_root_dir()}/data/feature_engineering/{prefix}_df_merged.csv')\n",
    "\n",
    "scaling_factors_rmsse = pd.read_csv(\n",
    "    f'{utils.get_m5_root_dir()}/data/weights/scaling_factors_rmsse.csv')\n",
    "\n",
    "weights_wrmsse = pd.read_csv(\n",
    "    f'{utils.get_m5_root_dir()}/data/weights/weights_for_wrmsse.csv')\n"
   ]
  },
  {
   "cell_type": "code",
   "execution_count": 4,
   "metadata": {
    "ExecuteTime": {
     "end_time": "2020-04-23T20:27:49.623403Z",
     "start_time": "2020-04-23T20:24:43.899324Z"
    }
   },
   "outputs": [
    {
     "name": "stdout",
     "output_type": "stream",
     "text": [
      "Mem. usage of decreased to 4912.94 Mb (64.7% reduction)\n"
     ]
    }
   ],
   "source": [
    "# downcast numerical values to reduce mem usage\n",
    "df_merged = utils.reduce_mem_usage(df_merged)"
   ]
  },
  {
   "cell_type": "markdown",
   "metadata": {},
   "source": [
    "# Model Training & Forecasting (LightGBM)"
   ]
  },
  {
   "cell_type": "code",
   "execution_count": 5,
   "metadata": {
    "ExecuteTime": {
     "end_time": "2020-04-23T20:27:49.691507Z",
     "start_time": "2020-04-23T20:27:49.633332Z"
    }
   },
   "outputs": [],
   "source": [
    "# Custom Loss & valid for asymetric rmse\n",
    "def custom_mse_asymmetric_loss(y_pred, y_true):\n",
    "    y_true = y_true.get_label()\n",
    "    residual = (y_true - y_pred).astype(\"float\")\n",
    "    grad = np.where(residual < 0, -2 * residual, -2 * residual * 1.1)\n",
    "    hess = np.where(residual < 0, 2, 2 * 1.1)\n",
    "    return grad, hess\n",
    "\n",
    "\n",
    "def custom_rmse_asymmetric_valid(y_pred, y_true, tmp=None):\n",
    "    y_true = y_true.get_label()\n",
    "    residual = (y_true - y_pred).astype(\"float\")\n",
    "    loss = np.where(residual < 0, (residual ** 2), (residual ** 2) * 1.1)\n",
    "    return \"custom_mse_asymmetric_eval\", np.sqrt(np.mean(loss)), False"
   ]
  },
  {
   "cell_type": "code",
   "execution_count": 6,
   "metadata": {
    "ExecuteTime": {
     "end_time": "2020-04-23T20:27:49.709613Z",
     "start_time": "2020-04-23T20:27:49.693577Z"
    }
   },
   "outputs": [],
   "source": [
    "# TODO: proper feature selection (e.g. random forrest)\n",
    "# for now: hardcoded list of features\n",
    "\n",
    "cat_features = [\n",
    "    'item_id',\n",
    "    'dept_id',\n",
    "    'cat_id',\n",
    "    'store_id',\n",
    "    'state_id',\n",
    "    'year',\n",
    "    'month',\n",
    "    'day',\n",
    "    'is_weekend',\n",
    "    'wday',\n",
    "    'event_name_1',\n",
    "    'event_type_1',\n",
    "    'event_name_2',\n",
    "    'event_type_2',\n",
    "    'snap_CA',\n",
    "    'snap_TX',\n",
    "    'snap_WI',\n",
    "    'up_for_sale'\n",
    "]\n",
    "\n",
    "num_features = [\n",
    "    'sell_price',\n",
    "    'lag_t28',\n",
    "    'rolling_kurt_t28',\n",
    "    'rolling_skew_t28',\n",
    "    'rolling_mean_t28',\n",
    "    'rolling_std_t28',\n",
    "    'price_change_t1',\n",
    "    'price_change_t30',\n",
    "    'rolling_price_std_t28',\n",
    "]\n",
    "\n",
    "features = cat_features + num_features"
   ]
  },
  {
   "cell_type": "code",
   "execution_count": 8,
   "metadata": {
    "ExecuteTime": {
     "end_time": "2020-04-23T20:34:56.271198Z",
     "start_time": "2020-04-23T20:32:20.425131Z"
    }
   },
   "outputs": [
    {
     "name": "stdout",
     "output_type": "stream",
     "text": [
      "(51954960, 27)\n",
      "(51954960,)\n",
      "(853720, 27)\n",
      "(853720,)\n",
      "(853720, 27)\n"
     ]
    }
   ],
   "source": [
    "x_train = df_merged[df_merged['date'] <= '2016-03-27'][features]\n",
    "y_train = df_merged[df_merged['date'] <= '2016-03-27']['sale']\n",
    "\n",
    "x_val = df_merged.loc[df_merged['data_type'] ==\n",
    "                      'train'].loc[df_merged['date'] > '2016-03-27'][features]\n",
    "y_val = df_merged.loc[df_merged['data_type'] ==\n",
    "                      'train'].loc[df_merged['date'] > '2016-03-27']['sale']\n",
    "\n",
    "x_pred = df_merged[(df_merged['data_type'] == 'validation')][features]\n",
    "\n",
    "\n",
    "print(x_train.shape)\n",
    "print(y_train.shape)\n",
    "print(x_val.shape)\n",
    "print(y_val.shape)\n",
    "print(x_pred.shape)"
   ]
  },
  {
   "cell_type": "code",
   "execution_count": 9,
   "metadata": {
    "ExecuteTime": {
     "end_time": "2020-04-23T20:34:56.302704Z",
     "start_time": "2020-04-23T20:34:56.277751Z"
    }
   },
   "outputs": [],
   "source": [
    "# create datasets\n",
    "train_data = lgb.Dataset(x_train, label=y_train,\n",
    "                         categorical_feature=cat_features, free_raw_data=False,\n",
    "                       )\n",
    "validation_data = lgb.Dataset(\n",
    "    x_val, label=y_val, categorical_feature=cat_features, free_raw_data=False, reference=train_data,\n",
    ")"
   ]
  },
  {
   "cell_type": "code",
   "execution_count": 10,
   "metadata": {
    "ExecuteTime": {
     "end_time": "2020-04-23T20:54:16.650155Z",
     "start_time": "2020-04-23T20:34:56.307690Z"
    }
   },
   "outputs": [
    {
     "name": "stderr",
     "output_type": "stream",
     "text": [
      "c:\\users\\domin\\anaconda3\\envs\\predicting-sales-data\\lib\\site-packages\\lightgbm\\basic.py:1291: UserWarning: Using categorical_feature in Dataset.\n",
      "  warnings.warn('Using categorical_feature in Dataset.')\n"
     ]
    },
    {
     "name": "stdout",
     "output_type": "stream",
     "text": [
      "Training until validation scores don't improve for 20 rounds\n",
      "[25]\ttraining's custom_mse_asymmetric_eval: 2.49016\tvalid_1's custom_mse_asymmetric_eval: 2.24974\n",
      "[50]\ttraining's custom_mse_asymmetric_eval: 2.42272\tvalid_1's custom_mse_asymmetric_eval: 2.2304\n",
      "[75]\ttraining's custom_mse_asymmetric_eval: 2.38799\tvalid_1's custom_mse_asymmetric_eval: 2.21713\n",
      "[100]\ttraining's custom_mse_asymmetric_eval: 2.36541\tvalid_1's custom_mse_asymmetric_eval: 2.21312\n",
      "[125]\ttraining's custom_mse_asymmetric_eval: 2.34577\tvalid_1's custom_mse_asymmetric_eval: 2.20721\n",
      "[150]\ttraining's custom_mse_asymmetric_eval: 2.33188\tvalid_1's custom_mse_asymmetric_eval: 2.20614\n",
      "[175]\ttraining's custom_mse_asymmetric_eval: 2.31783\tvalid_1's custom_mse_asymmetric_eval: 2.20303\n",
      "[200]\ttraining's custom_mse_asymmetric_eval: 2.30703\tvalid_1's custom_mse_asymmetric_eval: 2.20244\n",
      "[225]\ttraining's custom_mse_asymmetric_eval: 2.29533\tvalid_1's custom_mse_asymmetric_eval: 2.20008\n",
      "Early stopping, best iteration is:\n",
      "[218]\ttraining's custom_mse_asymmetric_eval: 2.29853\tvalid_1's custom_mse_asymmetric_eval: 2.19981\n"
     ]
    }
   ],
   "source": [
    "params = {\n",
    "    'boosting_type': 'gbdt',\n",
    "    'objective': 'regression',\n",
    "    'seed': 10,\n",
    "    'learning_rate': 0.15,\n",
    "    'bagging_fraction': 0.75,\n",
    "    'bagging_freq': 10,\n",
    "    'max_bin': 128,\n",
    "    'feature_fraction ': 0.75,\n",
    "}\n",
    "\n",
    "evals_result = {}  # to record eval results for plotting\n",
    "\n",
    "gbm = lgb.train(params, train_data, valid_sets=[train_data, validation_data],\n",
    "                evals_result=evals_result, num_boost_round=1000,\n",
    "                verbose_eval=25, early_stopping_rounds=20,\n",
    "                fobj=custom_mse_asymmetric_loss,\n",
    "                feval=custom_rmse_asymmetric_valid\n",
    "               )\n",
    "\n",
    "\n",
    "y_pred = gbm.predict(x_pred)"
   ]
  },
  {
   "cell_type": "markdown",
   "metadata": {},
   "source": [
    "# Training Analysis"
   ]
  },
  {
   "cell_type": "code",
   "execution_count": 11,
   "metadata": {
    "ExecuteTime": {
     "end_time": "2020-04-23T20:54:17.129252Z",
     "start_time": "2020-04-23T20:54:16.653147Z"
    }
   },
   "outputs": [
    {
     "name": "stdout",
     "output_type": "stream",
     "text": [
      "Plotting metrics recorded during training...\n"
     ]
    },
    {
     "data": {
      "image/png": "[encoded data removed]",
      "text/plain": [
       "<Figure size 432x288 with 1 Axes>"
      ]
     },
     "metadata": {
      "needs_background": "light"
     },
     "output_type": "display_data"
    }
   ],
   "source": [
    "print('Plotting metrics recorded during training...')\n",
    "ax = lgb.plot_metric(evals_result)\n",
    "plt.show()"
   ]
  },
  {
   "cell_type": "code",
   "execution_count": 12,
   "metadata": {
    "ExecuteTime": {
     "end_time": "2020-04-23T20:54:17.582487Z",
     "start_time": "2020-04-23T20:54:17.130236Z"
    }
   },
   "outputs": [
    {
     "name": "stdout",
     "output_type": "stream",
     "text": [
      "Plotting feature importances...\n"
     ]
    },
    {
     "data": {
      "image/png": "[encoded data removed]",
      "text/plain": [
       "<Figure size 720x576 with 1 Axes>"
      ]
     },
     "metadata": {
      "needs_background": "light"
     },
     "output_type": "display_data"
    }
   ],
   "source": [
    "print('Plotting feature importances...')\n",
    "ax = lgb.plot_importance(gbm, figsize=(10,8))\n",
    "plt.show()"
   ]
  },
  {
   "cell_type": "markdown",
   "metadata": {},
   "source": [
    "# Printout Forecasts"
   ]
  },
  {
   "cell_type": "code",
   "execution_count": 13,
   "metadata": {
    "ExecuteTime": {
     "end_time": "2020-04-23T20:54:17.602456Z",
     "start_time": "2020-04-23T20:54:17.583456Z"
    }
   },
   "outputs": [],
   "source": [
    "# map forecast values to encoded item_ids\n",
    "x_val['y_pred'] = y_pred"
   ]
  },
  {
   "cell_type": "code",
   "execution_count": 14,
   "metadata": {
    "ExecuteTime": {
     "end_time": "2020-04-23T20:54:37.017405Z",
     "start_time": "2020-04-23T20:54:17.604444Z"
    }
   },
   "outputs": [],
   "source": [
    "# map encoded ids to decoded ids\n",
    "id_mapping_table = df_merged[['id', 'item_id', 'store_id']].drop_duplicates()\n",
    "df_results = x_val.merge(id_mapping_table,\n",
    "                         on=['item_id', 'store_id'],\n",
    "                         how='left')[[\n",
    "                             'id', 'item_id', 'store_id', 'year', 'month',\n",
    "                             'day', 'y_pred'\n",
    "                         ]]"
   ]
  },
  {
   "cell_type": "code",
   "execution_count": 15,
   "metadata": {
    "ExecuteTime": {
     "end_time": "2020-04-23T20:54:46.990503Z",
     "start_time": "2020-04-23T20:54:37.018422Z"
    }
   },
   "outputs": [],
   "source": [
    "# create dict with IDs and forecasts\n",
    "submission_dict = {}\n",
    "\n",
    "for i, df in df_results.groupby(['id']):\n",
    "    df = df.reset_index(drop=True)\n",
    "    submission_dict[i] = df['y_pred']"
   ]
  },
  {
   "cell_type": "code",
   "execution_count": 16,
   "metadata": {
    "ExecuteTime": {
     "end_time": "2020-04-23T20:54:48.024790Z",
     "start_time": "2020-04-23T20:54:46.991457Z"
    }
   },
   "outputs": [
    {
     "data": {
      "text/html": [
       "<div>\n",
       "<style scoped>\n",
       "    .dataframe tbody tr th:only-of-type {\n",
       "        vertical-align: middle;\n",
       "    }\n",
       "\n",
       "    .dataframe tbody tr th {\n",
       "        vertical-align: top;\n",
       "    }\n",
       "\n",
       "    .dataframe thead th {\n",
       "        text-align: right;\n",
       "    }\n",
       "</style>\n",
       "<table border=\"1\" class=\"dataframe\">\n",
       "  <thead>\n",
       "    <tr style=\"text-align: right;\">\n",
       "      <th></th>\n",
       "      <th>id</th>\n",
       "      <th>F1</th>\n",
       "      <th>F2</th>\n",
       "      <th>F3</th>\n",
       "      <th>F4</th>\n",
       "      <th>F5</th>\n",
       "      <th>F6</th>\n",
       "      <th>F7</th>\n",
       "      <th>F8</th>\n",
       "      <th>F9</th>\n",
       "      <th>...</th>\n",
       "      <th>F19</th>\n",
       "      <th>F20</th>\n",
       "      <th>F21</th>\n",
       "      <th>F22</th>\n",
       "      <th>F23</th>\n",
       "      <th>F24</th>\n",
       "      <th>F25</th>\n",
       "      <th>F26</th>\n",
       "      <th>F27</th>\n",
       "      <th>F28</th>\n",
       "    </tr>\n",
       "  </thead>\n",
       "  <tbody>\n",
       "    <tr>\n",
       "      <th>0</th>\n",
       "      <td>FOODS_1_001_CA_1_validation</td>\n",
       "      <td>0.830563</td>\n",
       "      <td>0.799211</td>\n",
       "      <td>0.799211</td>\n",
       "      <td>0.765899</td>\n",
       "      <td>1.102961</td>\n",
       "      <td>0.945084</td>\n",
       "      <td>1.041913</td>\n",
       "      <td>1.254392</td>\n",
       "      <td>0.993297</td>\n",
       "      <td>...</td>\n",
       "      <td>1.130293</td>\n",
       "      <td>1.506621</td>\n",
       "      <td>1.264888</td>\n",
       "      <td>1.426205</td>\n",
       "      <td>1.035126</td>\n",
       "      <td>1.031764</td>\n",
       "      <td>0.957695</td>\n",
       "      <td>1.030921</td>\n",
       "      <td>1.311244</td>\n",
       "      <td>1.133389</td>\n",
       "    </tr>\n",
       "    <tr>\n",
       "      <th>1</th>\n",
       "      <td>FOODS_1_001_CA_2_validation</td>\n",
       "      <td>0.833630</td>\n",
       "      <td>0.787387</td>\n",
       "      <td>0.773948</td>\n",
       "      <td>0.773948</td>\n",
       "      <td>0.770148</td>\n",
       "      <td>0.878588</td>\n",
       "      <td>0.925268</td>\n",
       "      <td>0.634537</td>\n",
       "      <td>0.682370</td>\n",
       "      <td>...</td>\n",
       "      <td>0.533017</td>\n",
       "      <td>0.598159</td>\n",
       "      <td>2.996143</td>\n",
       "      <td>1.052032</td>\n",
       "      <td>0.981121</td>\n",
       "      <td>0.981121</td>\n",
       "      <td>1.257591</td>\n",
       "      <td>1.044161</td>\n",
       "      <td>1.238639</td>\n",
       "      <td>1.644355</td>\n",
       "    </tr>\n",
       "    <tr>\n",
       "      <th>2</th>\n",
       "      <td>FOODS_1_001_CA_3_validation</td>\n",
       "      <td>1.040664</td>\n",
       "      <td>0.868879</td>\n",
       "      <td>0.939534</td>\n",
       "      <td>0.893631</td>\n",
       "      <td>0.958563</td>\n",
       "      <td>1.191297</td>\n",
       "      <td>1.235031</td>\n",
       "      <td>1.079567</td>\n",
       "      <td>1.024235</td>\n",
       "      <td>...</td>\n",
       "      <td>1.129221</td>\n",
       "      <td>1.262216</td>\n",
       "      <td>3.266864</td>\n",
       "      <td>1.629364</td>\n",
       "      <td>1.399407</td>\n",
       "      <td>1.367546</td>\n",
       "      <td>1.358199</td>\n",
       "      <td>1.356897</td>\n",
       "      <td>1.644294</td>\n",
       "      <td>1.583207</td>\n",
       "    </tr>\n",
       "    <tr>\n",
       "      <th>3</th>\n",
       "      <td>FOODS_1_001_CA_4_validation</td>\n",
       "      <td>0.582031</td>\n",
       "      <td>0.447420</td>\n",
       "      <td>0.447420</td>\n",
       "      <td>0.447420</td>\n",
       "      <td>0.486570</td>\n",
       "      <td>0.586340</td>\n",
       "      <td>0.617228</td>\n",
       "      <td>0.581233</td>\n",
       "      <td>0.546747</td>\n",
       "      <td>...</td>\n",
       "      <td>0.294344</td>\n",
       "      <td>0.339773</td>\n",
       "      <td>0.338874</td>\n",
       "      <td>0.365917</td>\n",
       "      <td>0.219298</td>\n",
       "      <td>0.219298</td>\n",
       "      <td>0.219298</td>\n",
       "      <td>0.271112</td>\n",
       "      <td>0.370376</td>\n",
       "      <td>0.427202</td>\n",
       "    </tr>\n",
       "    <tr>\n",
       "      <th>4</th>\n",
       "      <td>FOODS_1_001_TX_1_validation</td>\n",
       "      <td>0.482568</td>\n",
       "      <td>0.466355</td>\n",
       "      <td>0.466355</td>\n",
       "      <td>0.466355</td>\n",
       "      <td>0.505504</td>\n",
       "      <td>0.626626</td>\n",
       "      <td>0.683848</td>\n",
       "      <td>0.556779</td>\n",
       "      <td>0.504973</td>\n",
       "      <td>...</td>\n",
       "      <td>0.277959</td>\n",
       "      <td>0.323388</td>\n",
       "      <td>0.327566</td>\n",
       "      <td>0.227982</td>\n",
       "      <td>0.171849</td>\n",
       "      <td>0.171849</td>\n",
       "      <td>0.171849</td>\n",
       "      <td>0.190350</td>\n",
       "      <td>0.258446</td>\n",
       "      <td>0.254357</td>\n",
       "    </tr>\n",
       "    <tr>\n",
       "      <th>5</th>\n",
       "      <td>FOODS_1_001_TX_2_validation</td>\n",
       "      <td>0.576186</td>\n",
       "      <td>0.497074</td>\n",
       "      <td>0.497074</td>\n",
       "      <td>0.740920</td>\n",
       "      <td>0.662875</td>\n",
       "      <td>0.557832</td>\n",
       "      <td>0.564834</td>\n",
       "      <td>0.482088</td>\n",
       "      <td>0.460530</td>\n",
       "      <td>...</td>\n",
       "      <td>0.749142</td>\n",
       "      <td>0.555176</td>\n",
       "      <td>0.671677</td>\n",
       "      <td>0.492126</td>\n",
       "      <td>0.456959</td>\n",
       "      <td>0.414597</td>\n",
       "      <td>0.414597</td>\n",
       "      <td>0.426606</td>\n",
       "      <td>0.590856</td>\n",
       "      <td>0.526376</td>\n",
       "    </tr>\n",
       "    <tr>\n",
       "      <th>6</th>\n",
       "      <td>FOODS_1_001_TX_3_validation</td>\n",
       "      <td>0.369919</td>\n",
       "      <td>0.353706</td>\n",
       "      <td>0.353706</td>\n",
       "      <td>0.345025</td>\n",
       "      <td>0.408873</td>\n",
       "      <td>0.539812</td>\n",
       "      <td>0.587994</td>\n",
       "      <td>0.440768</td>\n",
       "      <td>0.515269</td>\n",
       "      <td>...</td>\n",
       "      <td>0.417826</td>\n",
       "      <td>0.648360</td>\n",
       "      <td>0.665976</td>\n",
       "      <td>0.426492</td>\n",
       "      <td>0.347456</td>\n",
       "      <td>0.347456</td>\n",
       "      <td>0.529790</td>\n",
       "      <td>0.464691</td>\n",
       "      <td>0.568518</td>\n",
       "      <td>0.568518</td>\n",
       "    </tr>\n",
       "    <tr>\n",
       "      <th>7</th>\n",
       "      <td>FOODS_1_001_WI_1_validation</td>\n",
       "      <td>0.395848</td>\n",
       "      <td>0.427202</td>\n",
       "      <td>0.393889</td>\n",
       "      <td>0.427202</td>\n",
       "      <td>0.435151</td>\n",
       "      <td>0.534921</td>\n",
       "      <td>0.583104</td>\n",
       "      <td>0.487897</td>\n",
       "      <td>0.479777</td>\n",
       "      <td>...</td>\n",
       "      <td>0.433871</td>\n",
       "      <td>0.510974</td>\n",
       "      <td>0.614422</td>\n",
       "      <td>0.393101</td>\n",
       "      <td>0.476333</td>\n",
       "      <td>0.357935</td>\n",
       "      <td>0.357935</td>\n",
       "      <td>0.395843</td>\n",
       "      <td>1.438139</td>\n",
       "      <td>0.941912</td>\n",
       "    </tr>\n",
       "    <tr>\n",
       "      <th>8</th>\n",
       "      <td>FOODS_1_001_WI_2_validation</td>\n",
       "      <td>0.239073</td>\n",
       "      <td>0.222861</td>\n",
       "      <td>0.222861</td>\n",
       "      <td>0.222861</td>\n",
       "      <td>0.231788</td>\n",
       "      <td>0.299884</td>\n",
       "      <td>0.631687</td>\n",
       "      <td>0.443978</td>\n",
       "      <td>0.404493</td>\n",
       "      <td>...</td>\n",
       "      <td>0.553101</td>\n",
       "      <td>0.630204</td>\n",
       "      <td>0.647821</td>\n",
       "      <td>0.466889</td>\n",
       "      <td>0.449312</td>\n",
       "      <td>0.467828</td>\n",
       "      <td>0.434516</td>\n",
       "      <td>0.440089</td>\n",
       "      <td>0.539860</td>\n",
       "      <td>0.521344</td>\n",
       "    </tr>\n",
       "    <tr>\n",
       "      <th>9</th>\n",
       "      <td>FOODS_1_001_WI_3_validation</td>\n",
       "      <td>0.192184</td>\n",
       "      <td>0.175971</td>\n",
       "      <td>0.237196</td>\n",
       "      <td>0.240558</td>\n",
       "      <td>0.219704</td>\n",
       "      <td>0.287800</td>\n",
       "      <td>0.345123</td>\n",
       "      <td>0.294051</td>\n",
       "      <td>0.292877</td>\n",
       "      <td>...</td>\n",
       "      <td>0.287755</td>\n",
       "      <td>0.419016</td>\n",
       "      <td>0.372152</td>\n",
       "      <td>0.259446</td>\n",
       "      <td>0.231225</td>\n",
       "      <td>0.231225</td>\n",
       "      <td>0.231225</td>\n",
       "      <td>0.249727</td>\n",
       "      <td>0.822309</td>\n",
       "      <td>0.493627</td>\n",
       "    </tr>\n",
       "  </tbody>\n",
       "</table>\n",
       "<p>10 rows × 29 columns</p>\n",
       "</div>"
      ],
      "text/plain": [
       "                            id        F1        F2        F3        F4  \\\n",
       "0  FOODS_1_001_CA_1_validation  0.830563  0.799211  0.799211  0.765899   \n",
       "1  FOODS_1_001_CA_2_validation  0.833630  0.787387  0.773948  0.773948   \n",
       "2  FOODS_1_001_CA_3_validation  1.040664  0.868879  0.939534  0.893631   \n",
       "3  FOODS_1_001_CA_4_validation  0.582031  0.447420  0.447420  0.447420   \n",
       "4  FOODS_1_001_TX_1_validation  0.482568  0.466355  0.466355  0.466355   \n",
       "5  FOODS_1_001_TX_2_validation  0.576186  0.497074  0.497074  0.740920   \n",
       "6  FOODS_1_001_TX_3_validation  0.369919  0.353706  0.353706  0.345025   \n",
       "7  FOODS_1_001_WI_1_validation  0.395848  0.427202  0.393889  0.427202   \n",
       "8  FOODS_1_001_WI_2_validation  0.239073  0.222861  0.222861  0.222861   \n",
       "9  FOODS_1_001_WI_3_validation  0.192184  0.175971  0.237196  0.240558   \n",
       "\n",
       "         F5        F6        F7        F8        F9  ...       F19       F20  \\\n",
       "0  1.102961  0.945084  1.041913  1.254392  0.993297  ...  1.130293  1.506621   \n",
       "1  0.770148  0.878588  0.925268  0.634537  0.682370  ...  0.533017  0.598159   \n",
       "2  0.958563  1.191297  1.235031  1.079567  1.024235  ...  1.129221  1.262216   \n",
       "3  0.486570  0.586340  0.617228  0.581233  0.546747  ...  0.294344  0.339773   \n",
       "4  0.505504  0.626626  0.683848  0.556779  0.504973  ...  0.277959  0.323388   \n",
       "5  0.662875  0.557832  0.564834  0.482088  0.460530  ...  0.749142  0.555176   \n",
       "6  0.408873  0.539812  0.587994  0.440768  0.515269  ...  0.417826  0.648360   \n",
       "7  0.435151  0.534921  0.583104  0.487897  0.479777  ...  0.433871  0.510974   \n",
       "8  0.231788  0.299884  0.631687  0.443978  0.404493  ...  0.553101  0.630204   \n",
       "9  0.219704  0.287800  0.345123  0.294051  0.292877  ...  0.287755  0.419016   \n",
       "\n",
       "        F21       F22       F23       F24       F25       F26       F27  \\\n",
       "0  1.264888  1.426205  1.035126  1.031764  0.957695  1.030921  1.311244   \n",
       "1  2.996143  1.052032  0.981121  0.981121  1.257591  1.044161  1.238639   \n",
       "2  3.266864  1.629364  1.399407  1.367546  1.358199  1.356897  1.644294   \n",
       "3  0.338874  0.365917  0.219298  0.219298  0.219298  0.271112  0.370376   \n",
       "4  0.327566  0.227982  0.171849  0.171849  0.171849  0.190350  0.258446   \n",
       "5  0.671677  0.492126  0.456959  0.414597  0.414597  0.426606  0.590856   \n",
       "6  0.665976  0.426492  0.347456  0.347456  0.529790  0.464691  0.568518   \n",
       "7  0.614422  0.393101  0.476333  0.357935  0.357935  0.395843  1.438139   \n",
       "8  0.647821  0.466889  0.449312  0.467828  0.434516  0.440089  0.539860   \n",
       "9  0.372152  0.259446  0.231225  0.231225  0.231225  0.249727  0.822309   \n",
       "\n",
       "        F28  \n",
       "0  1.133389  \n",
       "1  1.644355  \n",
       "2  1.583207  \n",
       "3  0.427202  \n",
       "4  0.254357  \n",
       "5  0.526376  \n",
       "6  0.568518  \n",
       "7  0.941912  \n",
       "8  0.521344  \n",
       "9  0.493627  \n",
       "\n",
       "[10 rows x 29 columns]"
      ]
     },
     "execution_count": 16,
     "metadata": {},
     "output_type": "execute_result"
    }
   ],
   "source": [
    "# convert dict to dataframe\n",
    "submission_df = pd.DataFrame(submission_dict).T\n",
    "submission_df = submission_df.clip(lower=0) # Convert negative values to 0\n",
    "submission_df.reset_index(level=0, inplace=True)\n",
    "submission_df.columns = ['id'] + [f'F{di}' for di in list(range(1, 29))]\n",
    "submission_df.head(10)"
   ]
  },
  {
   "cell_type": "markdown",
   "metadata": {},
   "source": [
    "# Submit to Kaggle "
   ]
  },
  {
   "cell_type": "code",
   "execution_count": 17,
   "metadata": {
    "ExecuteTime": {
     "end_time": "2020-04-23T20:54:48.031775Z",
     "start_time": "2020-04-23T20:54:48.026765Z"
    }
   },
   "outputs": [],
   "source": [
    "if submit_to_kaggle:\n",
    "    # Bring data to Kaggel's required form (evaluation & validation)\n",
    "    df_submission = submission_df.append(\n",
    "        submission_df.replace(to_replace='validation', value='evaluation',\n",
    "                              regex=True))\n",
    "    filename = utils.get_m5_root_dir(\n",
    "    ) + '/data/submissions/gradient_boosting_regressor_v_2_5.csv'\n",
    "    df_submission.to_csv(filename, index=False)\n",
    "    \n",
    "\n",
    "    # Submit via Kaggle API or with website https://www.kaggle.com/c/m5-forecasting-accuracy/submissions\n",
    "    !kaggle competitions submit -c m5-forecasting-accuracy -f data/submissions/gradient_boosting_regressor_v_2_5.csv -m \"asymetric loss with factor 1.1 if res > 1\"\n"
   ]
  }
 ],
 "metadata": {
  "kernelspec": {
   "display_name": "Python 3",
   "language": "python",
   "name": "python3"
  },
  "language_info": {
   "codemirror_mode": {
    "name": "ipython",
    "version": 3
   },
   "file_extension": ".py",
   "mimetype": "text/x-python",
   "name": "python",
   "nbconvert_exporter": "python",
   "pygments_lexer": "ipython3",
   "version": "3.7.6"
  }
 },
 "nbformat": 4,
 "nbformat_minor": 4
}
