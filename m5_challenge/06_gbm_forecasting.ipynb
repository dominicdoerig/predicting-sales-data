{
 "cells": [
  {
   "cell_type": "markdown",
   "metadata": {},
   "source": [
    "# Define Running Mode"
   ]
  },
  {
   "cell_type": "markdown",
   "metadata": {},
   "source": [
    "- 'full_dataset = True' to use the full data set. If 'full_dataset = True', then a data set containing only data one year of the hobbies sales in TX2.  \n",
    "    \n",
    "- 'submit_to_kaggle = True' to submit the forecasts to Kaggle.  \n"
   ]
  },
  {
   "cell_type": "code",
   "execution_count": 1,
   "metadata": {
    "ExecuteTime": {
     "end_time": "2020-04-10T21:50:38.034170Z",
     "start_time": "2020-04-10T21:50:38.031178Z"
    }
   },
   "outputs": [],
   "source": [
    "full_dataset = False\n",
    "submit_to_kaggle = False\n"
   ]
  },
  {
   "cell_type": "markdown",
   "metadata": {},
   "source": [
    "# Import Packages"
   ]
  },
  {
   "cell_type": "code",
   "execution_count": 2,
   "metadata": {
    "ExecuteTime": {
     "end_time": "2020-04-10T21:50:39.984561Z",
     "start_time": "2020-04-10T21:50:38.037131Z"
    }
   },
   "outputs": [],
   "source": [
    "import utils\n",
    "import pandas as pd\n",
    "import numpy as np\n",
    "import matplotlib.pyplot as plt\n",
    "from tqdm.notebook import tqdm\n",
    "import time\n",
    "from sklearn.metrics import mean_squared_error\n",
    "import lightgbm as lgb"
   ]
  },
  {
   "cell_type": "markdown",
   "metadata": {},
   "source": [
    "# Data Import and Preparation"
   ]
  },
  {
   "cell_type": "code",
   "execution_count": 3,
   "metadata": {
    "ExecuteTime": {
     "end_time": "2020-04-10T21:50:40.444862Z",
     "start_time": "2020-04-10T21:50:39.985042Z"
    }
   },
   "outputs": [],
   "source": [
    "if full_dataset:\n",
    "    prefix = 'full_dataset'\n",
    "else:\n",
    "    prefix = 'subset'\n",
    "\n",
    "train_data = lgb.Dataset(\n",
    "    f'{utils.get_m5_root_dir()}/data/feature_engineering/{prefix}_train_lightgbm.bin')\n",
    "validation_data = lgb.Dataset(\n",
    "    f'{utils.get_m5_root_dir()}/data/feature_engineering/{prefix}_validation_data_lightgbm.bin')\n",
    "\n",
    "x_train = pd.read_csv(\n",
    "    f'{utils.get_m5_root_dir()}/data/feature_engineering/{prefix}_x_train.csv')\n",
    "y_train = pd.read_csv(\n",
    "    f'{utils.get_m5_root_dir()}/data/feature_engineering/{prefix}_y_train.csv')\n",
    "\n",
    "x_val = pd.read_csv(\n",
    "    f'{utils.get_m5_root_dir()}/data/feature_engineering/{prefix}_x_val.csv')\n",
    "y_val = pd.read_csv(\n",
    "    f'{utils.get_m5_root_dir()}/data/feature_engineering/{prefix}_y_val.csv').sale  # -> save as pd.Series\n",
    "\n",
    "x_pred = pd.read_csv(\n",
    "    f'{utils.get_m5_root_dir()}/data/feature_engineering/{prefix}_x_pred.csv')\n",
    "\n",
    "df_merged = pd.read_csv(\n",
    "    f'{utils.get_m5_root_dir()}/data/feature_engineering/{prefix}_df_merged.csv')"
   ]
  },
  {
   "cell_type": "code",
   "execution_count": 4,
   "metadata": {
    "ExecuteTime": {
     "end_time": "2020-04-10T21:50:40.786931Z",
     "start_time": "2020-04-10T21:50:40.445813Z"
    }
   },
   "outputs": [
    {
     "name": "stdout",
     "output_type": "stream",
     "text": [
      "Mem. usage of decreased to  4.77 Mb (74.1% reduction)\n",
      "Mem. usage of decreased to  0.85 Mb (74.1% reduction)\n",
      "Mem. usage of decreased to 11.07 Mb (64.7% reduction)\n"
     ]
    }
   ],
   "source": [
    "# downcast numerical values to reduce mem usage\n",
    "x_train = utils.reduce_mem_usage(x_train)\n",
    "x_val = utils.reduce_mem_usage(x_val)\n",
    "df_merged = utils.reduce_mem_usage(df_merged)"
   ]
  },
  {
   "cell_type": "markdown",
   "metadata": {},
   "source": [
    "# Model Training & Forecasting (LightGBM)"
   ]
  },
  {
   "cell_type": "code",
   "execution_count": 5,
   "metadata": {
    "ExecuteTime": {
     "end_time": "2020-04-10T21:50:40.792887Z",
     "start_time": "2020-04-10T21:50:40.787898Z"
    }
   },
   "outputs": [],
   "source": [
    "def custom_mse_asymmetric_loss(y_pred, y_true):\n",
    "    y_true = y_true.get_label()\n",
    "    residual = (y_true - y_pred).astype(\"float\")\n",
    "    grad = np.where(residual < 0, -2 * residual, -2 * residual * 1.1)\n",
    "    hess = np.where(residual < 0, 2, 2 * 1.1)\n",
    "    return grad, hess\n",
    "\n",
    "\n",
    "def custom_rmse_asymmetric_valid(y_pred, y_true):\n",
    "    y_true = y_true.get_label()\n",
    "    residual = (y_true - y_pred).astype(\"float\")\n",
    "    loss = np.where(residual < 0, (residual ** 2), (residual ** 2) * 1.1)\n",
    "    return \"custom_mse_asymmetric_eval\", np.sqrt(np.mean(loss)), False"
   ]
  },
  {
   "cell_type": "code",
   "execution_count": 6,
   "metadata": {
    "ExecuteTime": {
     "end_time": "2020-04-10T21:50:41.166884Z",
     "start_time": "2020-04-10T21:50:40.793882Z"
    }
   },
   "outputs": [
    {
     "name": "stdout",
     "output_type": "stream",
     "text": [
      "Training until validation scores don't improve for 20 rounds\n",
      "[25]\ttraining's custom_mse_asymmetric_eval: 1.36031\tvalid_1's custom_mse_asymmetric_eval: 1.51466\n",
      "Early stopping, best iteration is:\n",
      "[14]\ttraining's custom_mse_asymmetric_eval: 1.41159\tvalid_1's custom_mse_asymmetric_eval: 1.50653\n"
     ]
    }
   ],
   "source": [
    "params = {\n",
    "    'boosting_type': 'gbdt',\n",
    "    'objective': 'regression',\n",
    "    'seed': 10,\n",
    "    'learning_rate': 0.15,\n",
    "    'bagging_fraction': 0.75,\n",
    "    'bagging_freq': 10,\n",
    "    'max_bin': 128,\n",
    "    'feature_fraction ': 0.75,\n",
    "}\n",
    "\n",
    "evals_result = {}  # to record eval results for plotting\n",
    "\n",
    "gbm = lgb.train(params, train_data, valid_sets=[train_data, validation_data],\n",
    "                evals_result=evals_result, num_boost_round=1000,\n",
    "                verbose_eval=25, early_stopping_rounds=20,\n",
    "                fobj=custom_mse_asymmetric_loss,\n",
    "                feval=custom_rmse_asymmetric_valid)\n",
    "\n",
    "\n",
    "y_pred = gbm.predict(x_pred)"
   ]
  },
  {
   "cell_type": "markdown",
   "metadata": {},
   "source": [
    "# Training Analysis"
   ]
  },
  {
   "cell_type": "code",
   "execution_count": 7,
   "metadata": {
    "ExecuteTime": {
     "end_time": "2020-04-10T21:50:41.360405Z",
     "start_time": "2020-04-10T21:50:41.168880Z"
    }
   },
   "outputs": [
    {
     "name": "stdout",
     "output_type": "stream",
     "text": [
      "Plotting metrics recorded during training...\n"
     ]
    },
    {
     "data": {
      "image/png": "[encoded data removed]",
      "text/plain": [
       "<Figure size 432x288 with 1 Axes>"
      ]
     },
     "metadata": {
      "needs_background": "light"
     },
     "output_type": "display_data"
    }
   ],
   "source": [
    "print('Plotting metrics recorded during training...')\n",
    "ax = lgb.plot_metric(evals_result)\n",
    "plt.show()"
   ]
  },
  {
   "cell_type": "code",
   "execution_count": 8,
   "metadata": {
    "ExecuteTime": {
     "end_time": "2020-04-10T21:50:41.526954Z",
     "start_time": "2020-04-10T21:50:41.361367Z"
    }
   },
   "outputs": [
    {
     "name": "stdout",
     "output_type": "stream",
     "text": [
      "Plotting feature importances...\n"
     ]
    },
    {
     "data": {
      "image/png": "[encoded data removed]",
      "text/plain": [
       "<Figure size 720x576 with 1 Axes>"
      ]
     },
     "metadata": {
      "needs_background": "light"
     },
     "output_type": "display_data"
    }
   ],
   "source": [
    "print('Plotting feature importances...')\n",
    "ax = lgb.plot_importance(gbm, figsize=(10,8))\n",
    "plt.show()"
   ]
  },
  {
   "cell_type": "markdown",
   "metadata": {},
   "source": [
    "# Printout Forecasts"
   ]
  },
  {
   "cell_type": "code",
   "execution_count": 9,
   "metadata": {
    "ExecuteTime": {
     "end_time": "2020-04-10T21:50:41.530944Z",
     "start_time": "2020-04-10T21:50:41.527921Z"
    }
   },
   "outputs": [],
   "source": [
    "# map forecast values to encoded item_ids\n",
    "x_val['y_pred'] = y_pred"
   ]
  },
  {
   "cell_type": "code",
   "execution_count": 10,
   "metadata": {
    "ExecuteTime": {
     "end_time": "2020-04-10T21:50:41.574983Z",
     "start_time": "2020-04-10T21:50:41.531909Z"
    }
   },
   "outputs": [],
   "source": [
    "# map encoded ids to decoded ids\n",
    "id_mapping_table = df_merged[['id', 'item_id', 'store_id']].drop_duplicates()\n",
    "df_results = x_val.merge(id_mapping_table,\n",
    "                         on=['item_id', 'store_id'],\n",
    "                         how='left')[[\n",
    "                             'id', 'item_id', 'store_id', 'year', 'month',\n",
    "                             'day', 'y_pred'\n",
    "                         ]]"
   ]
  },
  {
   "cell_type": "code",
   "execution_count": 11,
   "metadata": {
    "ExecuteTime": {
     "end_time": "2020-04-10T21:50:41.756557Z",
     "start_time": "2020-04-10T21:50:41.575984Z"
    }
   },
   "outputs": [],
   "source": [
    "# create dict with IDs and forecasts\n",
    "submission_dict = {}\n",
    "\n",
    "for i, df in df_results.groupby(['id']):\n",
    "    df = df.reset_index(drop=True)\n",
    "    submission_dict[i] = df['y_pred']"
   ]
  },
  {
   "cell_type": "code",
   "execution_count": 12,
   "metadata": {
    "ExecuteTime": {
     "end_time": "2020-04-10T21:50:41.803490Z",
     "start_time": "2020-04-10T21:50:41.757497Z"
    }
   },
   "outputs": [
    {
     "data": {
      "text/html": [
       "<div>\n",
       "<style scoped>\n",
       "    .dataframe tbody tr th:only-of-type {\n",
       "        vertical-align: middle;\n",
       "    }\n",
       "\n",
       "    .dataframe tbody tr th {\n",
       "        vertical-align: top;\n",
       "    }\n",
       "\n",
       "    .dataframe thead th {\n",
       "        text-align: right;\n",
       "    }\n",
       "</style>\n",
       "<table border=\"1\" class=\"dataframe\">\n",
       "  <thead>\n",
       "    <tr style=\"text-align: right;\">\n",
       "      <th></th>\n",
       "      <th>id</th>\n",
       "      <th>F1</th>\n",
       "      <th>F2</th>\n",
       "      <th>F3</th>\n",
       "      <th>F4</th>\n",
       "      <th>F5</th>\n",
       "      <th>F6</th>\n",
       "      <th>F7</th>\n",
       "      <th>F8</th>\n",
       "      <th>F9</th>\n",
       "      <th>...</th>\n",
       "      <th>F19</th>\n",
       "      <th>F20</th>\n",
       "      <th>F21</th>\n",
       "      <th>F22</th>\n",
       "      <th>F23</th>\n",
       "      <th>F24</th>\n",
       "      <th>F25</th>\n",
       "      <th>F26</th>\n",
       "      <th>F27</th>\n",
       "      <th>F28</th>\n",
       "    </tr>\n",
       "  </thead>\n",
       "  <tbody>\n",
       "    <tr>\n",
       "      <th>0</th>\n",
       "      <td>HOBBIES_1_001_TX_2_validation</td>\n",
       "      <td>0.231129</td>\n",
       "      <td>0.231129</td>\n",
       "      <td>0.231129</td>\n",
       "      <td>0.294196</td>\n",
       "      <td>0.294196</td>\n",
       "      <td>0.365328</td>\n",
       "      <td>0.365328</td>\n",
       "      <td>0.356902</td>\n",
       "      <td>0.356902</td>\n",
       "      <td>...</td>\n",
       "      <td>0.356902</td>\n",
       "      <td>0.365328</td>\n",
       "      <td>0.365328</td>\n",
       "      <td>0.356902</td>\n",
       "      <td>0.356902</td>\n",
       "      <td>0.425831</td>\n",
       "      <td>0.425831</td>\n",
       "      <td>0.425831</td>\n",
       "      <td>0.302622</td>\n",
       "      <td>0.302622</td>\n",
       "    </tr>\n",
       "    <tr>\n",
       "      <th>1</th>\n",
       "      <td>HOBBIES_1_002_TX_2_validation</td>\n",
       "      <td>0.187945</td>\n",
       "      <td>0.187945</td>\n",
       "      <td>0.187945</td>\n",
       "      <td>0.187945</td>\n",
       "      <td>0.187945</td>\n",
       "      <td>0.196371</td>\n",
       "      <td>0.196371</td>\n",
       "      <td>0.187945</td>\n",
       "      <td>0.187945</td>\n",
       "      <td>...</td>\n",
       "      <td>0.187945</td>\n",
       "      <td>0.196371</td>\n",
       "      <td>0.196371</td>\n",
       "      <td>0.187945</td>\n",
       "      <td>0.187945</td>\n",
       "      <td>0.187945</td>\n",
       "      <td>0.187945</td>\n",
       "      <td>0.187945</td>\n",
       "      <td>0.196371</td>\n",
       "      <td>0.212543</td>\n",
       "    </tr>\n",
       "    <tr>\n",
       "      <th>2</th>\n",
       "      <td>HOBBIES_1_003_TX_2_validation</td>\n",
       "      <td>0.187945</td>\n",
       "      <td>0.187945</td>\n",
       "      <td>0.187945</td>\n",
       "      <td>0.187945</td>\n",
       "      <td>0.187945</td>\n",
       "      <td>0.196371</td>\n",
       "      <td>0.196371</td>\n",
       "      <td>0.187945</td>\n",
       "      <td>0.187945</td>\n",
       "      <td>...</td>\n",
       "      <td>0.187945</td>\n",
       "      <td>0.196371</td>\n",
       "      <td>0.196371</td>\n",
       "      <td>0.187945</td>\n",
       "      <td>0.187945</td>\n",
       "      <td>0.187945</td>\n",
       "      <td>0.187945</td>\n",
       "      <td>0.187945</td>\n",
       "      <td>0.196371</td>\n",
       "      <td>0.196371</td>\n",
       "    </tr>\n",
       "    <tr>\n",
       "      <th>3</th>\n",
       "      <td>HOBBIES_1_004_TX_2_validation</td>\n",
       "      <td>1.147056</td>\n",
       "      <td>1.094963</td>\n",
       "      <td>1.205352</td>\n",
       "      <td>1.209172</td>\n",
       "      <td>1.205352</td>\n",
       "      <td>1.205352</td>\n",
       "      <td>1.157079</td>\n",
       "      <td>1.147056</td>\n",
       "      <td>1.157079</td>\n",
       "      <td>...</td>\n",
       "      <td>1.205352</td>\n",
       "      <td>1.094963</td>\n",
       "      <td>1.157079</td>\n",
       "      <td>1.147056</td>\n",
       "      <td>1.205352</td>\n",
       "      <td>1.157079</td>\n",
       "      <td>1.267467</td>\n",
       "      <td>1.094963</td>\n",
       "      <td>1.094963</td>\n",
       "      <td>1.209172</td>\n",
       "    </tr>\n",
       "    <tr>\n",
       "      <th>4</th>\n",
       "      <td>HOBBIES_1_005_TX_2_validation</td>\n",
       "      <td>0.734363</td>\n",
       "      <td>0.734363</td>\n",
       "      <td>0.734363</td>\n",
       "      <td>0.755271</td>\n",
       "      <td>0.734363</td>\n",
       "      <td>0.742789</td>\n",
       "      <td>0.742789</td>\n",
       "      <td>0.734363</td>\n",
       "      <td>0.734363</td>\n",
       "      <td>...</td>\n",
       "      <td>0.755271</td>\n",
       "      <td>0.763696</td>\n",
       "      <td>0.763696</td>\n",
       "      <td>0.755271</td>\n",
       "      <td>0.755271</td>\n",
       "      <td>0.755271</td>\n",
       "      <td>0.579731</td>\n",
       "      <td>0.579731</td>\n",
       "      <td>0.670129</td>\n",
       "      <td>0.588157</td>\n",
       "    </tr>\n",
       "    <tr>\n",
       "      <th>5</th>\n",
       "      <td>HOBBIES_1_006_TX_2_validation</td>\n",
       "      <td>0.485911</td>\n",
       "      <td>0.485911</td>\n",
       "      <td>0.513798</td>\n",
       "      <td>0.595126</td>\n",
       "      <td>0.666676</td>\n",
       "      <td>0.675101</td>\n",
       "      <td>0.675101</td>\n",
       "      <td>0.595126</td>\n",
       "      <td>0.595126</td>\n",
       "      <td>...</td>\n",
       "      <td>0.485911</td>\n",
       "      <td>0.494336</td>\n",
       "      <td>0.494336</td>\n",
       "      <td>0.485911</td>\n",
       "      <td>0.485911</td>\n",
       "      <td>0.485911</td>\n",
       "      <td>0.485911</td>\n",
       "      <td>0.485911</td>\n",
       "      <td>0.494336</td>\n",
       "      <td>0.522224</td>\n",
       "    </tr>\n",
       "    <tr>\n",
       "      <th>6</th>\n",
       "      <td>HOBBIES_1_007_TX_2_validation</td>\n",
       "      <td>0.187945</td>\n",
       "      <td>0.187945</td>\n",
       "      <td>0.187945</td>\n",
       "      <td>0.187945</td>\n",
       "      <td>0.187945</td>\n",
       "      <td>0.196371</td>\n",
       "      <td>0.196371</td>\n",
       "      <td>0.187945</td>\n",
       "      <td>0.187945</td>\n",
       "      <td>...</td>\n",
       "      <td>0.204117</td>\n",
       "      <td>0.212543</td>\n",
       "      <td>0.239555</td>\n",
       "      <td>0.231129</td>\n",
       "      <td>0.231129</td>\n",
       "      <td>0.231129</td>\n",
       "      <td>0.231129</td>\n",
       "      <td>0.204117</td>\n",
       "      <td>0.212543</td>\n",
       "      <td>0.212543</td>\n",
       "    </tr>\n",
       "    <tr>\n",
       "      <th>7</th>\n",
       "      <td>HOBBIES_1_008_TX_2_validation</td>\n",
       "      <td>1.890569</td>\n",
       "      <td>2.603499</td>\n",
       "      <td>2.094394</td>\n",
       "      <td>1.985709</td>\n",
       "      <td>2.103897</td>\n",
       "      <td>2.298571</td>\n",
       "      <td>2.150172</td>\n",
       "      <td>2.020656</td>\n",
       "      <td>2.647167</td>\n",
       "      <td>...</td>\n",
       "      <td>1.910671</td>\n",
       "      <td>2.215616</td>\n",
       "      <td>2.806539</td>\n",
       "      <td>4.397353</td>\n",
       "      <td>2.162205</td>\n",
       "      <td>2.314908</td>\n",
       "      <td>2.319380</td>\n",
       "      <td>2.774269</td>\n",
       "      <td>2.878319</td>\n",
       "      <td>2.801446</td>\n",
       "    </tr>\n",
       "    <tr>\n",
       "      <th>8</th>\n",
       "      <td>HOBBIES_1_009_TX_2_validation</td>\n",
       "      <td>0.388765</td>\n",
       "      <td>0.388765</td>\n",
       "      <td>0.306032</td>\n",
       "      <td>0.306032</td>\n",
       "      <td>0.306032</td>\n",
       "      <td>0.314458</td>\n",
       "      <td>0.397190</td>\n",
       "      <td>0.413404</td>\n",
       "      <td>0.413404</td>\n",
       "      <td>...</td>\n",
       "      <td>0.413404</td>\n",
       "      <td>0.449717</td>\n",
       "      <td>0.510721</td>\n",
       "      <td>0.502296</td>\n",
       "      <td>0.502296</td>\n",
       "      <td>0.502296</td>\n",
       "      <td>0.502296</td>\n",
       "      <td>0.502296</td>\n",
       "      <td>0.510721</td>\n",
       "      <td>0.510721</td>\n",
       "    </tr>\n",
       "    <tr>\n",
       "      <th>9</th>\n",
       "      <td>HOBBIES_1_010_TX_2_validation</td>\n",
       "      <td>0.631234</td>\n",
       "      <td>0.631234</td>\n",
       "      <td>0.631234</td>\n",
       "      <td>0.631234</td>\n",
       "      <td>0.631234</td>\n",
       "      <td>0.639660</td>\n",
       "      <td>0.639660</td>\n",
       "      <td>0.631234</td>\n",
       "      <td>0.631234</td>\n",
       "      <td>...</td>\n",
       "      <td>0.631234</td>\n",
       "      <td>0.639660</td>\n",
       "      <td>0.639660</td>\n",
       "      <td>0.631234</td>\n",
       "      <td>0.631234</td>\n",
       "      <td>0.631234</td>\n",
       "      <td>0.631234</td>\n",
       "      <td>0.631234</td>\n",
       "      <td>0.639660</td>\n",
       "      <td>0.639660</td>\n",
       "    </tr>\n",
       "  </tbody>\n",
       "</table>\n",
       "<p>10 rows × 29 columns</p>\n",
       "</div>"
      ],
      "text/plain": [
       "                              id        F1        F2        F3        F4  \\\n",
       "0  HOBBIES_1_001_TX_2_validation  0.231129  0.231129  0.231129  0.294196   \n",
       "1  HOBBIES_1_002_TX_2_validation  0.187945  0.187945  0.187945  0.187945   \n",
       "2  HOBBIES_1_003_TX_2_validation  0.187945  0.187945  0.187945  0.187945   \n",
       "3  HOBBIES_1_004_TX_2_validation  1.147056  1.094963  1.205352  1.209172   \n",
       "4  HOBBIES_1_005_TX_2_validation  0.734363  0.734363  0.734363  0.755271   \n",
       "5  HOBBIES_1_006_TX_2_validation  0.485911  0.485911  0.513798  0.595126   \n",
       "6  HOBBIES_1_007_TX_2_validation  0.187945  0.187945  0.187945  0.187945   \n",
       "7  HOBBIES_1_008_TX_2_validation  1.890569  2.603499  2.094394  1.985709   \n",
       "8  HOBBIES_1_009_TX_2_validation  0.388765  0.388765  0.306032  0.306032   \n",
       "9  HOBBIES_1_010_TX_2_validation  0.631234  0.631234  0.631234  0.631234   \n",
       "\n",
       "         F5        F6        F7        F8        F9  ...       F19       F20  \\\n",
       "0  0.294196  0.365328  0.365328  0.356902  0.356902  ...  0.356902  0.365328   \n",
       "1  0.187945  0.196371  0.196371  0.187945  0.187945  ...  0.187945  0.196371   \n",
       "2  0.187945  0.196371  0.196371  0.187945  0.187945  ...  0.187945  0.196371   \n",
       "3  1.205352  1.205352  1.157079  1.147056  1.157079  ...  1.205352  1.094963   \n",
       "4  0.734363  0.742789  0.742789  0.734363  0.734363  ...  0.755271  0.763696   \n",
       "5  0.666676  0.675101  0.675101  0.595126  0.595126  ...  0.485911  0.494336   \n",
       "6  0.187945  0.196371  0.196371  0.187945  0.187945  ...  0.204117  0.212543   \n",
       "7  2.103897  2.298571  2.150172  2.020656  2.647167  ...  1.910671  2.215616   \n",
       "8  0.306032  0.314458  0.397190  0.413404  0.413404  ...  0.413404  0.449717   \n",
       "9  0.631234  0.639660  0.639660  0.631234  0.631234  ...  0.631234  0.639660   \n",
       "\n",
       "        F21       F22       F23       F24       F25       F26       F27  \\\n",
       "0  0.365328  0.356902  0.356902  0.425831  0.425831  0.425831  0.302622   \n",
       "1  0.196371  0.187945  0.187945  0.187945  0.187945  0.187945  0.196371   \n",
       "2  0.196371  0.187945  0.187945  0.187945  0.187945  0.187945  0.196371   \n",
       "3  1.157079  1.147056  1.205352  1.157079  1.267467  1.094963  1.094963   \n",
       "4  0.763696  0.755271  0.755271  0.755271  0.579731  0.579731  0.670129   \n",
       "5  0.494336  0.485911  0.485911  0.485911  0.485911  0.485911  0.494336   \n",
       "6  0.239555  0.231129  0.231129  0.231129  0.231129  0.204117  0.212543   \n",
       "7  2.806539  4.397353  2.162205  2.314908  2.319380  2.774269  2.878319   \n",
       "8  0.510721  0.502296  0.502296  0.502296  0.502296  0.502296  0.510721   \n",
       "9  0.639660  0.631234  0.631234  0.631234  0.631234  0.631234  0.639660   \n",
       "\n",
       "        F28  \n",
       "0  0.302622  \n",
       "1  0.212543  \n",
       "2  0.196371  \n",
       "3  1.209172  \n",
       "4  0.588157  \n",
       "5  0.522224  \n",
       "6  0.212543  \n",
       "7  2.801446  \n",
       "8  0.510721  \n",
       "9  0.639660  \n",
       "\n",
       "[10 rows x 29 columns]"
      ]
     },
     "execution_count": 12,
     "metadata": {},
     "output_type": "execute_result"
    }
   ],
   "source": [
    "# convert dict to dataframe\n",
    "submission_df = pd.DataFrame(submission_dict).T\n",
    "submission_df = submission_df.clip(lower=0) # Convert negative values to 0\n",
    "submission_df.reset_index(level=0, inplace=True)\n",
    "submission_df.columns = ['id'] + [f'F{di}' for di in list(range(1, 29))]\n",
    "submission_df.head(10)"
   ]
  },
  {
   "cell_type": "markdown",
   "metadata": {},
   "source": [
    "# Submit to Kaggle "
   ]
  },
  {
   "cell_type": "code",
   "execution_count": 13,
   "metadata": {
    "ExecuteTime": {
     "end_time": "2020-04-10T21:50:41.809442Z",
     "start_time": "2020-04-10T21:50:41.804454Z"
    }
   },
   "outputs": [],
   "source": [
    "if submit_to_kaggle:\n",
    "    # Bring data to Kaggel's required form (evaluation & validation)\n",
    "    df_submission = submission_df.append(\n",
    "        submission_df.replace(to_replace='validation', value='evaluation',\n",
    "                              regex=True))\n",
    "    filename = utils.get_m5_root_dir(\n",
    "    ) + '/data/submissions/gradient_boosting_regressor_v_2_5.csv'\n",
    "    df_submission.to_csv(filename, index=False)\n",
    "    \n",
    "\n",
    "    # Submit via Kaggle API or with website https://www.kaggle.com/c/m5-forecasting-accuracy/submissions\n",
    "    !kaggle competitions submit -c m5-forecasting-accuracy -f data/submissions/gradient_boosting_regressor_v_2_5.csv -m \"asymetric loss with factor 1.1 if res > 1\"\n"
   ]
  }
 ],
 "metadata": {
  "kernelspec": {
   "display_name": "Python 3",
   "language": "python",
   "name": "python3"
  },
  "language_info": {
   "codemirror_mode": {
    "name": "ipython",
    "version": 3
   },
   "file_extension": ".py",
   "mimetype": "text/x-python",
   "name": "python",
   "nbconvert_exporter": "python",
   "pygments_lexer": "ipython3",
   "version": "3.7.6"
  }
 },
 "nbformat": 4,
 "nbformat_minor": 4
}
