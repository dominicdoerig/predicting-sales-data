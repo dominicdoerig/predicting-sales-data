{
 "cells": [
  {
   "cell_type": "markdown",
   "metadata": {},
   "source": [
    "# Define Running Mode"
   ]
  },
  {
   "cell_type": "markdown",
   "metadata": {},
   "source": [
    "- 'full_dataset = True' to use the full data set. If 'full_dataset = True', then a data set containing only data one year of the hobbies sales in TX2.  \n",
    "    \n",
    "- 'submit_to_kaggle = True' to submit the forecasts to Kaggle.  \n"
   ]
  },
  {
   "cell_type": "code",
   "execution_count": 1,
   "metadata": {
    "ExecuteTime": {
     "end_time": "2020-04-11T15:16:49.162557Z",
     "start_time": "2020-04-11T15:16:49.159566Z"
    }
   },
   "outputs": [],
   "source": [
    "full_dataset = True\n",
    "submit_to_kaggle = False\n"
   ]
  },
  {
   "cell_type": "markdown",
   "metadata": {},
   "source": [
    "# Import Packages"
   ]
  },
  {
   "cell_type": "code",
   "execution_count": 2,
   "metadata": {
    "ExecuteTime": {
     "end_time": "2020-04-11T15:16:51.740914Z",
     "start_time": "2020-04-11T15:16:50.811267Z"
    }
   },
   "outputs": [],
   "source": [
    "import utils\n",
    "import pandas as pd\n",
    "import numpy as np\n",
    "import matplotlib.pyplot as plt\n",
    "from tqdm.notebook import tqdm\n",
    "import time\n",
    "from sklearn.metrics import mean_squared_error\n",
    "import lightgbm as lgb"
   ]
  },
  {
   "cell_type": "markdown",
   "metadata": {},
   "source": [
    "# Data Import and Preparation"
   ]
  },
  {
   "cell_type": "code",
   "execution_count": 3,
   "metadata": {
    "ExecuteTime": {
     "end_time": "2020-04-11T15:20:50.345025Z",
     "start_time": "2020-04-11T15:16:55.637894Z"
    }
   },
   "outputs": [],
   "source": [
    "if full_dataset:\n",
    "    prefix = 'full_dataset'\n",
    "else:\n",
    "    prefix = 'subset'\n",
    "\n",
    "df_merged = pd.read_csv(\n",
    "    f'{utils.get_m5_root_dir()}/data/feature_engineering/{prefix}_df_merged.csv')\n",
    "\n",
    "scaling_factors_rmsse = pd.read_csv(\n",
    "    f'{utils.get_m5_root_dir()}/data/weights/scaling_factors_rmsse.csv')\n",
    "\n",
    "weights_wrmsse = pd.read_csv(\n",
    "    f'{utils.get_m5_root_dir()}/data/weights/weights_for_wrmsse.csv')\n"
   ]
  },
  {
   "cell_type": "code",
   "execution_count": 4,
   "metadata": {
    "ExecuteTime": {
     "end_time": "2020-04-11T15:23:40.332907Z",
     "start_time": "2020-04-11T15:20:50.358982Z"
    }
   },
   "outputs": [
    {
     "name": "stdout",
     "output_type": "stream",
     "text": [
      "Mem. usage of decreased to 4912.94 Mb (64.7% reduction)\n"
     ]
    }
   ],
   "source": [
    "# downcast numerical values to reduce mem usage\n",
    "df_merged = utils.reduce_mem_usage(df_merged)"
   ]
  },
  {
   "cell_type": "markdown",
   "metadata": {},
   "source": [
    "# Model Training & Forecasting (LightGBM)"
   ]
  },
  {
   "cell_type": "code",
   "execution_count": 5,
   "metadata": {
    "ExecuteTime": {
     "end_time": "2020-04-11T15:23:40.823011Z",
     "start_time": "2020-04-11T15:23:40.766779Z"
    }
   },
   "outputs": [],
   "source": [
    "# Custom Loss & valid for asymetric rmse\n",
    "def custom_mse_asymmetric_loss(y_pred, y_true):\n",
    "    y_true = y_true.get_label()\n",
    "    residual = (y_true - y_pred).astype(\"float\")\n",
    "    grad = np.where(residual < 0, -2 * residual, -2 * residual * 1.1)\n",
    "    hess = np.where(residual < 0, 2, 2 * 1.1)\n",
    "    print(grad)\n",
    "    print('grad: ',len(grad))\n",
    "    print('hess: ',len(hess))\n",
    "    return grad, hess\n",
    "\n",
    "\n",
    "def custom_rmse_asymmetric_valid(y_pred, y_true, tmp=None):\n",
    "    y_true = y_true.get_label()\n",
    "    residual = (y_true - y_pred).astype(\"float\")\n",
    "    loss = np.where(residual < 0, (residual ** 2), (residual ** 2) * 1.1)\n",
    "    print('val: ', len(loss))\n",
    "    return \"custom_mse_asymmetric_eval\", np.sqrt(np.mean(loss)), False"
   ]
  },
  {
   "cell_type": "code",
   "execution_count": 6,
   "metadata": {
    "ExecuteTime": {
     "end_time": "2020-04-11T15:23:41.519132Z",
     "start_time": "2020-04-11T15:23:40.840962Z"
    }
   },
   "outputs": [
    {
     "name": "stdout",
     "output_type": "stream",
     "text": [
      "Mem. usage of decreased to  0.41 Mb (30.0% reduction)\n"
     ]
    },
    {
     "data": {
      "text/html": [
       "<div>\n",
       "<style scoped>\n",
       "    .dataframe tbody tr th:only-of-type {\n",
       "        vertical-align: middle;\n",
       "    }\n",
       "\n",
       "    .dataframe tbody tr th {\n",
       "        vertical-align: top;\n",
       "    }\n",
       "\n",
       "    .dataframe thead th {\n",
       "        text-align: right;\n",
       "    }\n",
       "</style>\n",
       "<table border=\"1\" class=\"dataframe\">\n",
       "  <thead>\n",
       "    <tr style=\"text-align: right;\">\n",
       "      <th></th>\n",
       "      <th>id</th>\n",
       "      <th>scaling_factor</th>\n",
       "      <th>item_id</th>\n",
       "    </tr>\n",
       "  </thead>\n",
       "  <tbody>\n",
       "    <tr>\n",
       "      <th>0</th>\n",
       "      <td>FOODS_1_001_CA_1_validation</td>\n",
       "      <td>2.764876</td>\n",
       "      <td>0</td>\n",
       "    </tr>\n",
       "    <tr>\n",
       "      <th>1</th>\n",
       "      <td>FOODS_1_001_CA_2_validation</td>\n",
       "      <td>5.288273</td>\n",
       "      <td>1</td>\n",
       "    </tr>\n",
       "    <tr>\n",
       "      <th>2</th>\n",
       "      <td>FOODS_1_001_CA_3_validation</td>\n",
       "      <td>10.082611</td>\n",
       "      <td>2</td>\n",
       "    </tr>\n",
       "    <tr>\n",
       "      <th>3</th>\n",
       "      <td>FOODS_1_001_CA_4_validation</td>\n",
       "      <td>0.976892</td>\n",
       "      <td>3</td>\n",
       "    </tr>\n",
       "    <tr>\n",
       "      <th>4</th>\n",
       "      <td>FOODS_1_001_TX_1_validation</td>\n",
       "      <td>3.630271</td>\n",
       "      <td>4</td>\n",
       "    </tr>\n",
       "  </tbody>\n",
       "</table>\n",
       "</div>"
      ],
      "text/plain": [
       "                            id  scaling_factor  item_id\n",
       "0  FOODS_1_001_CA_1_validation        2.764876        0\n",
       "1  FOODS_1_001_CA_2_validation        5.288273        1\n",
       "2  FOODS_1_001_CA_3_validation       10.082611        2\n",
       "3  FOODS_1_001_CA_4_validation        0.976892        3\n",
       "4  FOODS_1_001_TX_1_validation        3.630271        4"
      ]
     },
     "execution_count": 6,
     "metadata": {},
     "output_type": "execute_result"
    }
   ],
   "source": [
    "scaling_factors_rmsse['item_id'] = scaling_factors_rmsse['id']\n",
    "scaling_factors_rmsse = utils.encode_categorical(scaling_factors_rmsse,\n",
    "                                                 cols=['item_id'],\n",
    "                                                 fillna=True)\n",
    "scaling_factors_rmsse.head(5)"
   ]
  },
  {
   "cell_type": "code",
   "execution_count": 7,
   "metadata": {
    "ExecuteTime": {
     "end_time": "2020-04-11T15:23:41.840513Z",
     "start_time": "2020-04-11T15:23:41.580982Z"
    }
   },
   "outputs": [
    {
     "name": "stdout",
     "output_type": "stream",
     "text": [
      "Mem. usage of decreased to  0.41 Mb (30.0% reduction)\n"
     ]
    },
    {
     "data": {
      "text/html": [
       "<div>\n",
       "<style scoped>\n",
       "    .dataframe tbody tr th:only-of-type {\n",
       "        vertical-align: middle;\n",
       "    }\n",
       "\n",
       "    .dataframe tbody tr th {\n",
       "        vertical-align: top;\n",
       "    }\n",
       "\n",
       "    .dataframe thead th {\n",
       "        text-align: right;\n",
       "    }\n",
       "</style>\n",
       "<table border=\"1\" class=\"dataframe\">\n",
       "  <thead>\n",
       "    <tr style=\"text-align: right;\">\n",
       "      <th></th>\n",
       "      <th>id</th>\n",
       "      <th>weights</th>\n",
       "      <th>item_id</th>\n",
       "    </tr>\n",
       "  </thead>\n",
       "  <tbody>\n",
       "    <tr>\n",
       "      <th>0</th>\n",
       "      <td>FOODS_1_001_CA_1_validation</td>\n",
       "      <td>1.972157e-05</td>\n",
       "      <td>0</td>\n",
       "    </tr>\n",
       "    <tr>\n",
       "      <th>1</th>\n",
       "      <td>FOODS_1_001_CA_2_validation</td>\n",
       "      <td>1.852633e-05</td>\n",
       "      <td>1</td>\n",
       "    </tr>\n",
       "    <tr>\n",
       "      <th>2</th>\n",
       "      <td>FOODS_1_001_CA_3_validation</td>\n",
       "      <td>1.434296e-05</td>\n",
       "      <td>2</td>\n",
       "    </tr>\n",
       "    <tr>\n",
       "      <th>3</th>\n",
       "      <td>FOODS_1_001_CA_4_validation</td>\n",
       "      <td>5.378610e-06</td>\n",
       "      <td>3</td>\n",
       "    </tr>\n",
       "    <tr>\n",
       "      <th>4</th>\n",
       "      <td>FOODS_1_001_TX_1_validation</td>\n",
       "      <td>5.976234e-07</td>\n",
       "      <td>4</td>\n",
       "    </tr>\n",
       "  </tbody>\n",
       "</table>\n",
       "</div>"
      ],
      "text/plain": [
       "                            id       weights  item_id\n",
       "0  FOODS_1_001_CA_1_validation  1.972157e-05        0\n",
       "1  FOODS_1_001_CA_2_validation  1.852633e-05        1\n",
       "2  FOODS_1_001_CA_3_validation  1.434296e-05        2\n",
       "3  FOODS_1_001_CA_4_validation  5.378610e-06        3\n",
       "4  FOODS_1_001_TX_1_validation  5.976234e-07        4"
      ]
     },
     "execution_count": 7,
     "metadata": {},
     "output_type": "execute_result"
    }
   ],
   "source": [
    "weights_wrmsse['item_id'] = weights_wrmsse['id']\n",
    "weights_wrmsse = utils.encode_categorical(weights_wrmsse,\n",
    "                                                 cols=['item_id'],\n",
    "                                                 fillna=True)\n",
    "weights_wrmsse.head(5)"
   ]
  },
  {
   "cell_type": "code",
   "execution_count": 8,
   "metadata": {
    "ExecuteTime": {
     "end_time": "2020-04-11T15:26:18.040687Z",
     "start_time": "2020-04-11T15:23:41.842494Z"
    }
   },
   "outputs": [
    {
     "data": {
      "text/html": [
       "<div>\n",
       "<style scoped>\n",
       "    .dataframe tbody tr th:only-of-type {\n",
       "        vertical-align: middle;\n",
       "    }\n",
       "\n",
       "    .dataframe tbody tr th {\n",
       "        vertical-align: top;\n",
       "    }\n",
       "\n",
       "    .dataframe thead th {\n",
       "        text-align: right;\n",
       "    }\n",
       "</style>\n",
       "<table border=\"1\" class=\"dataframe\">\n",
       "  <thead>\n",
       "    <tr style=\"text-align: right;\">\n",
       "      <th></th>\n",
       "      <th>id</th>\n",
       "      <th>item_id</th>\n",
       "      <th>dept_id</th>\n",
       "      <th>cat_id</th>\n",
       "      <th>store_id</th>\n",
       "      <th>state_id</th>\n",
       "      <th>d</th>\n",
       "      <th>sale</th>\n",
       "      <th>date</th>\n",
       "      <th>wm_yr_wk</th>\n",
       "      <th>...</th>\n",
       "      <th>rolling_skew_t28</th>\n",
       "      <th>lag_t28</th>\n",
       "      <th>up_for_sale</th>\n",
       "      <th>price_change_t1</th>\n",
       "      <th>price_change_t30</th>\n",
       "      <th>rolling_price_std_t28</th>\n",
       "      <th>is_weekend</th>\n",
       "      <th>day</th>\n",
       "      <th>scaling_factor</th>\n",
       "      <th>weights</th>\n",
       "    </tr>\n",
       "  </thead>\n",
       "  <tbody>\n",
       "    <tr>\n",
       "      <th>0</th>\n",
       "      <td>HOBBIES_1_001_CA_1_validation</td>\n",
       "      <td>1437</td>\n",
       "      <td>3</td>\n",
       "      <td>1</td>\n",
       "      <td>0</td>\n",
       "      <td>0</td>\n",
       "      <td>912</td>\n",
       "      <td>0.0</td>\n",
       "      <td>2011-07-29</td>\n",
       "      <td>11126</td>\n",
       "      <td>...</td>\n",
       "      <td>NaN</td>\n",
       "      <td>0.0</td>\n",
       "      <td>0</td>\n",
       "      <td>NaN</td>\n",
       "      <td>NaN</td>\n",
       "      <td>NaN</td>\n",
       "      <td>0</td>\n",
       "      <td>29</td>\n",
       "      <td>2.677643</td>\n",
       "      <td>0.000015</td>\n",
       "    </tr>\n",
       "    <tr>\n",
       "      <th>1</th>\n",
       "      <td>HOBBIES_1_001_CA_2_validation</td>\n",
       "      <td>1437</td>\n",
       "      <td>3</td>\n",
       "      <td>1</td>\n",
       "      <td>1</td>\n",
       "      <td>0</td>\n",
       "      <td>912</td>\n",
       "      <td>0.0</td>\n",
       "      <td>2011-07-29</td>\n",
       "      <td>11126</td>\n",
       "      <td>...</td>\n",
       "      <td>NaN</td>\n",
       "      <td>0.0</td>\n",
       "      <td>0</td>\n",
       "      <td>NaN</td>\n",
       "      <td>NaN</td>\n",
       "      <td>NaN</td>\n",
       "      <td>0</td>\n",
       "      <td>29</td>\n",
       "      <td>2.677643</td>\n",
       "      <td>0.000015</td>\n",
       "    </tr>\n",
       "    <tr>\n",
       "      <th>2</th>\n",
       "      <td>HOBBIES_1_001_CA_3_validation</td>\n",
       "      <td>1437</td>\n",
       "      <td>3</td>\n",
       "      <td>1</td>\n",
       "      <td>2</td>\n",
       "      <td>0</td>\n",
       "      <td>912</td>\n",
       "      <td>0.0</td>\n",
       "      <td>2011-07-29</td>\n",
       "      <td>11126</td>\n",
       "      <td>...</td>\n",
       "      <td>NaN</td>\n",
       "      <td>0.0</td>\n",
       "      <td>0</td>\n",
       "      <td>NaN</td>\n",
       "      <td>NaN</td>\n",
       "      <td>NaN</td>\n",
       "      <td>0</td>\n",
       "      <td>29</td>\n",
       "      <td>2.677643</td>\n",
       "      <td>0.000015</td>\n",
       "    </tr>\n",
       "    <tr>\n",
       "      <th>3</th>\n",
       "      <td>HOBBIES_1_001_CA_4_validation</td>\n",
       "      <td>1437</td>\n",
       "      <td>3</td>\n",
       "      <td>1</td>\n",
       "      <td>3</td>\n",
       "      <td>0</td>\n",
       "      <td>912</td>\n",
       "      <td>0.0</td>\n",
       "      <td>2011-07-29</td>\n",
       "      <td>11126</td>\n",
       "      <td>...</td>\n",
       "      <td>NaN</td>\n",
       "      <td>0.0</td>\n",
       "      <td>0</td>\n",
       "      <td>NaN</td>\n",
       "      <td>NaN</td>\n",
       "      <td>NaN</td>\n",
       "      <td>0</td>\n",
       "      <td>29</td>\n",
       "      <td>2.677643</td>\n",
       "      <td>0.000015</td>\n",
       "    </tr>\n",
       "    <tr>\n",
       "      <th>4</th>\n",
       "      <td>HOBBIES_1_001_TX_1_validation</td>\n",
       "      <td>1437</td>\n",
       "      <td>3</td>\n",
       "      <td>1</td>\n",
       "      <td>4</td>\n",
       "      <td>1</td>\n",
       "      <td>912</td>\n",
       "      <td>0.0</td>\n",
       "      <td>2011-07-29</td>\n",
       "      <td>11126</td>\n",
       "      <td>...</td>\n",
       "      <td>NaN</td>\n",
       "      <td>0.0</td>\n",
       "      <td>0</td>\n",
       "      <td>NaN</td>\n",
       "      <td>NaN</td>\n",
       "      <td>NaN</td>\n",
       "      <td>0</td>\n",
       "      <td>29</td>\n",
       "      <td>2.677643</td>\n",
       "      <td>0.000015</td>\n",
       "    </tr>\n",
       "  </tbody>\n",
       "</table>\n",
       "<p>5 rows × 36 columns</p>\n",
       "</div>"
      ],
      "text/plain": [
       "                              id  item_id  dept_id  cat_id  store_id  \\\n",
       "0  HOBBIES_1_001_CA_1_validation     1437        3       1         0   \n",
       "1  HOBBIES_1_001_CA_2_validation     1437        3       1         1   \n",
       "2  HOBBIES_1_001_CA_3_validation     1437        3       1         2   \n",
       "3  HOBBIES_1_001_CA_4_validation     1437        3       1         3   \n",
       "4  HOBBIES_1_001_TX_1_validation     1437        3       1         4   \n",
       "\n",
       "   state_id    d  sale        date  wm_yr_wk  ... rolling_skew_t28  lag_t28  \\\n",
       "0         0  912   0.0  2011-07-29     11126  ...              NaN      0.0   \n",
       "1         0  912   0.0  2011-07-29     11126  ...              NaN      0.0   \n",
       "2         0  912   0.0  2011-07-29     11126  ...              NaN      0.0   \n",
       "3         0  912   0.0  2011-07-29     11126  ...              NaN      0.0   \n",
       "4         1  912   0.0  2011-07-29     11126  ...              NaN      0.0   \n",
       "\n",
       "   up_for_sale  price_change_t1  price_change_t30  rolling_price_std_t28  \\\n",
       "0            0              NaN               NaN                    NaN   \n",
       "1            0              NaN               NaN                    NaN   \n",
       "2            0              NaN               NaN                    NaN   \n",
       "3            0              NaN               NaN                    NaN   \n",
       "4            0              NaN               NaN                    NaN   \n",
       "\n",
       "   is_weekend  day  scaling_factor   weights  \n",
       "0           0   29        2.677643  0.000015  \n",
       "1           0   29        2.677643  0.000015  \n",
       "2           0   29        2.677643  0.000015  \n",
       "3           0   29        2.677643  0.000015  \n",
       "4           0   29        2.677643  0.000015  \n",
       "\n",
       "[5 rows x 36 columns]"
      ]
     },
     "execution_count": 8,
     "metadata": {},
     "output_type": "execute_result"
    }
   ],
   "source": [
    "df_merged = df_merged.merge(\n",
    "    scaling_factors_rmsse[['item_id', 'scaling_factor']], on='item_id').merge(\n",
    "    weights_wrmsse[['item_id', 'weights']], on='item_id')\n",
    "df_merged.head(5)"
   ]
  },
  {
   "cell_type": "code",
   "execution_count": 27,
   "metadata": {
    "ExecuteTime": {
     "end_time": "2020-04-11T16:13:28.900894Z",
     "start_time": "2020-04-11T16:13:28.890906Z"
    }
   },
   "outputs": [],
   "source": [
    "# TODO: proper feature selection (e.g. random forrest)\n",
    "# for now: hardcoded list of features\n",
    "\n",
    "cat_features = [\n",
    "    'item_id',\n",
    "    'dept_id',\n",
    "    'cat_id',\n",
    "    'store_id',\n",
    "    'state_id',\n",
    "    'year',\n",
    "    'month',\n",
    "    'day',\n",
    "    'is_weekend',\n",
    "    'wday',\n",
    "    'event_name_1',\n",
    "    'event_type_1',\n",
    "    'event_name_2',\n",
    "    'event_type_2',\n",
    "    'snap_CA',\n",
    "    'snap_TX',\n",
    "    'snap_WI',\n",
    "    'up_for_sale'\n",
    "]\n",
    "\n",
    "num_features = [\n",
    "    'sell_price',\n",
    "    'lag_t28',\n",
    "    'rolling_kurt_t28',\n",
    "    'rolling_skew_t28',\n",
    "    'rolling_mean_t28',\n",
    "    'rolling_std_t28',\n",
    "    'price_change_t1',\n",
    "    'price_change_t30',\n",
    "    'rolling_price_std_t28',\n",
    "]\n",
    "\n",
    "features = cat_features + num_features"
   ]
  },
  {
   "cell_type": "code",
   "execution_count": 28,
   "metadata": {
    "ExecuteTime": {
     "end_time": "2020-04-11T16:23:36.738376Z",
     "start_time": "2020-04-11T16:13:28.902874Z"
    }
   },
   "outputs": [
    {
     "name": "stdout",
     "output_type": "stream",
     "text": [
      "(51954960, 27)\n",
      "(51954960,)\n",
      "(51954960,)\n",
      "(51954960,)\n",
      "(853720, 27)\n",
      "(853720,)\n",
      "(853720,)\n",
      "(853720,)\n",
      "(853720, 27)\n"
     ]
    }
   ],
   "source": [
    "x_train = df_merged[df_merged['date'] <= '2016-03-27'][features]\n",
    "y_train = df_merged[df_merged['date'] <= '2016-03-27']['sale']\n",
    "scaling_train = df_merged[df_merged['date'] <= '2016-03-27']['scaling_factor'].to_numpy()\n",
    "weights_train = df_merged[df_merged['date'] <= '2016-03-27']['weights'].to_numpy()\n",
    "\n",
    "\n",
    "x_val = df_merged.loc[df_merged['data_type'] ==\n",
    "                      'train'].loc[df_merged['date'] > '2016-03-27'][features]\n",
    "y_val = df_merged.loc[df_merged['data_type'] ==\n",
    "                      'train'].loc[df_merged['date'] > '2016-03-27']['sale']\n",
    "scaling_val = df_merged.loc[df_merged['data_type'] ==\n",
    "                      'train'].loc[df_merged['date'] > '2016-03-27']['scaling_factor'].to_numpy()\n",
    "weights_val = df_merged.loc[df_merged['data_type'] ==\n",
    "                      'train'].loc[df_merged['date'] > '2016-03-27']['weights'].to_numpy()\n",
    "\n",
    "x_pred = df_merged[(df_merged['data_type'] == 'validation')][features]\n",
    "\n",
    "\n",
    "print(x_train.shape)\n",
    "print(y_train.shape)\n",
    "print(scaling_train.shape)\n",
    "print(weights_train.shape)\n",
    "print(x_val.shape)\n",
    "print(y_val.shape)\n",
    "print(scaling_val.shape)\n",
    "print(weights_val.shape)\n",
    "print(x_pred.shape)"
   ]
  },
  {
   "cell_type": "code",
   "execution_count": 29,
   "metadata": {
    "ExecuteTime": {
     "end_time": "2020-04-11T16:23:36.787523Z",
     "start_time": "2020-04-11T16:23:36.753319Z"
    }
   },
   "outputs": [],
   "source": [
    "# Custom Loss & valid for scaled rmse (rmsse)\n",
    "def custom_msse_loss(y_pred, y_true):\n",
    "    y_true = y_true.get_label()\n",
    "    residual = (y_true - y_pred).astype(\"float\")\n",
    "    \n",
    "    grad = np.array(-2 * residual / scaling_train)\n",
    "    hess = 2/scaling_train\n",
    "\n",
    "    return grad, hess\n",
    "\n",
    "\n",
    "def custom_rmsse_valid(y_pred, y_true, tmp=None):\n",
    "    y_true = y_true.get_label()\n",
    "    residual = (y_true - y_pred).astype(\"float\")\n",
    "    loss = residual ** 2\n",
    "    \n",
    "    if len(residual) in [89270, 51954960]: # len = 89270 for validation sub set\n",
    "        factor = scaling_train\n",
    "    else:\n",
    "        factor = scaling_val\n",
    "    scaled_loss = loss / factor\n",
    "    return \"custom_rmsse_valid\", np.sqrt(np.mean(scaled_loss)), False"
   ]
  },
  {
   "cell_type": "code",
   "execution_count": 30,
   "metadata": {
    "ExecuteTime": {
     "end_time": "2020-04-11T16:23:36.813341Z",
     "start_time": "2020-04-11T16:23:36.788520Z"
    }
   },
   "outputs": [],
   "source": [
    "# create datasets\n",
    "train_data = lgb.Dataset(x_train, label=y_train,\n",
    "                         categorical_feature=cat_features, free_raw_data=False,\n",
    "                       # weight=weights_train\n",
    "                       )\n",
    "validation_data = lgb.Dataset(\n",
    "    x_val, label=y_val, categorical_feature=cat_features, free_raw_data=False, reference=train_data,\n",
    "       # weight=weights_val\n",
    ")"
   ]
  },
  {
   "cell_type": "code",
   "execution_count": 31,
   "metadata": {
    "ExecuteTime": {
     "end_time": "2020-04-11T16:48:59.085626Z",
     "start_time": "2020-04-11T16:23:36.815335Z"
    }
   },
   "outputs": [
    {
     "name": "stderr",
     "output_type": "stream",
     "text": [
      "c:\\users\\domin\\anaconda3\\envs\\predicting-sales-data\\lib\\site-packages\\lightgbm\\basic.py:1291: UserWarning: Using categorical_feature in Dataset.\n",
      "  warnings.warn('Using categorical_feature in Dataset.')\n"
     ]
    },
    {
     "name": "stdout",
     "output_type": "stream",
     "text": [
      "Training until validation scores don't improve for 20 rounds\n",
      "[25]\ttraining's custom_rmsse_valid: 2.22861\tvalid_1's custom_rmsse_valid: 2.05006\n",
      "[50]\ttraining's custom_rmsse_valid: 1.99309\tvalid_1's custom_rmsse_valid: 1.79818\n",
      "[75]\ttraining's custom_rmsse_valid: 1.91803\tvalid_1's custom_rmsse_valid: 1.7275\n",
      "[100]\ttraining's custom_rmsse_valid: 1.88645\tvalid_1's custom_rmsse_valid: 1.70459\n",
      "[125]\ttraining's custom_rmsse_valid: 1.86728\tvalid_1's custom_rmsse_valid: 1.696\n",
      "[150]\ttraining's custom_rmsse_valid: 1.85341\tvalid_1's custom_rmsse_valid: 1.69216\n",
      "[175]\ttraining's custom_rmsse_valid: 1.84324\tvalid_1's custom_rmsse_valid: 1.6887\n",
      "[200]\ttraining's custom_rmsse_valid: 1.83459\tvalid_1's custom_rmsse_valid: 1.68708\n",
      "[225]\ttraining's custom_rmsse_valid: 1.82731\tvalid_1's custom_rmsse_valid: 1.68512\n",
      "[250]\ttraining's custom_rmsse_valid: 1.82134\tvalid_1's custom_rmsse_valid: 1.68351\n",
      "[275]\ttraining's custom_rmsse_valid: 1.81608\tvalid_1's custom_rmsse_valid: 1.68313\n",
      "[300]\ttraining's custom_rmsse_valid: 1.81057\tvalid_1's custom_rmsse_valid: 1.68263\n",
      "[325]\ttraining's custom_rmsse_valid: 1.80552\tvalid_1's custom_rmsse_valid: 1.68216\n",
      "[350]\ttraining's custom_rmsse_valid: 1.80088\tvalid_1's custom_rmsse_valid: 1.68225\n",
      "[375]\ttraining's custom_rmsse_valid: 1.79552\tvalid_1's custom_rmsse_valid: 1.68168\n",
      "Early stopping, best iteration is:\n",
      "[378]\ttraining's custom_rmsse_valid: 1.7949\tvalid_1's custom_rmsse_valid: 1.68157\n"
     ]
    }
   ],
   "source": [
    "params = {\n",
    "    'boosting_type': 'gbdt',\n",
    "    'objective': 'regression',\n",
    "    'seed': 10,\n",
    "    'learning_rate': 0.03,\n",
    "    'bagging_fraction': 0.75,\n",
    "    'bagging_freq': 10,\n",
    "    'max_bin': 128,\n",
    "    'feature_fraction ': 0.75,\n",
    "}\n",
    "\n",
    "evals_result = {}  # to record eval results for plotting\n",
    "\n",
    "gbm = lgb.train(params, train_data, valid_sets=[train_data, validation_data],\n",
    "                evals_result=evals_result, num_boost_round=1000,\n",
    "                verbose_eval=25, early_stopping_rounds=20,\n",
    "                fobj=custom_msse_loss,\n",
    "                feval=custom_rmsse_valid\n",
    "               )\n",
    "\n",
    "\n",
    "y_pred = gbm.predict(x_pred)"
   ]
  },
  {
   "cell_type": "markdown",
   "metadata": {},
   "source": [
    "# Training Analysis"
   ]
  },
  {
   "cell_type": "code",
   "execution_count": 32,
   "metadata": {
    "ExecuteTime": {
     "end_time": "2020-04-11T16:48:59.462847Z",
     "start_time": "2020-04-11T16:48:59.090613Z"
    }
   },
   "outputs": [
    {
     "name": "stdout",
     "output_type": "stream",
     "text": [
      "Plotting metrics recorded during training...\n"
     ]
    },
    {
     "data": {
      "image/png": "[encoded data removed]",
      "text/plain": [
       "<Figure size 432x288 with 1 Axes>"
      ]
     },
     "metadata": {
      "needs_background": "light"
     },
     "output_type": "display_data"
    }
   ],
   "source": [
    "print('Plotting metrics recorded during training...')\n",
    "ax = lgb.plot_metric(evals_result)\n",
    "plt.show()"
   ]
  },
  {
   "cell_type": "code",
   "execution_count": 33,
   "metadata": {
    "ExecuteTime": {
     "end_time": "2020-04-11T16:49:01.582571Z",
     "start_time": "2020-04-11T16:48:59.463852Z"
    }
   },
   "outputs": [
    {
     "name": "stdout",
     "output_type": "stream",
     "text": [
      "Plotting feature importances...\n"
     ]
    },
    {
     "data": {
      "image/png": "[encoded data removed]",
      "text/plain": [
       "<Figure size 720x576 with 1 Axes>"
      ]
     },
     "metadata": {
      "needs_background": "light"
     },
     "output_type": "display_data"
    }
   ],
   "source": [
    "print('Plotting feature importances...')\n",
    "ax = lgb.plot_importance(gbm, figsize=(10,8))\n",
    "plt.show()"
   ]
  },
  {
   "cell_type": "markdown",
   "metadata": {},
   "source": [
    "# Printout Forecasts"
   ]
  },
  {
   "cell_type": "code",
   "execution_count": 34,
   "metadata": {
    "ExecuteTime": {
     "end_time": "2020-04-11T16:49:01.592570Z",
     "start_time": "2020-04-11T16:49:01.585564Z"
    }
   },
   "outputs": [],
   "source": [
    "# map forecast values to encoded item_ids\n",
    "x_val['y_pred'] = y_pred"
   ]
  },
  {
   "cell_type": "code",
   "execution_count": 35,
   "metadata": {
    "ExecuteTime": {
     "end_time": "2020-04-11T16:49:29.267267Z",
     "start_time": "2020-04-11T16:49:01.593542Z"
    }
   },
   "outputs": [],
   "source": [
    "# map encoded ids to decoded ids\n",
    "id_mapping_table = df_merged[['id', 'item_id', 'store_id']].drop_duplicates()\n",
    "df_results = x_val.merge(id_mapping_table,\n",
    "                         on=['item_id', 'store_id'],\n",
    "                         how='left')[[\n",
    "                             'id', 'item_id', 'store_id', 'year', 'month',\n",
    "                             'day', 'y_pred'\n",
    "                         ]]"
   ]
  },
  {
   "cell_type": "code",
   "execution_count": 36,
   "metadata": {
    "ExecuteTime": {
     "end_time": "2020-04-11T16:49:40.066129Z",
     "start_time": "2020-04-11T16:49:29.268264Z"
    }
   },
   "outputs": [],
   "source": [
    "# create dict with IDs and forecasts\n",
    "submission_dict = {}\n",
    "\n",
    "for i, df in df_results.groupby(['id']):\n",
    "    df = df.reset_index(drop=True)\n",
    "    submission_dict[i] = df['y_pred']"
   ]
  },
  {
   "cell_type": "code",
   "execution_count": 37,
   "metadata": {
    "ExecuteTime": {
     "end_time": "2020-04-11T16:49:41.277943Z",
     "start_time": "2020-04-11T16:49:40.067095Z"
    }
   },
   "outputs": [
    {
     "data": {
      "text/html": [
       "<div>\n",
       "<style scoped>\n",
       "    .dataframe tbody tr th:only-of-type {\n",
       "        vertical-align: middle;\n",
       "    }\n",
       "\n",
       "    .dataframe tbody tr th {\n",
       "        vertical-align: top;\n",
       "    }\n",
       "\n",
       "    .dataframe thead th {\n",
       "        text-align: right;\n",
       "    }\n",
       "</style>\n",
       "<table border=\"1\" class=\"dataframe\">\n",
       "  <thead>\n",
       "    <tr style=\"text-align: right;\">\n",
       "      <th></th>\n",
       "      <th>id</th>\n",
       "      <th>F1</th>\n",
       "      <th>F2</th>\n",
       "      <th>F3</th>\n",
       "      <th>F4</th>\n",
       "      <th>F5</th>\n",
       "      <th>F6</th>\n",
       "      <th>F7</th>\n",
       "      <th>F8</th>\n",
       "      <th>F9</th>\n",
       "      <th>...</th>\n",
       "      <th>F19</th>\n",
       "      <th>F20</th>\n",
       "      <th>F21</th>\n",
       "      <th>F22</th>\n",
       "      <th>F23</th>\n",
       "      <th>F24</th>\n",
       "      <th>F25</th>\n",
       "      <th>F26</th>\n",
       "      <th>F27</th>\n",
       "      <th>F28</th>\n",
       "    </tr>\n",
       "  </thead>\n",
       "  <tbody>\n",
       "    <tr>\n",
       "      <th>0</th>\n",
       "      <td>FOODS_1_001_CA_1_validation</td>\n",
       "      <td>0.789459</td>\n",
       "      <td>0.739200</td>\n",
       "      <td>0.736540</td>\n",
       "      <td>0.706074</td>\n",
       "      <td>1.066771</td>\n",
       "      <td>1.029882</td>\n",
       "      <td>1.088432</td>\n",
       "      <td>1.208276</td>\n",
       "      <td>0.958571</td>\n",
       "      <td>...</td>\n",
       "      <td>1.060424</td>\n",
       "      <td>1.383680</td>\n",
       "      <td>1.240132</td>\n",
       "      <td>1.335591</td>\n",
       "      <td>1.009385</td>\n",
       "      <td>1.015365</td>\n",
       "      <td>0.949293</td>\n",
       "      <td>1.003891</td>\n",
       "      <td>1.265395</td>\n",
       "      <td>1.166596</td>\n",
       "    </tr>\n",
       "    <tr>\n",
       "      <th>1</th>\n",
       "      <td>FOODS_1_001_CA_2_validation</td>\n",
       "      <td>0.803295</td>\n",
       "      <td>0.784957</td>\n",
       "      <td>0.783242</td>\n",
       "      <td>0.774953</td>\n",
       "      <td>0.768469</td>\n",
       "      <td>0.858619</td>\n",
       "      <td>0.899873</td>\n",
       "      <td>0.605401</td>\n",
       "      <td>0.606267</td>\n",
       "      <td>...</td>\n",
       "      <td>0.472350</td>\n",
       "      <td>0.515316</td>\n",
       "      <td>2.677905</td>\n",
       "      <td>0.976640</td>\n",
       "      <td>0.940479</td>\n",
       "      <td>0.940479</td>\n",
       "      <td>1.283003</td>\n",
       "      <td>1.060708</td>\n",
       "      <td>1.210447</td>\n",
       "      <td>1.622327</td>\n",
       "    </tr>\n",
       "    <tr>\n",
       "      <th>2</th>\n",
       "      <td>FOODS_1_001_CA_3_validation</td>\n",
       "      <td>1.161575</td>\n",
       "      <td>1.008716</td>\n",
       "      <td>1.024581</td>\n",
       "      <td>0.969376</td>\n",
       "      <td>1.019603</td>\n",
       "      <td>1.218047</td>\n",
       "      <td>1.224916</td>\n",
       "      <td>1.049915</td>\n",
       "      <td>1.024253</td>\n",
       "      <td>...</td>\n",
       "      <td>1.183961</td>\n",
       "      <td>1.329735</td>\n",
       "      <td>3.065851</td>\n",
       "      <td>1.449524</td>\n",
       "      <td>1.259342</td>\n",
       "      <td>1.217769</td>\n",
       "      <td>1.218114</td>\n",
       "      <td>1.267098</td>\n",
       "      <td>1.450159</td>\n",
       "      <td>1.404246</td>\n",
       "    </tr>\n",
       "    <tr>\n",
       "      <th>3</th>\n",
       "      <td>FOODS_1_001_CA_4_validation</td>\n",
       "      <td>0.548988</td>\n",
       "      <td>0.451084</td>\n",
       "      <td>0.450397</td>\n",
       "      <td>0.450397</td>\n",
       "      <td>0.475297</td>\n",
       "      <td>0.539421</td>\n",
       "      <td>0.544821</td>\n",
       "      <td>0.545966</td>\n",
       "      <td>0.497352</td>\n",
       "      <td>...</td>\n",
       "      <td>0.297204</td>\n",
       "      <td>0.350591</td>\n",
       "      <td>0.333475</td>\n",
       "      <td>0.396929</td>\n",
       "      <td>0.264950</td>\n",
       "      <td>0.247698</td>\n",
       "      <td>0.248043</td>\n",
       "      <td>0.316294</td>\n",
       "      <td>0.386729</td>\n",
       "      <td>0.423303</td>\n",
       "    </tr>\n",
       "    <tr>\n",
       "      <th>4</th>\n",
       "      <td>FOODS_1_001_TX_1_validation</td>\n",
       "      <td>0.476051</td>\n",
       "      <td>0.457713</td>\n",
       "      <td>0.457026</td>\n",
       "      <td>0.457026</td>\n",
       "      <td>0.486326</td>\n",
       "      <td>0.573590</td>\n",
       "      <td>0.614941</td>\n",
       "      <td>0.517734</td>\n",
       "      <td>0.477224</td>\n",
       "      <td>...</td>\n",
       "      <td>0.309721</td>\n",
       "      <td>0.328875</td>\n",
       "      <td>0.334023</td>\n",
       "      <td>0.247458</td>\n",
       "      <td>0.175064</td>\n",
       "      <td>0.175064</td>\n",
       "      <td>0.175410</td>\n",
       "      <td>0.195115</td>\n",
       "      <td>0.225535</td>\n",
       "      <td>0.224817</td>\n",
       "    </tr>\n",
       "    <tr>\n",
       "      <th>5</th>\n",
       "      <td>FOODS_1_001_TX_2_validation</td>\n",
       "      <td>0.566356</td>\n",
       "      <td>0.537984</td>\n",
       "      <td>0.518763</td>\n",
       "      <td>0.727388</td>\n",
       "      <td>0.600174</td>\n",
       "      <td>0.493066</td>\n",
       "      <td>0.510444</td>\n",
       "      <td>0.438063</td>\n",
       "      <td>0.412750</td>\n",
       "      <td>...</td>\n",
       "      <td>0.711162</td>\n",
       "      <td>0.498450</td>\n",
       "      <td>0.581111</td>\n",
       "      <td>0.436958</td>\n",
       "      <td>0.407872</td>\n",
       "      <td>0.394131</td>\n",
       "      <td>0.394476</td>\n",
       "      <td>0.415342</td>\n",
       "      <td>0.529347</td>\n",
       "      <td>0.465224</td>\n",
       "    </tr>\n",
       "    <tr>\n",
       "      <th>6</th>\n",
       "      <td>FOODS_1_001_TX_3_validation</td>\n",
       "      <td>0.356076</td>\n",
       "      <td>0.342138</td>\n",
       "      <td>0.341451</td>\n",
       "      <td>0.327319</td>\n",
       "      <td>0.406152</td>\n",
       "      <td>0.491070</td>\n",
       "      <td>0.524373</td>\n",
       "      <td>0.417173</td>\n",
       "      <td>0.452251</td>\n",
       "      <td>...</td>\n",
       "      <td>0.415246</td>\n",
       "      <td>0.540542</td>\n",
       "      <td>0.582294</td>\n",
       "      <td>0.421526</td>\n",
       "      <td>0.339977</td>\n",
       "      <td>0.339977</td>\n",
       "      <td>0.488319</td>\n",
       "      <td>0.448592</td>\n",
       "      <td>0.497522</td>\n",
       "      <td>0.496804</td>\n",
       "    </tr>\n",
       "    <tr>\n",
       "      <th>7</th>\n",
       "      <td>FOODS_1_001_WI_1_validation</td>\n",
       "      <td>0.385483</td>\n",
       "      <td>0.393671</td>\n",
       "      <td>0.362518</td>\n",
       "      <td>0.392985</td>\n",
       "      <td>0.401884</td>\n",
       "      <td>0.487541</td>\n",
       "      <td>0.525120</td>\n",
       "      <td>0.421974</td>\n",
       "      <td>0.408444</td>\n",
       "      <td>...</td>\n",
       "      <td>0.389383</td>\n",
       "      <td>0.461623</td>\n",
       "      <td>0.552189</td>\n",
       "      <td>0.388574</td>\n",
       "      <td>0.438836</td>\n",
       "      <td>0.359488</td>\n",
       "      <td>0.359833</td>\n",
       "      <td>0.398349</td>\n",
       "      <td>1.320309</td>\n",
       "      <td>0.798547</td>\n",
       "    </tr>\n",
       "    <tr>\n",
       "      <th>8</th>\n",
       "      <td>FOODS_1_001_WI_2_validation</td>\n",
       "      <td>0.259208</td>\n",
       "      <td>0.240870</td>\n",
       "      <td>0.240183</td>\n",
       "      <td>0.240183</td>\n",
       "      <td>0.269484</td>\n",
       "      <td>0.309578</td>\n",
       "      <td>0.568393</td>\n",
       "      <td>0.370270</td>\n",
       "      <td>0.336430</td>\n",
       "      <td>...</td>\n",
       "      <td>0.478306</td>\n",
       "      <td>0.543320</td>\n",
       "      <td>0.558173</td>\n",
       "      <td>0.404624</td>\n",
       "      <td>0.424737</td>\n",
       "      <td>0.429317</td>\n",
       "      <td>0.399196</td>\n",
       "      <td>0.427646</td>\n",
       "      <td>0.498468</td>\n",
       "      <td>0.451247</td>\n",
       "    </tr>\n",
       "    <tr>\n",
       "      <th>9</th>\n",
       "      <td>FOODS_1_001_WI_3_validation</td>\n",
       "      <td>0.209757</td>\n",
       "      <td>0.191419</td>\n",
       "      <td>0.248881</td>\n",
       "      <td>0.248881</td>\n",
       "      <td>0.203916</td>\n",
       "      <td>0.261356</td>\n",
       "      <td>0.305144</td>\n",
       "      <td>0.240281</td>\n",
       "      <td>0.229620</td>\n",
       "      <td>...</td>\n",
       "      <td>0.244458</td>\n",
       "      <td>0.383819</td>\n",
       "      <td>0.350675</td>\n",
       "      <td>0.262813</td>\n",
       "      <td>0.210139</td>\n",
       "      <td>0.210139</td>\n",
       "      <td>0.210484</td>\n",
       "      <td>0.222272</td>\n",
       "      <td>0.671077</td>\n",
       "      <td>0.424199</td>\n",
       "    </tr>\n",
       "  </tbody>\n",
       "</table>\n",
       "<p>10 rows × 29 columns</p>\n",
       "</div>"
      ],
      "text/plain": [
       "                            id        F1        F2        F3        F4  \\\n",
       "0  FOODS_1_001_CA_1_validation  0.789459  0.739200  0.736540  0.706074   \n",
       "1  FOODS_1_001_CA_2_validation  0.803295  0.784957  0.783242  0.774953   \n",
       "2  FOODS_1_001_CA_3_validation  1.161575  1.008716  1.024581  0.969376   \n",
       "3  FOODS_1_001_CA_4_validation  0.548988  0.451084  0.450397  0.450397   \n",
       "4  FOODS_1_001_TX_1_validation  0.476051  0.457713  0.457026  0.457026   \n",
       "5  FOODS_1_001_TX_2_validation  0.566356  0.537984  0.518763  0.727388   \n",
       "6  FOODS_1_001_TX_3_validation  0.356076  0.342138  0.341451  0.327319   \n",
       "7  FOODS_1_001_WI_1_validation  0.385483  0.393671  0.362518  0.392985   \n",
       "8  FOODS_1_001_WI_2_validation  0.259208  0.240870  0.240183  0.240183   \n",
       "9  FOODS_1_001_WI_3_validation  0.209757  0.191419  0.248881  0.248881   \n",
       "\n",
       "         F5        F6        F7        F8        F9  ...       F19       F20  \\\n",
       "0  1.066771  1.029882  1.088432  1.208276  0.958571  ...  1.060424  1.383680   \n",
       "1  0.768469  0.858619  0.899873  0.605401  0.606267  ...  0.472350  0.515316   \n",
       "2  1.019603  1.218047  1.224916  1.049915  1.024253  ...  1.183961  1.329735   \n",
       "3  0.475297  0.539421  0.544821  0.545966  0.497352  ...  0.297204  0.350591   \n",
       "4  0.486326  0.573590  0.614941  0.517734  0.477224  ...  0.309721  0.328875   \n",
       "5  0.600174  0.493066  0.510444  0.438063  0.412750  ...  0.711162  0.498450   \n",
       "6  0.406152  0.491070  0.524373  0.417173  0.452251  ...  0.415246  0.540542   \n",
       "7  0.401884  0.487541  0.525120  0.421974  0.408444  ...  0.389383  0.461623   \n",
       "8  0.269484  0.309578  0.568393  0.370270  0.336430  ...  0.478306  0.543320   \n",
       "9  0.203916  0.261356  0.305144  0.240281  0.229620  ...  0.244458  0.383819   \n",
       "\n",
       "        F21       F22       F23       F24       F25       F26       F27  \\\n",
       "0  1.240132  1.335591  1.009385  1.015365  0.949293  1.003891  1.265395   \n",
       "1  2.677905  0.976640  0.940479  0.940479  1.283003  1.060708  1.210447   \n",
       "2  3.065851  1.449524  1.259342  1.217769  1.218114  1.267098  1.450159   \n",
       "3  0.333475  0.396929  0.264950  0.247698  0.248043  0.316294  0.386729   \n",
       "4  0.334023  0.247458  0.175064  0.175064  0.175410  0.195115  0.225535   \n",
       "5  0.581111  0.436958  0.407872  0.394131  0.394476  0.415342  0.529347   \n",
       "6  0.582294  0.421526  0.339977  0.339977  0.488319  0.448592  0.497522   \n",
       "7  0.552189  0.388574  0.438836  0.359488  0.359833  0.398349  1.320309   \n",
       "8  0.558173  0.404624  0.424737  0.429317  0.399196  0.427646  0.498468   \n",
       "9  0.350675  0.262813  0.210139  0.210139  0.210484  0.222272  0.671077   \n",
       "\n",
       "        F28  \n",
       "0  1.166596  \n",
       "1  1.622327  \n",
       "2  1.404246  \n",
       "3  0.423303  \n",
       "4  0.224817  \n",
       "5  0.465224  \n",
       "6  0.496804  \n",
       "7  0.798547  \n",
       "8  0.451247  \n",
       "9  0.424199  \n",
       "\n",
       "[10 rows x 29 columns]"
      ]
     },
     "execution_count": 37,
     "metadata": {},
     "output_type": "execute_result"
    }
   ],
   "source": [
    "# convert dict to dataframe\n",
    "submission_df = pd.DataFrame(submission_dict).T\n",
    "submission_df = submission_df.clip(lower=0) # Convert negative values to 0\n",
    "submission_df.reset_index(level=0, inplace=True)\n",
    "submission_df.columns = ['id'] + [f'F{di}' for di in list(range(1, 29))]\n",
    "submission_df.head(10)"
   ]
  },
  {
   "cell_type": "markdown",
   "metadata": {},
   "source": [
    "# Submit to Kaggle "
   ]
  },
  {
   "cell_type": "code",
   "execution_count": 38,
   "metadata": {
    "ExecuteTime": {
     "end_time": "2020-04-11T16:49:41.284924Z",
     "start_time": "2020-04-11T16:49:41.278940Z"
    }
   },
   "outputs": [],
   "source": [
    "if submit_to_kaggle:\n",
    "    # Bring data to Kaggel's required form (evaluation & validation)\n",
    "    df_submission = submission_df.append(\n",
    "        submission_df.replace(to_replace='validation', value='evaluation',\n",
    "                              regex=True))\n",
    "    filename = utils.get_m5_root_dir(\n",
    "    ) + '/data/submissions/gradient_boosting_regressor_v_2_5.csv'\n",
    "    df_submission.to_csv(filename, index=False)\n",
    "    \n",
    "\n",
    "    # Submit via Kaggle API or with website https://www.kaggle.com/c/m5-forecasting-accuracy/submissions\n",
    "    !kaggle competitions submit -c m5-forecasting-accuracy -f data/submissions/gradient_boosting_regressor_v_2_5.csv -m \"asymetric loss with factor 1.1 if res > 1\"\n"
   ]
  },
  {
   "cell_type": "code",
   "execution_count": 39,
   "metadata": {
    "ExecuteTime": {
     "end_time": "2020-04-11T16:49:43.766777Z",
     "start_time": "2020-04-11T16:49:41.286920Z"
    }
   },
   "outputs": [],
   "source": [
    "df_submission = submission_df.append(\n",
    "    submission_df.replace(to_replace='validation', value='evaluation',\n",
    "                          regex=True))\n",
    "filename = utils.get_m5_root_dir(\n",
    ") + '/data/submissions/gradient_boosting_regressor_v_3_0.csv'\n",
    "df_submission.to_csv(filename, index=False)\n"
   ]
  }
 ],
 "metadata": {
  "kernelspec": {
   "display_name": "Python 3",
   "language": "python",
   "name": "python3"
  },
  "language_info": {
   "codemirror_mode": {
    "name": "ipython",
    "version": 3
   },
   "file_extension": ".py",
   "mimetype": "text/x-python",
   "name": "python",
   "nbconvert_exporter": "python",
   "pygments_lexer": "ipython3",
   "version": "3.7.6"
  }
 },
 "nbformat": 4,
 "nbformat_minor": 4
}
