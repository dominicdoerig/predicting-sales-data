{
 "cells": [
  {
   "cell_type": "markdown",
   "metadata": {},
   "source": [
    "# Define Running Mode"
   ]
  },
  {
   "cell_type": "markdown",
   "metadata": {},
   "source": [
    "'performance_validation = True' when validating the performance of the model based on last 28 training days.  \n",
    "  \n",
    "    \n",
    "'performance_validation = False' when computing forecasts that will be submitted to Kaggle.  \n"
   ]
  },
  {
   "cell_type": "code",
   "execution_count": 1,
   "metadata": {
    "ExecuteTime": {
     "end_time": "2020-03-30T13:49:51.010282Z",
     "start_time": "2020-03-30T13:49:51.006293Z"
    }
   },
   "outputs": [],
   "source": [
    "performance_validation = True"
   ]
  },
  {
   "cell_type": "markdown",
   "metadata": {},
   "source": [
    "# Import Packages"
   ]
  },
  {
   "cell_type": "code",
   "execution_count": 2,
   "metadata": {
    "ExecuteTime": {
     "end_time": "2020-03-30T13:49:52.004920Z",
     "start_time": "2020-03-30T13:49:51.011280Z"
    }
   },
   "outputs": [],
   "source": [
    "import utils\n",
    "import pandas as pd\n",
    "import numpy as np\n",
    "import matplotlib.pyplot as plt\n",
    "from tqdm.notebook import tqdm\n",
    "import time\n",
    "from sklearn.metrics import mean_squared_error"
   ]
  },
  {
   "cell_type": "markdown",
   "metadata": {},
   "source": [
    "# Data Import and Preparation"
   ]
  },
  {
   "cell_type": "code",
   "execution_count": 3,
   "metadata": {
    "ExecuteTime": {
     "end_time": "2020-03-30T13:49:52.654281Z",
     "start_time": "2020-03-30T13:49:52.006855Z"
    }
   },
   "outputs": [],
   "source": [
    "if performance_validation is True:\n",
    "    # Import data\n",
    "    submission = pd.read_csv(\n",
    "        f'{utils.get_m5_root_dir()}/data/input/sample_submission.csv')\n",
    "    df_merged = pd.read_csv(\n",
    "        f'{utils.get_m5_root_dir()}/data/preprocessed/tx2_hobbies_1year.csv')\n",
    "\n",
    "    # take only values where target value is known\n",
    "    df_merged = df_merged.loc[df_merged['data_type'] == 'train']\n",
    "\n",
    "    # extract target values (last 28 days) in seperate list\n",
    "    y_test = df_merged[(df_merged['date'] > '2016-03-27')]['sale']\n",
    "\n",
    "    # replace target values in DataFrame with NaN\n",
    "    df_merged['sale'].loc[df_merged['date'] > '2016-03-27'] = np.nan\n",
    "\n",
    "else:\n",
    "    # Import data\n",
    "    submission = pd.read_csv(\n",
    "        f'{utils.get_m5_root_dir()}/data/input/sample_submission.csv')\n",
    "    df_merged = pd.read_csv(\n",
    "        f'{utils.get_m5_root_dir()}/data/preprocessed/preprocessed_input_data.csv')\n",
    "\n",
    "    # extract training and validation data (drop evaluation)\n",
    "    df_merged = df_merged.loc[df_merged['data_type'] != 'evaluation']"
   ]
  },
  {
   "cell_type": "code",
   "execution_count": 4,
   "metadata": {
    "ExecuteTime": {
     "end_time": "2020-03-30T13:49:52.755852Z",
     "start_time": "2020-03-30T13:49:52.655140Z"
    }
   },
   "outputs": [
    {
     "name": "stdout",
     "output_type": "stream",
     "text": [
      "Mem. usage of decreased to 25.51 Mb (32.8% reduction)\n"
     ]
    }
   ],
   "source": [
    "# downcast numerical values to reduce mem usage\n",
    "df_merged = utils.reduce_mem_usage(df_merged)"
   ]
  },
  {
   "cell_type": "code",
   "execution_count": 5,
   "metadata": {
    "ExecuteTime": {
     "end_time": "2020-03-30T13:49:53.365225Z",
     "start_time": "2020-03-30T13:49:52.757847Z"
    }
   },
   "outputs": [
    {
     "name": "stdout",
     "output_type": "stream",
     "text": [
      "Mem. usage of decreased to 13.64 Mb (28.9% reduction)\n"
     ]
    },
    {
     "data": {
      "text/html": [
       "<div>\n",
       "<style scoped>\n",
       "    .dataframe tbody tr th:only-of-type {\n",
       "        vertical-align: middle;\n",
       "    }\n",
       "\n",
       "    .dataframe tbody tr th {\n",
       "        vertical-align: top;\n",
       "    }\n",
       "\n",
       "    .dataframe thead th {\n",
       "        text-align: right;\n",
       "    }\n",
       "</style>\n",
       "<table border=\"1\" class=\"dataframe\">\n",
       "  <thead>\n",
       "    <tr style=\"text-align: right;\">\n",
       "      <th></th>\n",
       "      <th>id</th>\n",
       "      <th>item_id</th>\n",
       "      <th>dept_id</th>\n",
       "      <th>cat_id</th>\n",
       "      <th>store_id</th>\n",
       "      <th>state_id</th>\n",
       "      <th>d</th>\n",
       "      <th>sale</th>\n",
       "      <th>date</th>\n",
       "      <th>wm_yr_wk</th>\n",
       "      <th>...</th>\n",
       "      <th>year</th>\n",
       "      <th>event_name_1</th>\n",
       "      <th>event_type_1</th>\n",
       "      <th>event_name_2</th>\n",
       "      <th>event_type_2</th>\n",
       "      <th>snap_CA</th>\n",
       "      <th>snap_TX</th>\n",
       "      <th>snap_WI</th>\n",
       "      <th>sell_price</th>\n",
       "      <th>data_type</th>\n",
       "    </tr>\n",
       "  </thead>\n",
       "  <tbody>\n",
       "    <tr>\n",
       "      <th>0</th>\n",
       "      <td>HOBBIES_1_001_TX_2_validation</td>\n",
       "      <td>0</td>\n",
       "      <td>0</td>\n",
       "      <td>0</td>\n",
       "      <td>0</td>\n",
       "      <td>0</td>\n",
       "      <td>0</td>\n",
       "      <td>0.0</td>\n",
       "      <td>2015-04-24</td>\n",
       "      <td>11512</td>\n",
       "      <td>...</td>\n",
       "      <td>2015</td>\n",
       "      <td>13</td>\n",
       "      <td>1</td>\n",
       "      <td>0</td>\n",
       "      <td>0</td>\n",
       "      <td>0</td>\n",
       "      <td>0</td>\n",
       "      <td>0</td>\n",
       "      <td>8.26</td>\n",
       "      <td>train</td>\n",
       "    </tr>\n",
       "    <tr>\n",
       "      <th>1</th>\n",
       "      <td>HOBBIES_1_002_TX_2_validation</td>\n",
       "      <td>1</td>\n",
       "      <td>0</td>\n",
       "      <td>0</td>\n",
       "      <td>0</td>\n",
       "      <td>0</td>\n",
       "      <td>0</td>\n",
       "      <td>1.0</td>\n",
       "      <td>2015-04-24</td>\n",
       "      <td>11512</td>\n",
       "      <td>...</td>\n",
       "      <td>2015</td>\n",
       "      <td>13</td>\n",
       "      <td>1</td>\n",
       "      <td>0</td>\n",
       "      <td>0</td>\n",
       "      <td>0</td>\n",
       "      <td>0</td>\n",
       "      <td>0</td>\n",
       "      <td>3.97</td>\n",
       "      <td>train</td>\n",
       "    </tr>\n",
       "    <tr>\n",
       "      <th>2</th>\n",
       "      <td>HOBBIES_1_003_TX_2_validation</td>\n",
       "      <td>2</td>\n",
       "      <td>0</td>\n",
       "      <td>0</td>\n",
       "      <td>0</td>\n",
       "      <td>0</td>\n",
       "      <td>0</td>\n",
       "      <td>0.0</td>\n",
       "      <td>2015-04-24</td>\n",
       "      <td>11512</td>\n",
       "      <td>...</td>\n",
       "      <td>2015</td>\n",
       "      <td>13</td>\n",
       "      <td>1</td>\n",
       "      <td>0</td>\n",
       "      <td>0</td>\n",
       "      <td>0</td>\n",
       "      <td>0</td>\n",
       "      <td>0</td>\n",
       "      <td>2.97</td>\n",
       "      <td>train</td>\n",
       "    </tr>\n",
       "    <tr>\n",
       "      <th>3</th>\n",
       "      <td>HOBBIES_1_004_TX_2_validation</td>\n",
       "      <td>3</td>\n",
       "      <td>0</td>\n",
       "      <td>0</td>\n",
       "      <td>0</td>\n",
       "      <td>0</td>\n",
       "      <td>0</td>\n",
       "      <td>0.0</td>\n",
       "      <td>2015-04-24</td>\n",
       "      <td>11512</td>\n",
       "      <td>...</td>\n",
       "      <td>2015</td>\n",
       "      <td>13</td>\n",
       "      <td>1</td>\n",
       "      <td>0</td>\n",
       "      <td>0</td>\n",
       "      <td>0</td>\n",
       "      <td>0</td>\n",
       "      <td>0</td>\n",
       "      <td>4.64</td>\n",
       "      <td>train</td>\n",
       "    </tr>\n",
       "    <tr>\n",
       "      <th>4</th>\n",
       "      <td>HOBBIES_1_005_TX_2_validation</td>\n",
       "      <td>4</td>\n",
       "      <td>0</td>\n",
       "      <td>0</td>\n",
       "      <td>0</td>\n",
       "      <td>0</td>\n",
       "      <td>0</td>\n",
       "      <td>0.0</td>\n",
       "      <td>2015-04-24</td>\n",
       "      <td>11512</td>\n",
       "      <td>...</td>\n",
       "      <td>2015</td>\n",
       "      <td>13</td>\n",
       "      <td>1</td>\n",
       "      <td>0</td>\n",
       "      <td>0</td>\n",
       "      <td>0</td>\n",
       "      <td>0</td>\n",
       "      <td>0</td>\n",
       "      <td>2.73</td>\n",
       "      <td>train</td>\n",
       "    </tr>\n",
       "    <tr>\n",
       "      <th>5</th>\n",
       "      <td>HOBBIES_1_006_TX_2_validation</td>\n",
       "      <td>5</td>\n",
       "      <td>0</td>\n",
       "      <td>0</td>\n",
       "      <td>0</td>\n",
       "      <td>0</td>\n",
       "      <td>0</td>\n",
       "      <td>0.0</td>\n",
       "      <td>2015-04-24</td>\n",
       "      <td>11512</td>\n",
       "      <td>...</td>\n",
       "      <td>2015</td>\n",
       "      <td>13</td>\n",
       "      <td>1</td>\n",
       "      <td>0</td>\n",
       "      <td>0</td>\n",
       "      <td>0</td>\n",
       "      <td>0</td>\n",
       "      <td>0</td>\n",
       "      <td>1.00</td>\n",
       "      <td>train</td>\n",
       "    </tr>\n",
       "    <tr>\n",
       "      <th>6</th>\n",
       "      <td>HOBBIES_1_007_TX_2_validation</td>\n",
       "      <td>6</td>\n",
       "      <td>0</td>\n",
       "      <td>0</td>\n",
       "      <td>0</td>\n",
       "      <td>0</td>\n",
       "      <td>0</td>\n",
       "      <td>0.0</td>\n",
       "      <td>2015-04-24</td>\n",
       "      <td>11512</td>\n",
       "      <td>...</td>\n",
       "      <td>2015</td>\n",
       "      <td>13</td>\n",
       "      <td>1</td>\n",
       "      <td>0</td>\n",
       "      <td>0</td>\n",
       "      <td>0</td>\n",
       "      <td>0</td>\n",
       "      <td>0</td>\n",
       "      <td>7.88</td>\n",
       "      <td>train</td>\n",
       "    </tr>\n",
       "    <tr>\n",
       "      <th>7</th>\n",
       "      <td>HOBBIES_1_008_TX_2_validation</td>\n",
       "      <td>7</td>\n",
       "      <td>0</td>\n",
       "      <td>0</td>\n",
       "      <td>0</td>\n",
       "      <td>0</td>\n",
       "      <td>0</td>\n",
       "      <td>2.0</td>\n",
       "      <td>2015-04-24</td>\n",
       "      <td>11512</td>\n",
       "      <td>...</td>\n",
       "      <td>2015</td>\n",
       "      <td>13</td>\n",
       "      <td>1</td>\n",
       "      <td>0</td>\n",
       "      <td>0</td>\n",
       "      <td>0</td>\n",
       "      <td>0</td>\n",
       "      <td>0</td>\n",
       "      <td>0.48</td>\n",
       "      <td>train</td>\n",
       "    </tr>\n",
       "    <tr>\n",
       "      <th>8</th>\n",
       "      <td>HOBBIES_1_009_TX_2_validation</td>\n",
       "      <td>8</td>\n",
       "      <td>0</td>\n",
       "      <td>0</td>\n",
       "      <td>0</td>\n",
       "      <td>0</td>\n",
       "      <td>0</td>\n",
       "      <td>1.0</td>\n",
       "      <td>2015-04-24</td>\n",
       "      <td>11512</td>\n",
       "      <td>...</td>\n",
       "      <td>2015</td>\n",
       "      <td>13</td>\n",
       "      <td>1</td>\n",
       "      <td>0</td>\n",
       "      <td>0</td>\n",
       "      <td>0</td>\n",
       "      <td>0</td>\n",
       "      <td>0</td>\n",
       "      <td>1.63</td>\n",
       "      <td>train</td>\n",
       "    </tr>\n",
       "    <tr>\n",
       "      <th>9</th>\n",
       "      <td>HOBBIES_1_010_TX_2_validation</td>\n",
       "      <td>9</td>\n",
       "      <td>0</td>\n",
       "      <td>0</td>\n",
       "      <td>0</td>\n",
       "      <td>0</td>\n",
       "      <td>0</td>\n",
       "      <td>0.0</td>\n",
       "      <td>2015-04-24</td>\n",
       "      <td>11512</td>\n",
       "      <td>...</td>\n",
       "      <td>2015</td>\n",
       "      <td>13</td>\n",
       "      <td>1</td>\n",
       "      <td>0</td>\n",
       "      <td>0</td>\n",
       "      <td>0</td>\n",
       "      <td>0</td>\n",
       "      <td>0</td>\n",
       "      <td>2.97</td>\n",
       "      <td>train</td>\n",
       "    </tr>\n",
       "  </tbody>\n",
       "</table>\n",
       "<p>10 rows × 23 columns</p>\n",
       "</div>"
      ],
      "text/plain": [
       "                              id  item_id  dept_id  cat_id  store_id  \\\n",
       "0  HOBBIES_1_001_TX_2_validation        0        0       0         0   \n",
       "1  HOBBIES_1_002_TX_2_validation        1        0       0         0   \n",
       "2  HOBBIES_1_003_TX_2_validation        2        0       0         0   \n",
       "3  HOBBIES_1_004_TX_2_validation        3        0       0         0   \n",
       "4  HOBBIES_1_005_TX_2_validation        4        0       0         0   \n",
       "5  HOBBIES_1_006_TX_2_validation        5        0       0         0   \n",
       "6  HOBBIES_1_007_TX_2_validation        6        0       0         0   \n",
       "7  HOBBIES_1_008_TX_2_validation        7        0       0         0   \n",
       "8  HOBBIES_1_009_TX_2_validation        8        0       0         0   \n",
       "9  HOBBIES_1_010_TX_2_validation        9        0       0         0   \n",
       "\n",
       "   state_id  d  sale        date  wm_yr_wk  ...  year  event_name_1  \\\n",
       "0         0  0   0.0  2015-04-24     11512  ...  2015            13   \n",
       "1         0  0   1.0  2015-04-24     11512  ...  2015            13   \n",
       "2         0  0   0.0  2015-04-24     11512  ...  2015            13   \n",
       "3         0  0   0.0  2015-04-24     11512  ...  2015            13   \n",
       "4         0  0   0.0  2015-04-24     11512  ...  2015            13   \n",
       "5         0  0   0.0  2015-04-24     11512  ...  2015            13   \n",
       "6         0  0   0.0  2015-04-24     11512  ...  2015            13   \n",
       "7         0  0   2.0  2015-04-24     11512  ...  2015            13   \n",
       "8         0  0   1.0  2015-04-24     11512  ...  2015            13   \n",
       "9         0  0   0.0  2015-04-24     11512  ...  2015            13   \n",
       "\n",
       "   event_type_1  event_name_2  event_type_2  snap_CA  snap_TX  snap_WI  \\\n",
       "0             1             0             0        0        0        0   \n",
       "1             1             0             0        0        0        0   \n",
       "2             1             0             0        0        0        0   \n",
       "3             1             0             0        0        0        0   \n",
       "4             1             0             0        0        0        0   \n",
       "5             1             0             0        0        0        0   \n",
       "6             1             0             0        0        0        0   \n",
       "7             1             0             0        0        0        0   \n",
       "8             1             0             0        0        0        0   \n",
       "9             1             0             0        0        0        0   \n",
       "\n",
       "   sell_price  data_type  \n",
       "0        8.26      train  \n",
       "1        3.97      train  \n",
       "2        2.97      train  \n",
       "3        4.64      train  \n",
       "4        2.73      train  \n",
       "5        1.00      train  \n",
       "6        7.88      train  \n",
       "7        0.48      train  \n",
       "8        1.63      train  \n",
       "9        2.97      train  \n",
       "\n",
       "[10 rows x 23 columns]"
      ]
     },
     "execution_count": 5,
     "metadata": {},
     "output_type": "execute_result"
    }
   ],
   "source": [
    "# Convert categorical features to integers as the categorical values cause problems when using large datasets\n",
    "\n",
    "df_merged = utils.encode_categorical(df_merged, [\n",
    "    \"item_id\", \"dept_id\", \"cat_id\", \"store_id\", \"state_id\", \"event_name_1\",\n",
    "    \"event_type_1\", \"event_name_2\", \"event_type_2\", 'd'\n",
    "])\n",
    "\n",
    "df_merged.head(10)"
   ]
  },
  {
   "cell_type": "markdown",
   "metadata": {},
   "source": [
    "# Feature Engineering"
   ]
  },
  {
   "cell_type": "code",
   "execution_count": 6,
   "metadata": {
    "ExecuteTime": {
     "end_time": "2020-03-30T13:49:56.038083Z",
     "start_time": "2020-03-30T13:49:53.366222Z"
    }
   },
   "outputs": [],
   "source": [
    "# sales data\n",
    "\n",
    "# rolling mean and rolling std (weekly, monthly, quarterly, and half-year)\n",
    "df_merged['rolling_mean_t7'] = df_merged.groupby(\n",
    "    ['id'])['sale'].transform(lambda x: x.shift(28).rolling(7).mean())\n",
    "\n",
    "df_merged['rolling_std_t7'] = df_merged.groupby(\n",
    "    ['id'])['sale'].transform(lambda x: x.shift(28).rolling(7).std())\n",
    "\n",
    "df_merged['rolling_mean_t30'] = df_merged.groupby(\n",
    "    ['id'])['sale'].transform(lambda x: x.shift(28).rolling(30).mean())\n",
    "\n",
    "df_merged['rolling_std_t30'] = df_merged.groupby(\n",
    "    ['id'])['sale'].transform(lambda x: x.shift(28).rolling(30).std())\n",
    "\n",
    "df_merged['rolling_mean_t90'] = df_merged.groupby(\n",
    "    ['id'])['sale'].transform(lambda x: x.shift(28).rolling(90).mean())\n",
    "\n",
    "df_merged['rolling_std_t90'] = df_merged.groupby(\n",
    "    ['id'])['sale'].transform(lambda x: x.shift(28).rolling(90).std())\n",
    "\n",
    "# laged values\n",
    "df_merged['lag_t30'] = df_merged.groupby(\n",
    "    ['id'])['sale'].transform(lambda x: x.shift(30))"
   ]
  },
  {
   "cell_type": "code",
   "execution_count": 7,
   "metadata": {
    "ExecuteTime": {
     "end_time": "2020-03-30T13:49:57.544091Z",
     "start_time": "2020-03-30T13:49:56.039079Z"
    }
   },
   "outputs": [],
   "source": [
    "# price data\n",
    "df_merged['lag_price_t1'] = df_merged.groupby(\n",
    "    ['id'])['sell_price'].transform(lambda x: x.shift(1))\n",
    "\n",
    "df_merged['rolling_price_max_t30'] = df_merged.groupby(\n",
    "    ['id'])['sell_price'].transform(lambda x: x.shift(1).rolling(30).max())\n",
    "\n",
    "df_merged['price_change_t1'] = (df_merged['lag_price_t1'] -\n",
    "                                df_merged['sell_price']) / (\n",
    "                                    df_merged['lag_price_t1'])\n",
    "\n",
    "df_merged['price_change_t30'] = (df_merged['rolling_price_max_t30'] -\n",
    "                                 df_merged['sell_price']) / (\n",
    "                                     df_merged['rolling_price_max_t30'])\n",
    "\n",
    "df_merged['rolling_price_std_t7'] = df_merged.groupby(\n",
    "    ['id'])['sell_price'].transform(lambda x: x.rolling(7).std())\n",
    "\n",
    "df_merged['rolling_price_std_t30'] = df_merged.groupby(\n",
    "    ['id'])['sell_price'].transform(lambda x: x.rolling(30).std())\n",
    "\n",
    "df_merged.drop(['rolling_price_max_t30', 'lag_price_t1'], inplace=True, axis=1)"
   ]
  },
  {
   "cell_type": "code",
   "execution_count": 8,
   "metadata": {
    "ExecuteTime": {
     "end_time": "2020-03-30T13:49:57.598943Z",
     "start_time": "2020-03-30T13:49:57.546052Z"
    }
   },
   "outputs": [],
   "source": [
    "# date data\n",
    "df_merged[\"is_weekend\"] = df_merged[\"wday\"].isin([1, 2]).astype(np.int8)\n",
    "\n",
    "df_merged.loc[:, 'date'] = pd.to_datetime(df_merged['date'])\n",
    "df_merged['day'] = df_merged['date'].dt.day.astype(np.int8)"
   ]
  },
  {
   "cell_type": "code",
   "execution_count": 9,
   "metadata": {
    "ExecuteTime": {
     "end_time": "2020-03-30T13:49:57.603896Z",
     "start_time": "2020-03-30T13:49:57.599908Z"
    }
   },
   "outputs": [],
   "source": [
    "# TODO: proper feature selection (e.g. random forrest)\n",
    "# for now: hardcoded list of features\n",
    "features = [\n",
    "    'item_id',\n",
    "    'dept_id',\n",
    "    'cat_id',\n",
    "    'store_id',\n",
    "    'state_id',\n",
    "    'year',\n",
    "    'month',\n",
    "    'day',\n",
    "    'is_weekend',\n",
    "    'wday',\n",
    "    'event_name_1',\n",
    "    'event_type_1',\n",
    "    'event_name_2',\n",
    "    'event_type_2',\n",
    "    'snap_CA',\n",
    "    'snap_TX',\n",
    "    'snap_WI',\n",
    "    'sell_price',\n",
    "    'lag_t30',\n",
    "    'rolling_mean_t7',\n",
    "    'rolling_std_t7',\n",
    "    'rolling_mean_t30',\n",
    "    'rolling_std_t30',\n",
    "    'rolling_mean_t90',\n",
    "    'rolling_std_t90',\n",
    "    'price_change_t1',\n",
    "    'rolling_price_std_t7',\n",
    "    'rolling_price_std_t30',\n",
    "]"
   ]
  },
  {
   "cell_type": "code",
   "execution_count": 10,
   "metadata": {
    "ExecuteTime": {
     "end_time": "2020-03-30T13:49:57.675736Z",
     "start_time": "2020-03-30T13:49:57.605892Z"
    }
   },
   "outputs": [],
   "source": [
    "# drop lines with missing values that occur due to feature engineering\n",
    "df_merged = df_merged.dropna(subset=features)"
   ]
  },
  {
   "cell_type": "markdown",
   "metadata": {},
   "source": [
    "# Prepare Data for Training"
   ]
  },
  {
   "cell_type": "code",
   "execution_count": 11,
   "metadata": {
    "ExecuteTime": {
     "end_time": "2020-03-30T13:49:57.727607Z",
     "start_time": "2020-03-30T13:49:57.676702Z"
    }
   },
   "outputs": [
    {
     "name": "stdout",
     "output_type": "stream",
     "text": [
      "(125426, 28)\n",
      "(125426,)\n",
      "(15820, 28)\n",
      "(15820,)\n"
     ]
    }
   ],
   "source": [
    "if performance_validation:\n",
    "    x_train = df_merged[df_merged['date'] <= '2016-03-27'][features]\n",
    "    y_train = df_merged[df_merged['date'] <= '2016-03-27']['sale']\n",
    "    x_val = df_merged[(df_merged['date'] > '2016-03-27')][features]\n",
    "    y_val = y_test\n",
    "\n",
    "else:\n",
    "    x_train = df_merged[df_merged['data_type'] == 'train'][features]\n",
    "    y_train = df_merged[df_merged['data_type'] == 'train']['sale']\n",
    "    x_val = df_merged[(df_merged['data_type'] == 'validation')][features]\n",
    "    y_val = df_merged[(df_merged['data_type'] == 'validation')]['sale']\n",
    "    # -> y_val always NA\n",
    "\n",
    "print(x_train.shape)\n",
    "print(y_train.shape)\n",
    "print(x_val.shape)\n",
    "print(y_val.shape)"
   ]
  },
  {
   "cell_type": "markdown",
   "metadata": {},
   "source": [
    "# Model Training & Forecasting (GradientBoostingRegressor)"
   ]
  },
  {
   "cell_type": "code",
   "execution_count": 12,
   "metadata": {
    "ExecuteTime": {
     "end_time": "2020-03-30T13:50:03.704627Z",
     "start_time": "2020-03-30T13:49:57.728565Z"
    }
   },
   "outputs": [
    {
     "name": "stdout",
     "output_type": "stream",
     "text": [
      "      Iter       Train Loss   Remaining Time \n",
      "         1           2.9893           24.89s\n",
      "         2           2.8448           25.31s\n",
      "         3           2.7278           25.28s\n",
      "         4           2.6305           24.94s\n",
      "         5           2.5516           24.33s\n",
      "         6           2.4875           23.77s\n",
      "         7           2.4342           23.31s\n",
      "         8           2.3907           22.89s\n",
      "         9           2.3549           22.63s\n",
      "        10           2.3259           22.33s\n",
      "        20           2.2000           19.33s\n"
     ]
    }
   ],
   "source": [
    "# docu of classifier: https://scikit-learn.org/stable/modules/generated/sklearn.ensemble.RandomForestRegressor.html#sklearn.ensemble.RandomForestRegressor\n",
    "from sklearn.ensemble import GradientBoostingRegressor\n",
    "\n",
    "clf = GradientBoostingRegressor(n_iter_no_change=5, tol=0.005, verbose=1)\n",
    "clf = clf.fit(x_train, y_train)\n",
    "\n",
    "y_pred = clf.predict(x_val)"
   ]
  },
  {
   "cell_type": "markdown",
   "metadata": {},
   "source": [
    "# Training Analysis"
   ]
  },
  {
   "cell_type": "code",
   "execution_count": 13,
   "metadata": {
    "ExecuteTime": {
     "end_time": "2020-03-30T13:50:03.722547Z",
     "start_time": "2020-03-30T13:50:03.705590Z"
    }
   },
   "outputs": [
    {
     "name": "stdout",
     "output_type": "stream",
     "text": [
      "R-Squared Value: 0.262\n",
      "MSE of computed forecasts: 2.120\n",
      "MSE of SARIMA on small data set 3.565\n",
      "MSE of SARIMA on entire data set 7.615\n"
     ]
    }
   ],
   "source": [
    "if performance_validation:\n",
    "\n",
    "    # R-Squared value\n",
    "    print('R-Squared Value: %0.3f' % clf.score(x_val, y_val))\n",
    "\n",
    "    # MSE of computed forecasts\n",
    "    print('MSE of computed forecasts: %0.3f' %\n",
    "          mean_squared_error(y_val, y_pred))\n",
    "\n",
    "    # MSE of SARIMA\n",
    "    print('MSE of SARIMA on small data set', 3.565)\n",
    "    print('MSE of SARIMA on entire data set', 7.615)"
   ]
  },
  {
   "cell_type": "code",
   "execution_count": 14,
   "metadata": {
    "ExecuteTime": {
     "end_time": "2020-03-30T13:50:03.950969Z",
     "start_time": "2020-03-30T13:50:03.723544Z"
    }
   },
   "outputs": [
    {
     "data": {
      "image/png": "[encoded data removed]",
      "text/plain": [
       "<Figure size 360x576 with 1 Axes>"
      ]
     },
     "metadata": {
      "needs_background": "light"
     },
     "output_type": "display_data"
    }
   ],
   "source": [
    "# Plot feature importances\n",
    "feature_importance = clf.feature_importances_\n",
    "\n",
    "feature_importance = 100.0 * (feature_importance / feature_importance.max())\n",
    "sorted_idx = np.argsort(feature_importance)\n",
    "pos = np.arange(sorted_idx.shape[0]) + .5\n",
    "\n",
    "plt.figure(figsize=(5, 8))\n",
    "plt.grid()\n",
    "plt.barh(pos, feature_importance[sorted_idx], align='center')\n",
    "plt.yticks(pos, x_train.columns[sorted_idx])\n",
    "plt.xlabel('Relative Importance')\n",
    "plt.title('Variable Importance')\n",
    "plt.show()"
   ]
  },
  {
   "cell_type": "code",
   "execution_count": 15,
   "metadata": {
    "ExecuteTime": {
     "end_time": "2020-03-30T13:50:04.089596Z",
     "start_time": "2020-03-30T13:50:03.951934Z"
    }
   },
   "outputs": [
    {
     "data": {
      "text/plain": [
       "Text(0, 0.5, 'Deviance')"
      ]
     },
     "execution_count": 15,
     "metadata": {},
     "output_type": "execute_result"
    },
    {
     "data": {
      "image/png": "[encoded data removed]",
      "text/plain": [
       "<Figure size 864x432 with 1 Axes>"
      ]
     },
     "metadata": {
      "needs_background": "light"
     },
     "output_type": "display_data"
    }
   ],
   "source": [
    "# Plot training deviance\n",
    "\n",
    "test_score = np.zeros((len(clf.estimators_), ), dtype=np.float64)\n",
    "\n",
    "for i, y_pred in enumerate(clf.staged_predict(x_val)):\n",
    "    test_score[i] = clf.loss_(y_val, y_pred)\n",
    "\n",
    "plt.figure(figsize=(12, 6))\n",
    "plt.subplot(1, 2, 1)\n",
    "plt.title('Deviance')\n",
    "plt.plot(np.arange(len(clf.estimators_)) + 1,\n",
    "         clf.train_score_,\n",
    "         'b-',\n",
    "         label='Training Set Deviance')\n",
    "plt.plot(np.arange(len(clf.estimators_)) + 1,\n",
    "         test_score,\n",
    "         'r-',\n",
    "         label='Test Set Deviance')\n",
    "plt.legend(loc='upper right')\n",
    "plt.xlabel('Boosting Iterations')\n",
    "plt.ylabel('Deviance')"
   ]
  },
  {
   "cell_type": "markdown",
   "metadata": {},
   "source": [
    "# Printout Forecasts"
   ]
  },
  {
   "cell_type": "code",
   "execution_count": 16,
   "metadata": {
    "ExecuteTime": {
     "end_time": "2020-03-30T13:50:04.093554Z",
     "start_time": "2020-03-30T13:50:04.090595Z"
    }
   },
   "outputs": [],
   "source": [
    "# map forecast values to encoded item_ids\n",
    "x_val['y_pred'] = y_pred"
   ]
  },
  {
   "cell_type": "code",
   "execution_count": 17,
   "metadata": {
    "ExecuteTime": {
     "end_time": "2020-03-30T13:50:04.138482Z",
     "start_time": "2020-03-30T13:50:04.094551Z"
    }
   },
   "outputs": [],
   "source": [
    "# map encoded ids to decoded ids\n",
    "id_mapping_table = df_merged[['id', 'item_id', 'store_id']].drop_duplicates()\n",
    "df_results = x_val.merge(id_mapping_table,\n",
    "                         on=['item_id', 'store_id'],\n",
    "                         how='left')[[\n",
    "                             'id', 'item_id', 'store_id', 'year', 'month',\n",
    "                             'day', 'y_pred'\n",
    "                         ]]"
   ]
  },
  {
   "cell_type": "code",
   "execution_count": 18,
   "metadata": {
    "ExecuteTime": {
     "end_time": "2020-03-30T13:50:04.339956Z",
     "start_time": "2020-03-30T13:50:04.139431Z"
    }
   },
   "outputs": [],
   "source": [
    "# create dict with IDs and forecasts\n",
    "submission_dict = {}\n",
    "\n",
    "for i, df in df_results.groupby(['id']):\n",
    "    df = df.reset_index(drop=True)\n",
    "    submission_dict[i] = df['y_pred']"
   ]
  },
  {
   "cell_type": "code",
   "execution_count": 19,
   "metadata": {
    "ExecuteTime": {
     "end_time": "2020-03-30T13:50:04.387803Z",
     "start_time": "2020-03-30T13:50:04.340895Z"
    }
   },
   "outputs": [
    {
     "data": {
      "text/html": [
       "<div>\n",
       "<style scoped>\n",
       "    .dataframe tbody tr th:only-of-type {\n",
       "        vertical-align: middle;\n",
       "    }\n",
       "\n",
       "    .dataframe tbody tr th {\n",
       "        vertical-align: top;\n",
       "    }\n",
       "\n",
       "    .dataframe thead th {\n",
       "        text-align: right;\n",
       "    }\n",
       "</style>\n",
       "<table border=\"1\" class=\"dataframe\">\n",
       "  <thead>\n",
       "    <tr style=\"text-align: right;\">\n",
       "      <th></th>\n",
       "      <th>id</th>\n",
       "      <th>F1</th>\n",
       "      <th>F2</th>\n",
       "      <th>F3</th>\n",
       "      <th>F4</th>\n",
       "      <th>F5</th>\n",
       "      <th>F6</th>\n",
       "      <th>F7</th>\n",
       "      <th>F8</th>\n",
       "      <th>F9</th>\n",
       "      <th>...</th>\n",
       "      <th>F19</th>\n",
       "      <th>F20</th>\n",
       "      <th>F21</th>\n",
       "      <th>F22</th>\n",
       "      <th>F23</th>\n",
       "      <th>F24</th>\n",
       "      <th>F25</th>\n",
       "      <th>F26</th>\n",
       "      <th>F27</th>\n",
       "      <th>F28</th>\n",
       "    </tr>\n",
       "  </thead>\n",
       "  <tbody>\n",
       "    <tr>\n",
       "      <th>0</th>\n",
       "      <td>HOBBIES_1_001_TX_2_validation</td>\n",
       "      <td>0.503223</td>\n",
       "      <td>0.503223</td>\n",
       "      <td>0.503223</td>\n",
       "      <td>0.503223</td>\n",
       "      <td>0.503223</td>\n",
       "      <td>0.517811</td>\n",
       "      <td>0.402066</td>\n",
       "      <td>0.387478</td>\n",
       "      <td>0.387478</td>\n",
       "      <td>...</td>\n",
       "      <td>0.373536</td>\n",
       "      <td>0.388123</td>\n",
       "      <td>0.388123</td>\n",
       "      <td>0.351484</td>\n",
       "      <td>0.351484</td>\n",
       "      <td>0.351484</td>\n",
       "      <td>0.418961</td>\n",
       "      <td>0.418961</td>\n",
       "      <td>0.474879</td>\n",
       "      <td>0.474879</td>\n",
       "    </tr>\n",
       "    <tr>\n",
       "      <th>1</th>\n",
       "      <td>HOBBIES_1_002_TX_2_validation</td>\n",
       "      <td>0.216299</td>\n",
       "      <td>0.216299</td>\n",
       "      <td>0.216299</td>\n",
       "      <td>0.216299</td>\n",
       "      <td>0.216299</td>\n",
       "      <td>0.230887</td>\n",
       "      <td>0.230887</td>\n",
       "      <td>0.216299</td>\n",
       "      <td>0.216299</td>\n",
       "      <td>...</td>\n",
       "      <td>0.208748</td>\n",
       "      <td>0.223335</td>\n",
       "      <td>0.223335</td>\n",
       "      <td>0.208748</td>\n",
       "      <td>0.208748</td>\n",
       "      <td>0.208748</td>\n",
       "      <td>0.208748</td>\n",
       "      <td>0.208748</td>\n",
       "      <td>0.223335</td>\n",
       "      <td>0.223335</td>\n",
       "    </tr>\n",
       "    <tr>\n",
       "      <th>2</th>\n",
       "      <td>HOBBIES_1_003_TX_2_validation</td>\n",
       "      <td>0.216299</td>\n",
       "      <td>0.216299</td>\n",
       "      <td>0.216299</td>\n",
       "      <td>0.216299</td>\n",
       "      <td>0.216299</td>\n",
       "      <td>0.230887</td>\n",
       "      <td>0.230887</td>\n",
       "      <td>0.216299</td>\n",
       "      <td>0.216299</td>\n",
       "      <td>...</td>\n",
       "      <td>0.208748</td>\n",
       "      <td>0.223335</td>\n",
       "      <td>0.223335</td>\n",
       "      <td>0.208748</td>\n",
       "      <td>0.208748</td>\n",
       "      <td>0.208748</td>\n",
       "      <td>0.208748</td>\n",
       "      <td>0.208748</td>\n",
       "      <td>0.223335</td>\n",
       "      <td>0.223335</td>\n",
       "    </tr>\n",
       "    <tr>\n",
       "      <th>3</th>\n",
       "      <td>HOBBIES_1_004_TX_2_validation</td>\n",
       "      <td>0.815861</td>\n",
       "      <td>0.748704</td>\n",
       "      <td>0.748704</td>\n",
       "      <td>0.748704</td>\n",
       "      <td>0.748704</td>\n",
       "      <td>0.754063</td>\n",
       "      <td>0.754063</td>\n",
       "      <td>0.666280</td>\n",
       "      <td>0.666280</td>\n",
       "      <td>...</td>\n",
       "      <td>0.740023</td>\n",
       "      <td>0.839410</td>\n",
       "      <td>0.728347</td>\n",
       "      <td>0.896648</td>\n",
       "      <td>0.839931</td>\n",
       "      <td>0.839931</td>\n",
       "      <td>0.756354</td>\n",
       "      <td>1.013654</td>\n",
       "      <td>1.109514</td>\n",
       "      <td>1.075298</td>\n",
       "    </tr>\n",
       "    <tr>\n",
       "      <th>4</th>\n",
       "      <td>HOBBIES_1_005_TX_2_validation</td>\n",
       "      <td>0.546556</td>\n",
       "      <td>0.546556</td>\n",
       "      <td>0.546556</td>\n",
       "      <td>0.546556</td>\n",
       "      <td>0.514432</td>\n",
       "      <td>0.529020</td>\n",
       "      <td>0.466124</td>\n",
       "      <td>0.451536</td>\n",
       "      <td>0.408203</td>\n",
       "      <td>...</td>\n",
       "      <td>0.499859</td>\n",
       "      <td>0.513702</td>\n",
       "      <td>0.513702</td>\n",
       "      <td>0.499859</td>\n",
       "      <td>0.537691</td>\n",
       "      <td>0.537691</td>\n",
       "      <td>0.537691</td>\n",
       "      <td>0.572453</td>\n",
       "      <td>0.611747</td>\n",
       "      <td>0.611747</td>\n",
       "    </tr>\n",
       "    <tr>\n",
       "      <th>...</th>\n",
       "      <td>...</td>\n",
       "      <td>...</td>\n",
       "      <td>...</td>\n",
       "      <td>...</td>\n",
       "      <td>...</td>\n",
       "      <td>...</td>\n",
       "      <td>...</td>\n",
       "      <td>...</td>\n",
       "      <td>...</td>\n",
       "      <td>...</td>\n",
       "      <td>...</td>\n",
       "      <td>...</td>\n",
       "      <td>...</td>\n",
       "      <td>...</td>\n",
       "      <td>...</td>\n",
       "      <td>...</td>\n",
       "      <td>...</td>\n",
       "      <td>...</td>\n",
       "      <td>...</td>\n",
       "      <td>...</td>\n",
       "      <td>...</td>\n",
       "    </tr>\n",
       "    <tr>\n",
       "      <th>560</th>\n",
       "      <td>HOBBIES_2_145_TX_2_validation</td>\n",
       "      <td>0.291809</td>\n",
       "      <td>0.291809</td>\n",
       "      <td>0.276944</td>\n",
       "      <td>0.305752</td>\n",
       "      <td>0.290886</td>\n",
       "      <td>0.291531</td>\n",
       "      <td>0.283872</td>\n",
       "      <td>0.290886</td>\n",
       "      <td>0.311611</td>\n",
       "      <td>...</td>\n",
       "      <td>0.388213</td>\n",
       "      <td>0.410461</td>\n",
       "      <td>0.410461</td>\n",
       "      <td>0.395873</td>\n",
       "      <td>0.395873</td>\n",
       "      <td>0.395873</td>\n",
       "      <td>0.395873</td>\n",
       "      <td>0.363749</td>\n",
       "      <td>0.378337</td>\n",
       "      <td>0.370677</td>\n",
       "    </tr>\n",
       "    <tr>\n",
       "      <th>561</th>\n",
       "      <td>HOBBIES_2_146_TX_2_validation</td>\n",
       "      <td>0.239554</td>\n",
       "      <td>0.239554</td>\n",
       "      <td>0.239554</td>\n",
       "      <td>0.239554</td>\n",
       "      <td>0.239554</td>\n",
       "      <td>0.254142</td>\n",
       "      <td>0.254142</td>\n",
       "      <td>0.225848</td>\n",
       "      <td>0.225848</td>\n",
       "      <td>...</td>\n",
       "      <td>0.303145</td>\n",
       "      <td>0.307781</td>\n",
       "      <td>0.307781</td>\n",
       "      <td>0.293193</td>\n",
       "      <td>0.366041</td>\n",
       "      <td>0.398165</td>\n",
       "      <td>0.388213</td>\n",
       "      <td>0.388213</td>\n",
       "      <td>0.402801</td>\n",
       "      <td>0.370677</td>\n",
       "    </tr>\n",
       "    <tr>\n",
       "      <th>562</th>\n",
       "      <td>HOBBIES_2_147_TX_2_validation</td>\n",
       "      <td>0.551994</td>\n",
       "      <td>0.542042</td>\n",
       "      <td>0.542042</td>\n",
       "      <td>0.540319</td>\n",
       "      <td>0.540319</td>\n",
       "      <td>0.589565</td>\n",
       "      <td>0.527907</td>\n",
       "      <td>0.481172</td>\n",
       "      <td>0.481172</td>\n",
       "      <td>...</td>\n",
       "      <td>0.632369</td>\n",
       "      <td>0.657405</td>\n",
       "      <td>0.657405</td>\n",
       "      <td>0.618111</td>\n",
       "      <td>0.597652</td>\n",
       "      <td>0.537691</td>\n",
       "      <td>0.537691</td>\n",
       "      <td>0.551994</td>\n",
       "      <td>0.591288</td>\n",
       "      <td>0.591288</td>\n",
       "    </tr>\n",
       "    <tr>\n",
       "      <th>563</th>\n",
       "      <td>HOBBIES_2_148_TX_2_validation</td>\n",
       "      <td>0.471100</td>\n",
       "      <td>0.398236</td>\n",
       "      <td>0.462294</td>\n",
       "      <td>0.418961</td>\n",
       "      <td>0.418961</td>\n",
       "      <td>0.433549</td>\n",
       "      <td>0.433549</td>\n",
       "      <td>0.418961</td>\n",
       "      <td>0.418961</td>\n",
       "      <td>...</td>\n",
       "      <td>0.295507</td>\n",
       "      <td>0.310094</td>\n",
       "      <td>0.310094</td>\n",
       "      <td>0.295507</td>\n",
       "      <td>0.295507</td>\n",
       "      <td>0.295507</td>\n",
       "      <td>0.295507</td>\n",
       "      <td>0.295507</td>\n",
       "      <td>0.310094</td>\n",
       "      <td>0.310094</td>\n",
       "    </tr>\n",
       "    <tr>\n",
       "      <th>564</th>\n",
       "      <td>HOBBIES_2_149_TX_2_validation</td>\n",
       "      <td>0.972783</td>\n",
       "      <td>0.916473</td>\n",
       "      <td>0.882712</td>\n",
       "      <td>0.888285</td>\n",
       "      <td>0.866016</td>\n",
       "      <td>0.917028</td>\n",
       "      <td>0.760772</td>\n",
       "      <td>0.767883</td>\n",
       "      <td>0.636620</td>\n",
       "      <td>...</td>\n",
       "      <td>0.471100</td>\n",
       "      <td>0.517811</td>\n",
       "      <td>0.559141</td>\n",
       "      <td>0.513175</td>\n",
       "      <td>0.556508</td>\n",
       "      <td>0.615786</td>\n",
       "      <td>0.615786</td>\n",
       "      <td>0.636114</td>\n",
       "      <td>0.654949</td>\n",
       "      <td>0.654949</td>\n",
       "    </tr>\n",
       "  </tbody>\n",
       "</table>\n",
       "<p>565 rows × 29 columns</p>\n",
       "</div>"
      ],
      "text/plain": [
       "                                id        F1        F2        F3        F4  \\\n",
       "0    HOBBIES_1_001_TX_2_validation  0.503223  0.503223  0.503223  0.503223   \n",
       "1    HOBBIES_1_002_TX_2_validation  0.216299  0.216299  0.216299  0.216299   \n",
       "2    HOBBIES_1_003_TX_2_validation  0.216299  0.216299  0.216299  0.216299   \n",
       "3    HOBBIES_1_004_TX_2_validation  0.815861  0.748704  0.748704  0.748704   \n",
       "4    HOBBIES_1_005_TX_2_validation  0.546556  0.546556  0.546556  0.546556   \n",
       "..                             ...       ...       ...       ...       ...   \n",
       "560  HOBBIES_2_145_TX_2_validation  0.291809  0.291809  0.276944  0.305752   \n",
       "561  HOBBIES_2_146_TX_2_validation  0.239554  0.239554  0.239554  0.239554   \n",
       "562  HOBBIES_2_147_TX_2_validation  0.551994  0.542042  0.542042  0.540319   \n",
       "563  HOBBIES_2_148_TX_2_validation  0.471100  0.398236  0.462294  0.418961   \n",
       "564  HOBBIES_2_149_TX_2_validation  0.972783  0.916473  0.882712  0.888285   \n",
       "\n",
       "           F5        F6        F7        F8        F9  ...       F19  \\\n",
       "0    0.503223  0.517811  0.402066  0.387478  0.387478  ...  0.373536   \n",
       "1    0.216299  0.230887  0.230887  0.216299  0.216299  ...  0.208748   \n",
       "2    0.216299  0.230887  0.230887  0.216299  0.216299  ...  0.208748   \n",
       "3    0.748704  0.754063  0.754063  0.666280  0.666280  ...  0.740023   \n",
       "4    0.514432  0.529020  0.466124  0.451536  0.408203  ...  0.499859   \n",
       "..        ...       ...       ...       ...       ...  ...       ...   \n",
       "560  0.290886  0.291531  0.283872  0.290886  0.311611  ...  0.388213   \n",
       "561  0.239554  0.254142  0.254142  0.225848  0.225848  ...  0.303145   \n",
       "562  0.540319  0.589565  0.527907  0.481172  0.481172  ...  0.632369   \n",
       "563  0.418961  0.433549  0.433549  0.418961  0.418961  ...  0.295507   \n",
       "564  0.866016  0.917028  0.760772  0.767883  0.636620  ...  0.471100   \n",
       "\n",
       "          F20       F21       F22       F23       F24       F25       F26  \\\n",
       "0    0.388123  0.388123  0.351484  0.351484  0.351484  0.418961  0.418961   \n",
       "1    0.223335  0.223335  0.208748  0.208748  0.208748  0.208748  0.208748   \n",
       "2    0.223335  0.223335  0.208748  0.208748  0.208748  0.208748  0.208748   \n",
       "3    0.839410  0.728347  0.896648  0.839931  0.839931  0.756354  1.013654   \n",
       "4    0.513702  0.513702  0.499859  0.537691  0.537691  0.537691  0.572453   \n",
       "..        ...       ...       ...       ...       ...       ...       ...   \n",
       "560  0.410461  0.410461  0.395873  0.395873  0.395873  0.395873  0.363749   \n",
       "561  0.307781  0.307781  0.293193  0.366041  0.398165  0.388213  0.388213   \n",
       "562  0.657405  0.657405  0.618111  0.597652  0.537691  0.537691  0.551994   \n",
       "563  0.310094  0.310094  0.295507  0.295507  0.295507  0.295507  0.295507   \n",
       "564  0.517811  0.559141  0.513175  0.556508  0.615786  0.615786  0.636114   \n",
       "\n",
       "          F27       F28  \n",
       "0    0.474879  0.474879  \n",
       "1    0.223335  0.223335  \n",
       "2    0.223335  0.223335  \n",
       "3    1.109514  1.075298  \n",
       "4    0.611747  0.611747  \n",
       "..        ...       ...  \n",
       "560  0.378337  0.370677  \n",
       "561  0.402801  0.370677  \n",
       "562  0.591288  0.591288  \n",
       "563  0.310094  0.310094  \n",
       "564  0.654949  0.654949  \n",
       "\n",
       "[565 rows x 29 columns]"
      ]
     },
     "execution_count": 19,
     "metadata": {},
     "output_type": "execute_result"
    }
   ],
   "source": [
    "# convert dict to dataframe\n",
    "submission_df = pd.DataFrame(submission_dict).T\n",
    "submission_df.reset_index(level=0, inplace=True)\n",
    "submission_df.columns = ['id'] + [f'F{di}' for di in list(range(1, 29))]\n",
    "submission_df"
   ]
  },
  {
   "cell_type": "markdown",
   "metadata": {},
   "source": [
    "# Submit to Kaggle "
   ]
  },
  {
   "cell_type": "code",
   "execution_count": 20,
   "metadata": {
    "ExecuteTime": {
     "end_time": "2020-03-30T13:50:04.392754Z",
     "start_time": "2020-03-30T13:50:04.388766Z"
    }
   },
   "outputs": [],
   "source": [
    "if performance_validation is False:\n",
    "    # Bring data to Kaggel's required form (evaluation & validation)\n",
    "    df_submission = submission_df.append(\n",
    "        submission_df.replace(to_replace='validation', value='evaluation',\n",
    "                              regex=True))\n",
    "    filename = utils.get_m5_root_dir(\n",
    "    ) + '/data/submissions/gradient_boosting_regressor_v_1_0.csv'\n",
    "    df_submission.to_csv(filename, index=False)\n",
    "    \n",
    "\n",
    "    # Submit via Kaggle API or with website https://www.kaggle.com/c/m5-forecasting-accuracy/submissions\n",
    "    #!kaggle competitions submit - c m5-forecasting-accuracy - f data/submissions/gradient_boosting_regressor_v_1_0.csv - m\"gradient_boosting_regressor_v_1_0.csv\""
   ]
  },
  {
   "cell_type": "code",
   "execution_count": null,
   "metadata": {},
   "outputs": [],
   "source": []
  },
  {
   "cell_type": "code",
   "execution_count": null,
   "metadata": {},
   "outputs": [],
   "source": []
  }
 ],
 "metadata": {
  "kernelspec": {
   "display_name": "Python 3",
   "language": "python",
   "name": "python3"
  },
  "language_info": {
   "codemirror_mode": {
    "name": "ipython",
    "version": 3
   },
   "file_extension": ".py",
   "mimetype": "text/x-python",
   "name": "python",
   "nbconvert_exporter": "python",
   "pygments_lexer": "ipython3",
   "version": "3.7.6"
  }
 },
 "nbformat": 4,
 "nbformat_minor": 4
}
