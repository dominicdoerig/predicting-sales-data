{
 "cells": [
  {
   "cell_type": "markdown",
   "metadata": {},
   "source": [
    "# Define Running Mode"
   ]
  },
  {
   "cell_type": "markdown",
   "metadata": {},
   "source": [
    "'full_dataset = True' to use the full data set. If 'full_dataset = True', then a data set containing only data one year of the hobbies sales in TX2.  \n",
    "    \n",
    "'submit_to_kaggle = True' to submit the forecasts to Kaggle.  \n"
   ]
  },
  {
   "cell_type": "code",
   "execution_count": 1,
   "metadata": {
    "ExecuteTime": {
     "end_time": "2020-04-04T22:05:50.239698Z",
     "start_time": "2020-04-04T22:05:50.236705Z"
    }
   },
   "outputs": [],
   "source": [
    "full_dataset = True\n",
    "submit_to_kaggle = True\n"
   ]
  },
  {
   "cell_type": "markdown",
   "metadata": {},
   "source": [
    "# Import Packages"
   ]
  },
  {
   "cell_type": "code",
   "execution_count": 2,
   "metadata": {
    "ExecuteTime": {
     "end_time": "2020-04-04T22:05:51.180218Z",
     "start_time": "2020-04-04T22:05:50.240662Z"
    }
   },
   "outputs": [],
   "source": [
    "import utils\n",
    "import pandas as pd\n",
    "import numpy as np\n",
    "import matplotlib.pyplot as plt\n",
    "from tqdm.notebook import tqdm\n",
    "import time\n",
    "from sklearn.metrics import mean_squared_error\n",
    "import lightgbm as lgb"
   ]
  },
  {
   "cell_type": "markdown",
   "metadata": {},
   "source": [
    "# Data Import and Preparation"
   ]
  },
  {
   "cell_type": "code",
   "execution_count": 3,
   "metadata": {
    "ExecuteTime": {
     "end_time": "2020-04-04T22:12:56.980365Z",
     "start_time": "2020-04-04T22:05:51.181184Z"
    }
   },
   "outputs": [
    {
     "name": "stderr",
     "output_type": "stream",
     "text": [
      "c:\\users\\domin\\anaconda3\\envs\\predicting-sales-data\\lib\\site-packages\\IPython\\core\\interactiveshell.py:3063: DtypeWarning: Columns (14,15,16,17) have mixed types.Specify dtype option on import or set low_memory=False.\n",
      "  interactivity=interactivity, compiler=compiler, result=result)\n"
     ]
    },
    {
     "data": {
      "text/html": [
       "<div>\n",
       "<style scoped>\n",
       "    .dataframe tbody tr th:only-of-type {\n",
       "        vertical-align: middle;\n",
       "    }\n",
       "\n",
       "    .dataframe tbody tr th {\n",
       "        vertical-align: top;\n",
       "    }\n",
       "\n",
       "    .dataframe thead th {\n",
       "        text-align: right;\n",
       "    }\n",
       "</style>\n",
       "<table border=\"1\" class=\"dataframe\">\n",
       "  <thead>\n",
       "    <tr style=\"text-align: right;\">\n",
       "      <th></th>\n",
       "      <th>id</th>\n",
       "      <th>item_id</th>\n",
       "      <th>dept_id</th>\n",
       "      <th>cat_id</th>\n",
       "      <th>store_id</th>\n",
       "      <th>state_id</th>\n",
       "      <th>d</th>\n",
       "      <th>sale</th>\n",
       "      <th>date</th>\n",
       "      <th>wm_yr_wk</th>\n",
       "      <th>...</th>\n",
       "      <th>year</th>\n",
       "      <th>event_name_1</th>\n",
       "      <th>event_type_1</th>\n",
       "      <th>event_name_2</th>\n",
       "      <th>event_type_2</th>\n",
       "      <th>snap_CA</th>\n",
       "      <th>snap_TX</th>\n",
       "      <th>snap_WI</th>\n",
       "      <th>sell_price</th>\n",
       "      <th>data_type</th>\n",
       "    </tr>\n",
       "  </thead>\n",
       "  <tbody>\n",
       "    <tr>\n",
       "      <th>0</th>\n",
       "      <td>HOBBIES_1_001_CA_1_validation</td>\n",
       "      <td>HOBBIES_1_001</td>\n",
       "      <td>HOBBIES_1</td>\n",
       "      <td>HOBBIES</td>\n",
       "      <td>CA_1</td>\n",
       "      <td>CA</td>\n",
       "      <td>d_1</td>\n",
       "      <td>0.0</td>\n",
       "      <td>2011-01-29</td>\n",
       "      <td>11101</td>\n",
       "      <td>...</td>\n",
       "      <td>2011</td>\n",
       "      <td>NaN</td>\n",
       "      <td>NaN</td>\n",
       "      <td>NaN</td>\n",
       "      <td>NaN</td>\n",
       "      <td>0</td>\n",
       "      <td>0</td>\n",
       "      <td>0</td>\n",
       "      <td>NaN</td>\n",
       "      <td>train</td>\n",
       "    </tr>\n",
       "    <tr>\n",
       "      <th>1</th>\n",
       "      <td>HOBBIES_1_002_CA_1_validation</td>\n",
       "      <td>HOBBIES_1_002</td>\n",
       "      <td>HOBBIES_1</td>\n",
       "      <td>HOBBIES</td>\n",
       "      <td>CA_1</td>\n",
       "      <td>CA</td>\n",
       "      <td>d_1</td>\n",
       "      <td>0.0</td>\n",
       "      <td>2011-01-29</td>\n",
       "      <td>11101</td>\n",
       "      <td>...</td>\n",
       "      <td>2011</td>\n",
       "      <td>NaN</td>\n",
       "      <td>NaN</td>\n",
       "      <td>NaN</td>\n",
       "      <td>NaN</td>\n",
       "      <td>0</td>\n",
       "      <td>0</td>\n",
       "      <td>0</td>\n",
       "      <td>NaN</td>\n",
       "      <td>train</td>\n",
       "    </tr>\n",
       "    <tr>\n",
       "      <th>2</th>\n",
       "      <td>HOBBIES_1_003_CA_1_validation</td>\n",
       "      <td>HOBBIES_1_003</td>\n",
       "      <td>HOBBIES_1</td>\n",
       "      <td>HOBBIES</td>\n",
       "      <td>CA_1</td>\n",
       "      <td>CA</td>\n",
       "      <td>d_1</td>\n",
       "      <td>0.0</td>\n",
       "      <td>2011-01-29</td>\n",
       "      <td>11101</td>\n",
       "      <td>...</td>\n",
       "      <td>2011</td>\n",
       "      <td>NaN</td>\n",
       "      <td>NaN</td>\n",
       "      <td>NaN</td>\n",
       "      <td>NaN</td>\n",
       "      <td>0</td>\n",
       "      <td>0</td>\n",
       "      <td>0</td>\n",
       "      <td>NaN</td>\n",
       "      <td>train</td>\n",
       "    </tr>\n",
       "    <tr>\n",
       "      <th>3</th>\n",
       "      <td>HOBBIES_1_004_CA_1_validation</td>\n",
       "      <td>HOBBIES_1_004</td>\n",
       "      <td>HOBBIES_1</td>\n",
       "      <td>HOBBIES</td>\n",
       "      <td>CA_1</td>\n",
       "      <td>CA</td>\n",
       "      <td>d_1</td>\n",
       "      <td>0.0</td>\n",
       "      <td>2011-01-29</td>\n",
       "      <td>11101</td>\n",
       "      <td>...</td>\n",
       "      <td>2011</td>\n",
       "      <td>NaN</td>\n",
       "      <td>NaN</td>\n",
       "      <td>NaN</td>\n",
       "      <td>NaN</td>\n",
       "      <td>0</td>\n",
       "      <td>0</td>\n",
       "      <td>0</td>\n",
       "      <td>NaN</td>\n",
       "      <td>train</td>\n",
       "    </tr>\n",
       "    <tr>\n",
       "      <th>4</th>\n",
       "      <td>HOBBIES_1_005_CA_1_validation</td>\n",
       "      <td>HOBBIES_1_005</td>\n",
       "      <td>HOBBIES_1</td>\n",
       "      <td>HOBBIES</td>\n",
       "      <td>CA_1</td>\n",
       "      <td>CA</td>\n",
       "      <td>d_1</td>\n",
       "      <td>0.0</td>\n",
       "      <td>2011-01-29</td>\n",
       "      <td>11101</td>\n",
       "      <td>...</td>\n",
       "      <td>2011</td>\n",
       "      <td>NaN</td>\n",
       "      <td>NaN</td>\n",
       "      <td>NaN</td>\n",
       "      <td>NaN</td>\n",
       "      <td>0</td>\n",
       "      <td>0</td>\n",
       "      <td>0</td>\n",
       "      <td>NaN</td>\n",
       "      <td>train</td>\n",
       "    </tr>\n",
       "    <tr>\n",
       "      <th>59181085</th>\n",
       "      <td>FOODS_3_823_WI_3_validation</td>\n",
       "      <td>FOODS_3_823</td>\n",
       "      <td>FOODS_3</td>\n",
       "      <td>FOODS</td>\n",
       "      <td>WI_3</td>\n",
       "      <td>WI</td>\n",
       "      <td>d_1941</td>\n",
       "      <td>NaN</td>\n",
       "      <td>2016-05-22</td>\n",
       "      <td>11617</td>\n",
       "      <td>...</td>\n",
       "      <td>2016</td>\n",
       "      <td>NaN</td>\n",
       "      <td>NaN</td>\n",
       "      <td>NaN</td>\n",
       "      <td>NaN</td>\n",
       "      <td>0</td>\n",
       "      <td>0</td>\n",
       "      <td>0</td>\n",
       "      <td>2.98</td>\n",
       "      <td>validation</td>\n",
       "    </tr>\n",
       "    <tr>\n",
       "      <th>59181086</th>\n",
       "      <td>FOODS_3_824_WI_3_validation</td>\n",
       "      <td>FOODS_3_824</td>\n",
       "      <td>FOODS_3</td>\n",
       "      <td>FOODS</td>\n",
       "      <td>WI_3</td>\n",
       "      <td>WI</td>\n",
       "      <td>d_1941</td>\n",
       "      <td>NaN</td>\n",
       "      <td>2016-05-22</td>\n",
       "      <td>11617</td>\n",
       "      <td>...</td>\n",
       "      <td>2016</td>\n",
       "      <td>NaN</td>\n",
       "      <td>NaN</td>\n",
       "      <td>NaN</td>\n",
       "      <td>NaN</td>\n",
       "      <td>0</td>\n",
       "      <td>0</td>\n",
       "      <td>0</td>\n",
       "      <td>2.48</td>\n",
       "      <td>validation</td>\n",
       "    </tr>\n",
       "    <tr>\n",
       "      <th>59181087</th>\n",
       "      <td>FOODS_3_825_WI_3_validation</td>\n",
       "      <td>FOODS_3_825</td>\n",
       "      <td>FOODS_3</td>\n",
       "      <td>FOODS</td>\n",
       "      <td>WI_3</td>\n",
       "      <td>WI</td>\n",
       "      <td>d_1941</td>\n",
       "      <td>NaN</td>\n",
       "      <td>2016-05-22</td>\n",
       "      <td>11617</td>\n",
       "      <td>...</td>\n",
       "      <td>2016</td>\n",
       "      <td>NaN</td>\n",
       "      <td>NaN</td>\n",
       "      <td>NaN</td>\n",
       "      <td>NaN</td>\n",
       "      <td>0</td>\n",
       "      <td>0</td>\n",
       "      <td>0</td>\n",
       "      <td>3.98</td>\n",
       "      <td>validation</td>\n",
       "    </tr>\n",
       "    <tr>\n",
       "      <th>59181088</th>\n",
       "      <td>FOODS_3_826_WI_3_validation</td>\n",
       "      <td>FOODS_3_826</td>\n",
       "      <td>FOODS_3</td>\n",
       "      <td>FOODS</td>\n",
       "      <td>WI_3</td>\n",
       "      <td>WI</td>\n",
       "      <td>d_1941</td>\n",
       "      <td>NaN</td>\n",
       "      <td>2016-05-22</td>\n",
       "      <td>11617</td>\n",
       "      <td>...</td>\n",
       "      <td>2016</td>\n",
       "      <td>NaN</td>\n",
       "      <td>NaN</td>\n",
       "      <td>NaN</td>\n",
       "      <td>NaN</td>\n",
       "      <td>0</td>\n",
       "      <td>0</td>\n",
       "      <td>0</td>\n",
       "      <td>1.28</td>\n",
       "      <td>validation</td>\n",
       "    </tr>\n",
       "    <tr>\n",
       "      <th>59181089</th>\n",
       "      <td>FOODS_3_827_WI_3_validation</td>\n",
       "      <td>FOODS_3_827</td>\n",
       "      <td>FOODS_3</td>\n",
       "      <td>FOODS</td>\n",
       "      <td>WI_3</td>\n",
       "      <td>WI</td>\n",
       "      <td>d_1941</td>\n",
       "      <td>NaN</td>\n",
       "      <td>2016-05-22</td>\n",
       "      <td>11617</td>\n",
       "      <td>...</td>\n",
       "      <td>2016</td>\n",
       "      <td>NaN</td>\n",
       "      <td>NaN</td>\n",
       "      <td>NaN</td>\n",
       "      <td>NaN</td>\n",
       "      <td>0</td>\n",
       "      <td>0</td>\n",
       "      <td>0</td>\n",
       "      <td>1.00</td>\n",
       "      <td>validation</td>\n",
       "    </tr>\n",
       "  </tbody>\n",
       "</table>\n",
       "<p>10 rows × 23 columns</p>\n",
       "</div>"
      ],
      "text/plain": [
       "                                     id        item_id    dept_id   cat_id  \\\n",
       "0         HOBBIES_1_001_CA_1_validation  HOBBIES_1_001  HOBBIES_1  HOBBIES   \n",
       "1         HOBBIES_1_002_CA_1_validation  HOBBIES_1_002  HOBBIES_1  HOBBIES   \n",
       "2         HOBBIES_1_003_CA_1_validation  HOBBIES_1_003  HOBBIES_1  HOBBIES   \n",
       "3         HOBBIES_1_004_CA_1_validation  HOBBIES_1_004  HOBBIES_1  HOBBIES   \n",
       "4         HOBBIES_1_005_CA_1_validation  HOBBIES_1_005  HOBBIES_1  HOBBIES   \n",
       "59181085    FOODS_3_823_WI_3_validation    FOODS_3_823    FOODS_3    FOODS   \n",
       "59181086    FOODS_3_824_WI_3_validation    FOODS_3_824    FOODS_3    FOODS   \n",
       "59181087    FOODS_3_825_WI_3_validation    FOODS_3_825    FOODS_3    FOODS   \n",
       "59181088    FOODS_3_826_WI_3_validation    FOODS_3_826    FOODS_3    FOODS   \n",
       "59181089    FOODS_3_827_WI_3_validation    FOODS_3_827    FOODS_3    FOODS   \n",
       "\n",
       "         store_id state_id       d  sale        date  wm_yr_wk  ...  year  \\\n",
       "0            CA_1       CA     d_1   0.0  2011-01-29     11101  ...  2011   \n",
       "1            CA_1       CA     d_1   0.0  2011-01-29     11101  ...  2011   \n",
       "2            CA_1       CA     d_1   0.0  2011-01-29     11101  ...  2011   \n",
       "3            CA_1       CA     d_1   0.0  2011-01-29     11101  ...  2011   \n",
       "4            CA_1       CA     d_1   0.0  2011-01-29     11101  ...  2011   \n",
       "59181085     WI_3       WI  d_1941   NaN  2016-05-22     11617  ...  2016   \n",
       "59181086     WI_3       WI  d_1941   NaN  2016-05-22     11617  ...  2016   \n",
       "59181087     WI_3       WI  d_1941   NaN  2016-05-22     11617  ...  2016   \n",
       "59181088     WI_3       WI  d_1941   NaN  2016-05-22     11617  ...  2016   \n",
       "59181089     WI_3       WI  d_1941   NaN  2016-05-22     11617  ...  2016   \n",
       "\n",
       "          event_name_1  event_type_1  event_name_2 event_type_2 snap_CA  \\\n",
       "0                  NaN           NaN           NaN          NaN       0   \n",
       "1                  NaN           NaN           NaN          NaN       0   \n",
       "2                  NaN           NaN           NaN          NaN       0   \n",
       "3                  NaN           NaN           NaN          NaN       0   \n",
       "4                  NaN           NaN           NaN          NaN       0   \n",
       "59181085           NaN           NaN           NaN          NaN       0   \n",
       "59181086           NaN           NaN           NaN          NaN       0   \n",
       "59181087           NaN           NaN           NaN          NaN       0   \n",
       "59181088           NaN           NaN           NaN          NaN       0   \n",
       "59181089           NaN           NaN           NaN          NaN       0   \n",
       "\n",
       "         snap_TX snap_WI  sell_price   data_type  \n",
       "0              0       0         NaN       train  \n",
       "1              0       0         NaN       train  \n",
       "2              0       0         NaN       train  \n",
       "3              0       0         NaN       train  \n",
       "4              0       0         NaN       train  \n",
       "59181085       0       0        2.98  validation  \n",
       "59181086       0       0        2.48  validation  \n",
       "59181087       0       0        3.98  validation  \n",
       "59181088       0       0        1.28  validation  \n",
       "59181089       0       0        1.00  validation  \n",
       "\n",
       "[10 rows x 23 columns]"
      ]
     },
     "execution_count": 3,
     "metadata": {},
     "output_type": "execute_result"
    }
   ],
   "source": [
    "# Import data\n",
    "submission = pd.read_csv(\n",
    "    f'{utils.get_m5_root_dir()}/data/input/sample_submission.csv')\n",
    "if full_dataset:\n",
    "    df_merged = pd.read_csv(\n",
    "        f'{utils.get_m5_root_dir()}/data/preprocessed/preprocessed_input_data.csv')\n",
    "else:\n",
    "    df_merged = pd.read_csv(\n",
    "        f'{utils.get_m5_root_dir()}/data/preprocessed/tx2_hobbies_1year.csv')\n",
    "\n",
    "# extract training and validation data (drop evaluation) since we are still in validation phase\n",
    "df_merged = df_merged.loc[df_merged['data_type'] != 'evaluation']\n",
    "\n",
    "# print top and bottom lines    \n",
    "df_merged.head(5).append(df_merged.tail(5))"
   ]
  },
  {
   "cell_type": "code",
   "execution_count": 4,
   "metadata": {
    "ExecuteTime": {
     "end_time": "2020-04-04T22:13:25.754562Z",
     "start_time": "2020-04-04T22:12:56.989308Z"
    }
   },
   "outputs": [
    {
     "name": "stdout",
     "output_type": "stream",
     "text": [
      "Mem. usage of decreased to 7732.21 Mb (28.6% reduction)\n"
     ]
    }
   ],
   "source": [
    "# downcast numerical values to reduce mem usage\n",
    "df_merged = utils.reduce_mem_usage(df_merged)"
   ]
  },
  {
   "cell_type": "code",
   "execution_count": 5,
   "metadata": {
    "ExecuteTime": {
     "end_time": "2020-04-04T22:23:44.469964Z",
     "start_time": "2020-04-04T22:13:25.756558Z"
    }
   },
   "outputs": [
    {
     "name": "stdout",
     "output_type": "stream",
     "text": [
      "Mem. usage of decreased to 3894.32 Mb (28.9% reduction)\n"
     ]
    },
    {
     "data": {
      "text/html": [
       "<div>\n",
       "<style scoped>\n",
       "    .dataframe tbody tr th:only-of-type {\n",
       "        vertical-align: middle;\n",
       "    }\n",
       "\n",
       "    .dataframe tbody tr th {\n",
       "        vertical-align: top;\n",
       "    }\n",
       "\n",
       "    .dataframe thead th {\n",
       "        text-align: right;\n",
       "    }\n",
       "</style>\n",
       "<table border=\"1\" class=\"dataframe\">\n",
       "  <thead>\n",
       "    <tr style=\"text-align: right;\">\n",
       "      <th></th>\n",
       "      <th>id</th>\n",
       "      <th>item_id</th>\n",
       "      <th>dept_id</th>\n",
       "      <th>cat_id</th>\n",
       "      <th>store_id</th>\n",
       "      <th>state_id</th>\n",
       "      <th>d</th>\n",
       "      <th>sale</th>\n",
       "      <th>date</th>\n",
       "      <th>wm_yr_wk</th>\n",
       "      <th>...</th>\n",
       "      <th>year</th>\n",
       "      <th>event_name_1</th>\n",
       "      <th>event_type_1</th>\n",
       "      <th>event_name_2</th>\n",
       "      <th>event_type_2</th>\n",
       "      <th>snap_CA</th>\n",
       "      <th>snap_TX</th>\n",
       "      <th>snap_WI</th>\n",
       "      <th>sell_price</th>\n",
       "      <th>data_type</th>\n",
       "    </tr>\n",
       "  </thead>\n",
       "  <tbody>\n",
       "    <tr>\n",
       "      <th>0</th>\n",
       "      <td>HOBBIES_1_001_CA_1_validation</td>\n",
       "      <td>1437</td>\n",
       "      <td>3</td>\n",
       "      <td>1</td>\n",
       "      <td>0</td>\n",
       "      <td>0</td>\n",
       "      <td>0</td>\n",
       "      <td>0.0</td>\n",
       "      <td>2011-01-29</td>\n",
       "      <td>11101</td>\n",
       "      <td>...</td>\n",
       "      <td>2011</td>\n",
       "      <td>13</td>\n",
       "      <td>1</td>\n",
       "      <td>3</td>\n",
       "      <td>1</td>\n",
       "      <td>0</td>\n",
       "      <td>0</td>\n",
       "      <td>0</td>\n",
       "      <td>NaN</td>\n",
       "      <td>train</td>\n",
       "    </tr>\n",
       "    <tr>\n",
       "      <th>1</th>\n",
       "      <td>HOBBIES_1_002_CA_1_validation</td>\n",
       "      <td>1438</td>\n",
       "      <td>3</td>\n",
       "      <td>1</td>\n",
       "      <td>0</td>\n",
       "      <td>0</td>\n",
       "      <td>0</td>\n",
       "      <td>0.0</td>\n",
       "      <td>2011-01-29</td>\n",
       "      <td>11101</td>\n",
       "      <td>...</td>\n",
       "      <td>2011</td>\n",
       "      <td>13</td>\n",
       "      <td>1</td>\n",
       "      <td>3</td>\n",
       "      <td>1</td>\n",
       "      <td>0</td>\n",
       "      <td>0</td>\n",
       "      <td>0</td>\n",
       "      <td>NaN</td>\n",
       "      <td>train</td>\n",
       "    </tr>\n",
       "    <tr>\n",
       "      <th>2</th>\n",
       "      <td>HOBBIES_1_003_CA_1_validation</td>\n",
       "      <td>1439</td>\n",
       "      <td>3</td>\n",
       "      <td>1</td>\n",
       "      <td>0</td>\n",
       "      <td>0</td>\n",
       "      <td>0</td>\n",
       "      <td>0.0</td>\n",
       "      <td>2011-01-29</td>\n",
       "      <td>11101</td>\n",
       "      <td>...</td>\n",
       "      <td>2011</td>\n",
       "      <td>13</td>\n",
       "      <td>1</td>\n",
       "      <td>3</td>\n",
       "      <td>1</td>\n",
       "      <td>0</td>\n",
       "      <td>0</td>\n",
       "      <td>0</td>\n",
       "      <td>NaN</td>\n",
       "      <td>train</td>\n",
       "    </tr>\n",
       "    <tr>\n",
       "      <th>3</th>\n",
       "      <td>HOBBIES_1_004_CA_1_validation</td>\n",
       "      <td>1440</td>\n",
       "      <td>3</td>\n",
       "      <td>1</td>\n",
       "      <td>0</td>\n",
       "      <td>0</td>\n",
       "      <td>0</td>\n",
       "      <td>0.0</td>\n",
       "      <td>2011-01-29</td>\n",
       "      <td>11101</td>\n",
       "      <td>...</td>\n",
       "      <td>2011</td>\n",
       "      <td>13</td>\n",
       "      <td>1</td>\n",
       "      <td>3</td>\n",
       "      <td>1</td>\n",
       "      <td>0</td>\n",
       "      <td>0</td>\n",
       "      <td>0</td>\n",
       "      <td>NaN</td>\n",
       "      <td>train</td>\n",
       "    </tr>\n",
       "    <tr>\n",
       "      <th>4</th>\n",
       "      <td>HOBBIES_1_005_CA_1_validation</td>\n",
       "      <td>1441</td>\n",
       "      <td>3</td>\n",
       "      <td>1</td>\n",
       "      <td>0</td>\n",
       "      <td>0</td>\n",
       "      <td>0</td>\n",
       "      <td>0.0</td>\n",
       "      <td>2011-01-29</td>\n",
       "      <td>11101</td>\n",
       "      <td>...</td>\n",
       "      <td>2011</td>\n",
       "      <td>13</td>\n",
       "      <td>1</td>\n",
       "      <td>3</td>\n",
       "      <td>1</td>\n",
       "      <td>0</td>\n",
       "      <td>0</td>\n",
       "      <td>0</td>\n",
       "      <td>NaN</td>\n",
       "      <td>train</td>\n",
       "    </tr>\n",
       "  </tbody>\n",
       "</table>\n",
       "<p>5 rows × 23 columns</p>\n",
       "</div>"
      ],
      "text/plain": [
       "                              id  item_id  dept_id  cat_id  store_id  \\\n",
       "0  HOBBIES_1_001_CA_1_validation     1437        3       1         0   \n",
       "1  HOBBIES_1_002_CA_1_validation     1438        3       1         0   \n",
       "2  HOBBIES_1_003_CA_1_validation     1439        3       1         0   \n",
       "3  HOBBIES_1_004_CA_1_validation     1440        3       1         0   \n",
       "4  HOBBIES_1_005_CA_1_validation     1441        3       1         0   \n",
       "\n",
       "   state_id  d  sale        date  wm_yr_wk  ...  year  event_name_1  \\\n",
       "0         0  0   0.0  2011-01-29     11101  ...  2011            13   \n",
       "1         0  0   0.0  2011-01-29     11101  ...  2011            13   \n",
       "2         0  0   0.0  2011-01-29     11101  ...  2011            13   \n",
       "3         0  0   0.0  2011-01-29     11101  ...  2011            13   \n",
       "4         0  0   0.0  2011-01-29     11101  ...  2011            13   \n",
       "\n",
       "   event_type_1  event_name_2  event_type_2  snap_CA  snap_TX  snap_WI  \\\n",
       "0             1             3             1        0        0        0   \n",
       "1             1             3             1        0        0        0   \n",
       "2             1             3             1        0        0        0   \n",
       "3             1             3             1        0        0        0   \n",
       "4             1             3             1        0        0        0   \n",
       "\n",
       "   sell_price  data_type  \n",
       "0         NaN      train  \n",
       "1         NaN      train  \n",
       "2         NaN      train  \n",
       "3         NaN      train  \n",
       "4         NaN      train  \n",
       "\n",
       "[5 rows x 23 columns]"
      ]
     },
     "execution_count": 5,
     "metadata": {},
     "output_type": "execute_result"
    }
   ],
   "source": [
    "# Convert categorical features to integers as the categorical values cause problems when using large datasets\n",
    "\n",
    "df_merged = utils.encode_categorical(df_merged, [\n",
    "    \"item_id\", \"dept_id\", \"cat_id\", \"store_id\", \"state_id\", \"event_name_1\",\n",
    "    \"event_type_1\", \"event_name_2\", \"event_type_2\", 'd'\n",
    "])\n",
    "\n",
    "df_merged.head(5)"
   ]
  },
  {
   "cell_type": "markdown",
   "metadata": {},
   "source": [
    "# Feature Engineering"
   ]
  },
  {
   "cell_type": "code",
   "execution_count": 6,
   "metadata": {
    "ExecuteTime": {
     "end_time": "2020-04-04T22:27:54.799402Z",
     "start_time": "2020-04-04T22:23:44.475701Z"
    }
   },
   "outputs": [],
   "source": [
    "# sales data\n",
    "\n",
    "# rolling mean and rolling std (weekly, monthly, quarterly, and half-year)\n",
    "df_merged['rolling_mean_t28'] = df_merged.groupby(\n",
    "    ['id'])['sale'].transform(lambda x: x.shift(28).rolling(30).mean())\n",
    "\n",
    "df_merged['rolling_std_t28'] = df_merged.groupby(\n",
    "    ['id'])['sale'].transform(lambda x: x.shift(28).rolling(30).std())\n",
    "\n",
    "df_merged['rolling_kurt_t28'] = df_merged.groupby(\n",
    "    ['id'])['sale'].transform(lambda x: x.shift(28).rolling(28).kurt())\n",
    "\n",
    "df_merged['rolling_skew_t28'] = df_merged.groupby(\n",
    "    ['id'])['sale'].transform(lambda x: x.shift(28).rolling(30).skew())\n",
    "\n",
    "df_merged['lag_t28'] = df_merged.groupby(\n",
    "    ['id'])['sale'].transform(lambda x: x.shift(28))"
   ]
  },
  {
   "cell_type": "code",
   "execution_count": 7,
   "metadata": {
    "ExecuteTime": {
     "end_time": "2020-04-04T22:30:41.715510Z",
     "start_time": "2020-04-04T22:27:54.805352Z"
    }
   },
   "outputs": [],
   "source": [
    "# price data\n",
    "\n",
    "df_merged['lag_price_t1'] = df_merged.groupby(\n",
    "    ['id'])['sell_price'].transform(lambda x: x.shift(1))\n",
    "\n",
    "df_merged['rolling_price_max_t30'] = df_merged.groupby(\n",
    "    ['id'])['sell_price'].transform(lambda x: x.shift(1).rolling(30).max())\n",
    "\n",
    "df_merged['price_change_t1'] = (df_merged['lag_price_t1'] -\n",
    "                                df_merged['sell_price']) / (\n",
    "                                    df_merged['lag_price_t1'])\n",
    "\n",
    "df_merged['price_change_t30'] = (df_merged['rolling_price_max_t30'] -\n",
    "                                 df_merged['sell_price']) / (\n",
    "                                     df_merged['rolling_price_max_t30'])\n",
    "\n",
    "\n",
    "df_merged['rolling_price_std_t28'] = df_merged.groupby(\n",
    "    ['id'])['sell_price'].transform(lambda x: x.rolling(28).std())\n",
    "\n",
    "df_merged.drop(['rolling_price_max_t30', 'lag_price_t1'], inplace=True, axis=1)"
   ]
  },
  {
   "cell_type": "code",
   "execution_count": 8,
   "metadata": {
    "ExecuteTime": {
     "end_time": "2020-04-04T22:31:01.637422Z",
     "start_time": "2020-04-04T22:30:41.739446Z"
    }
   },
   "outputs": [],
   "source": [
    "# date data\n",
    "\n",
    "# Saturday: wday = 1, Sunday: wday = 2\n",
    "df_merged[\"is_weekend\"] = df_merged[\"wday\"].isin([1, 2]).astype(np.int8)\n",
    "\n",
    "df_merged.loc[:, 'date'] = pd.to_datetime(df_merged['date'])\n",
    "df_merged['day'] = df_merged['date'].dt.day.astype(np.int8)"
   ]
  },
  {
   "cell_type": "code",
   "execution_count": 9,
   "metadata": {
    "ExecuteTime": {
     "end_time": "2020-04-04T22:31:01.673084Z",
     "start_time": "2020-04-04T22:31:01.645383Z"
    }
   },
   "outputs": [],
   "source": [
    "# TODO: proper feature selection (e.g. random forrest)\n",
    "# for now: hardcoded list of features\n",
    "\n",
    "cat_features = [\n",
    "    'item_id',\n",
    "    'dept_id',\n",
    "    'cat_id',\n",
    "    'store_id',\n",
    "    'state_id',\n",
    "    'year',\n",
    "    'month',\n",
    "    'day',\n",
    "    'is_weekend',\n",
    "    'wday',\n",
    "    'event_name_1',\n",
    "    'event_type_1',\n",
    "    'event_name_2',\n",
    "    'event_type_2',\n",
    "    'snap_CA',\n",
    "    'snap_TX',\n",
    "    'snap_WI',    \n",
    "]\n",
    "\n",
    "num_features = [\n",
    "    'sell_price',\n",
    "    'lag_t28',\n",
    "    'rolling_kurt_t28',\n",
    "    'rolling_skew_t28',\n",
    "    'rolling_mean_t28',\n",
    "    'rolling_std_t28',\n",
    "    'price_change_t1',\n",
    "    'price_change_t30',\n",
    "    'rolling_price_std_t28',\n",
    "]\n",
    "\n",
    "features = cat_features + num_features"
   ]
  },
  {
   "cell_type": "code",
   "execution_count": 10,
   "metadata": {
    "ExecuteTime": {
     "end_time": "2020-04-04T22:31:50.388324Z",
     "start_time": "2020-04-04T22:31:01.675053Z"
    }
   },
   "outputs": [],
   "source": [
    "# drop first 180 days since they have missing caused by the feature engineering\n",
    "date_after_90_training_days = str(df_merged['date'].dt.date.min()+pd.to_timedelta(180, unit='d'))\n",
    "df_merged = df_merged[df_merged['date'] > date_after_90_training_days]\n",
    "\n"
   ]
  },
  {
   "cell_type": "markdown",
   "metadata": {},
   "source": [
    "# Prepare Data for Training"
   ]
  },
  {
   "cell_type": "code",
   "execution_count": null,
   "metadata": {
    "ExecuteTime": {
     "start_time": "2020-04-04T22:43:49.024Z"
    }
   },
   "outputs": [],
   "source": [
    "\n",
    "x_train = df_merged[df_merged['date'] <= '2016-03-27'][features]\n",
    "y_train = df_merged[df_merged['date'] <= '2016-03-27']['sale']\n",
    "\n",
    "x_val = df_merged.loc[df_merged['data_type'] == 'train'].loc[df_merged['date'] > '2016-03-27'][features]\n",
    "y_val = df_merged.loc[df_merged['data_type'] == 'train'].loc[df_merged['date'] > '2016-03-27']['sale']\n",
    "    \n",
    "\n",
    "x_pred = df_merged[(df_merged['data_type'] == 'validation')][features]\n",
    "\n",
    "    \n",
    "\n",
    "print(x_train.shape)\n",
    "print(y_train.shape)\n",
    "print(x_val.shape)\n",
    "print(y_val.shape)\n",
    "print(x_pred.shape)"
   ]
  },
  {
   "cell_type": "code",
   "execution_count": null,
   "metadata": {
    "ExecuteTime": {
     "start_time": "2020-04-04T22:44:00.412Z"
    }
   },
   "outputs": [],
   "source": [
    "# create datasets\n",
    "train_data = lgb.Dataset(x_train, label=y_train, categorical_feature = cat_features, free_raw_data=False)\n",
    "validation_data = lgb.Dataset(x_val, label=y_val, categorical_feature=cat_features, free_raw_data=False, reference=train_data)\n",
    "\n",
    "# save datsets\n",
    "train_data.save_binary(f'{utils.get_m5_root_dir()}/data/preprocessed/train_lightgbm.bin')\n",
    "validation_data.save_binary(f'{utils.get_m5_root_dir()}/data/preprocessed/validation_data_lightgbm.bin')\n",
    "x_pred.to_csv(f'{utils.get_m5_root_dir()}/data/preprocessed/x_pred_lightgbm.csv', index=False)"
   ]
  },
  {
   "cell_type": "markdown",
   "metadata": {},
   "source": [
    "# Model Training & Forecasting (LightGBM)"
   ]
  },
  {
   "cell_type": "code",
   "execution_count": 13,
   "metadata": {
    "ExecuteTime": {
     "end_time": "2020-04-04T22:34:47.807427Z",
     "start_time": "2020-04-04T22:34:47.784476Z"
    }
   },
   "outputs": [
    {
     "data": {
      "text/plain": [
       "\"\\ntry: \\n    train_data = lgb.Dataset(\\n        f'{utils.get_m5_root_dir()}/data/preprocessed/train_lightgbm.bin')\\n    validation_data = lgb.Dataset(\\n        f'{utils.get_m5_root_dir()}/data/preprocessed/validation_data_lightgbm.bin')\\n    x_pred = pd.read_csv(\\n        f'{utils.get_m5_root_dir()}/data/preprocessed/x_pred_lightgbm.csv')\\n    \\n    print('Data import completed.')\\n    \\nexcept:\\n    print('Could not import files.')\\n    \\n    \\n\""
      ]
     },
     "execution_count": 13,
     "metadata": {},
     "output_type": "execute_result"
    }
   ],
   "source": [
    "\"\"\"\n",
    "try: \n",
    "    train_data = lgb.Dataset(\n",
    "        f'{utils.get_m5_root_dir()}/data/preprocessed/train_lightgbm.bin')\n",
    "    validation_data = lgb.Dataset(\n",
    "        f'{utils.get_m5_root_dir()}/data/preprocessed/validation_data_lightgbm.bin')\n",
    "    x_pred = pd.read_csv(\n",
    "        f'{utils.get_m5_root_dir()}/data/preprocessed/x_pred_lightgbm.csv')\n",
    "    \n",
    "    print('Data import completed.')\n",
    "    \n",
    "except:\n",
    "    print('Could not import files.')\n",
    "    \n",
    "    \n",
    "\"\"\"\n"
   ]
  },
  {
   "cell_type": "code",
   "execution_count": 14,
   "metadata": {
    "ExecuteTime": {
     "end_time": "2020-04-04T22:39:32.805215Z",
     "start_time": "2020-04-04T22:34:47.810406Z"
    }
   },
   "outputs": [
    {
     "name": "stderr",
     "output_type": "stream",
     "text": [
      "c:\\users\\domin\\anaconda3\\envs\\predicting-sales-data\\lib\\site-packages\\lightgbm\\basic.py:1291: UserWarning: Using categorical_feature in Dataset.\n",
      "  warnings.warn('Using categorical_feature in Dataset.')\n"
     ]
    },
    {
     "name": "stdout",
     "output_type": "stream",
     "text": [
      "Training until validation scores don't improve for 20 rounds\n",
      "[25]\ttraining's rmse: 2.40141\tvalid_1's rmse: 2.17171\n",
      "[50]\ttraining's rmse: 2.33733\tvalid_1's rmse: 2.15725\n",
      "[75]\ttraining's rmse: 2.30561\tvalid_1's rmse: 2.15005\n",
      "[100]\ttraining's rmse: 2.28269\tvalid_1's rmse: 2.14512\n",
      "[125]\ttraining's rmse: 2.26344\tvalid_1's rmse: 2.13447\n",
      "[150]\ttraining's rmse: 2.24964\tvalid_1's rmse: 2.12891\n",
      "[175]\ttraining's rmse: 2.23588\tvalid_1's rmse: 2.12485\n",
      "[200]\ttraining's rmse: 2.22561\tvalid_1's rmse: 2.1234\n",
      "[225]\ttraining's rmse: 2.21666\tvalid_1's rmse: 2.12225\n",
      "Early stopping, best iteration is:\n",
      "[220]\ttraining's rmse: 2.21777\tvalid_1's rmse: 2.12218\n"
     ]
    }
   ],
   "source": [
    "\n",
    "params = {\n",
    "    'boosting_type': 'gbdt',\n",
    "    'metric': 'rmse',\n",
    "    'objective': 'regression',\n",
    "    'seed': 10,\n",
    "    'learning_rate': 0.15,\n",
    "    'bagging_fraction': 0.75,\n",
    "    'bagging_freq': 10, \n",
    "    'max_bin' : 128 ,\n",
    "    'feature_fraction ': 0.75,\n",
    "}\n",
    "\n",
    "evals_result = {}  # to record eval results for plotting\n",
    "\n",
    "gbm = lgb.train(params,train_data, valid_sets=[train_data, validation_data],\n",
    "                evals_result=evals_result, num_boost_round = 1000 ,\n",
    "                verbose_eval = 25, early_stopping_rounds=20)\n",
    "\n",
    "y_pred = gbm.predict(x_pred)"
   ]
  },
  {
   "cell_type": "markdown",
   "metadata": {},
   "source": [
    "# Training Analysis"
   ]
  },
  {
   "cell_type": "code",
   "execution_count": 15,
   "metadata": {
    "ExecuteTime": {
     "end_time": "2020-04-04T22:39:33.137485Z",
     "start_time": "2020-04-04T22:39:32.808208Z"
    }
   },
   "outputs": [
    {
     "name": "stdout",
     "output_type": "stream",
     "text": [
      "Plotting metrics recorded during training...\n"
     ]
    },
    {
     "data": {
      "image/png": "[encoded data removed]",
      "text/plain": [
       "<Figure size 432x288 with 1 Axes>"
      ]
     },
     "metadata": {
      "needs_background": "light"
     },
     "output_type": "display_data"
    }
   ],
   "source": [
    "print('Plotting metrics recorded during training...')\n",
    "ax = lgb.plot_metric(evals_result)\n",
    "plt.show()"
   ]
  },
  {
   "cell_type": "code",
   "execution_count": 16,
   "metadata": {
    "ExecuteTime": {
     "end_time": "2020-04-04T22:39:33.565930Z",
     "start_time": "2020-04-04T22:39:33.138482Z"
    }
   },
   "outputs": [
    {
     "name": "stdout",
     "output_type": "stream",
     "text": [
      "Plotting feature importances...\n"
     ]
    },
    {
     "data": {
      "image/png": "[encoded data removed]",
      "text/plain": [
       "<Figure size 720x576 with 1 Axes>"
      ]
     },
     "metadata": {
      "needs_background": "light"
     },
     "output_type": "display_data"
    }
   ],
   "source": [
    "print('Plotting feature importances...')\n",
    "ax = lgb.plot_importance(gbm, figsize=(10,8))\n",
    "plt.show()"
   ]
  },
  {
   "cell_type": "code",
   "execution_count": 17,
   "metadata": {
    "ExecuteTime": {
     "end_time": "2020-04-04T22:39:33.587891Z",
     "start_time": "2020-04-04T22:39:33.566927Z"
    }
   },
   "outputs": [
    {
     "name": "stdout",
     "output_type": "stream",
     "text": [
      "MSE of computed forecasts: 3.289\n",
      "MSE of SNAIVE on small data set 3.565\n",
      "MSE of SNAIVE on entire data set 7.615\n"
     ]
    }
   ],
   "source": [
    "\n",
    "# MSE of computed forecasts\n",
    "print('MSE of computed forecasts: %0.3f' %\n",
    "      mean_squared_error(y_val, y_pred))\n",
    "\n",
    "# MSE of SARIMA\n",
    "print('MSE of SNAIVE on small data set', 3.565)\n",
    "print('MSE of SNAIVE on entire data set', 7.615)"
   ]
  },
  {
   "cell_type": "markdown",
   "metadata": {},
   "source": [
    "# Printout Forecasts"
   ]
  },
  {
   "cell_type": "code",
   "execution_count": 18,
   "metadata": {
    "ExecuteTime": {
     "end_time": "2020-04-04T22:39:33.602831Z",
     "start_time": "2020-04-04T22:39:33.588868Z"
    }
   },
   "outputs": [],
   "source": [
    "# map forecast values to encoded item_ids\n",
    "x_val['y_pred'] = y_pred"
   ]
  },
  {
   "cell_type": "code",
   "execution_count": 19,
   "metadata": {
    "ExecuteTime": {
     "end_time": "2020-04-04T22:39:51.264833Z",
     "start_time": "2020-04-04T22:39:33.606821Z"
    }
   },
   "outputs": [],
   "source": [
    "# map encoded ids to decoded ids\n",
    "id_mapping_table = df_merged[['id', 'item_id', 'store_id']].drop_duplicates()\n",
    "df_results = x_val.merge(id_mapping_table,\n",
    "                         on=['item_id', 'store_id'],\n",
    "                         how='left')[[\n",
    "                             'id', 'item_id', 'store_id', 'year', 'month',\n",
    "                             'day', 'y_pred'\n",
    "                         ]]"
   ]
  },
  {
   "cell_type": "code",
   "execution_count": 20,
   "metadata": {
    "ExecuteTime": {
     "end_time": "2020-04-04T22:40:02.641416Z",
     "start_time": "2020-04-04T22:39:51.268822Z"
    }
   },
   "outputs": [],
   "source": [
    "# create dict with IDs and forecasts\n",
    "submission_dict = {}\n",
    "\n",
    "for i, df in df_results.groupby(['id']):\n",
    "    df = df.reset_index(drop=True)\n",
    "    submission_dict[i] = df['y_pred']"
   ]
  },
  {
   "cell_type": "code",
   "execution_count": 21,
   "metadata": {
    "ExecuteTime": {
     "end_time": "2020-04-04T22:40:03.748160Z",
     "start_time": "2020-04-04T22:40:02.642414Z"
    }
   },
   "outputs": [
    {
     "data": {
      "text/html": [
       "<div>\n",
       "<style scoped>\n",
       "    .dataframe tbody tr th:only-of-type {\n",
       "        vertical-align: middle;\n",
       "    }\n",
       "\n",
       "    .dataframe tbody tr th {\n",
       "        vertical-align: top;\n",
       "    }\n",
       "\n",
       "    .dataframe thead th {\n",
       "        text-align: right;\n",
       "    }\n",
       "</style>\n",
       "<table border=\"1\" class=\"dataframe\">\n",
       "  <thead>\n",
       "    <tr style=\"text-align: right;\">\n",
       "      <th></th>\n",
       "      <th>id</th>\n",
       "      <th>F1</th>\n",
       "      <th>F2</th>\n",
       "      <th>F3</th>\n",
       "      <th>F4</th>\n",
       "      <th>F5</th>\n",
       "      <th>F6</th>\n",
       "      <th>F7</th>\n",
       "      <th>F8</th>\n",
       "      <th>F9</th>\n",
       "      <th>...</th>\n",
       "      <th>F19</th>\n",
       "      <th>F20</th>\n",
       "      <th>F21</th>\n",
       "      <th>F22</th>\n",
       "      <th>F23</th>\n",
       "      <th>F24</th>\n",
       "      <th>F25</th>\n",
       "      <th>F26</th>\n",
       "      <th>F27</th>\n",
       "      <th>F28</th>\n",
       "    </tr>\n",
       "  </thead>\n",
       "  <tbody>\n",
       "    <tr>\n",
       "      <th>0</th>\n",
       "      <td>FOODS_1_001_CA_1_validation</td>\n",
       "      <td>0.792490</td>\n",
       "      <td>0.738099</td>\n",
       "      <td>0.738099</td>\n",
       "      <td>0.715662</td>\n",
       "      <td>1.078781</td>\n",
       "      <td>0.998942</td>\n",
       "      <td>1.078272</td>\n",
       "      <td>1.271536</td>\n",
       "      <td>0.974852</td>\n",
       "      <td>...</td>\n",
       "      <td>1.021052</td>\n",
       "      <td>1.434840</td>\n",
       "      <td>1.331391</td>\n",
       "      <td>1.286231</td>\n",
       "      <td>0.962233</td>\n",
       "      <td>0.953771</td>\n",
       "      <td>0.922909</td>\n",
       "      <td>1.027135</td>\n",
       "      <td>1.319584</td>\n",
       "      <td>1.274396</td>\n",
       "    </tr>\n",
       "    <tr>\n",
       "      <th>1</th>\n",
       "      <td>FOODS_1_001_CA_2_validation</td>\n",
       "      <td>0.835313</td>\n",
       "      <td>0.797980</td>\n",
       "      <td>0.784548</td>\n",
       "      <td>0.784548</td>\n",
       "      <td>0.753512</td>\n",
       "      <td>0.855877</td>\n",
       "      <td>0.925352</td>\n",
       "      <td>0.568030</td>\n",
       "      <td>0.611973</td>\n",
       "      <td>...</td>\n",
       "      <td>0.532795</td>\n",
       "      <td>0.604522</td>\n",
       "      <td>2.599111</td>\n",
       "      <td>0.953452</td>\n",
       "      <td>0.900568</td>\n",
       "      <td>0.897784</td>\n",
       "      <td>1.167804</td>\n",
       "      <td>0.934423</td>\n",
       "      <td>1.106521</td>\n",
       "      <td>1.573027</td>\n",
       "    </tr>\n",
       "    <tr>\n",
       "      <th>2</th>\n",
       "      <td>FOODS_1_001_CA_3_validation</td>\n",
       "      <td>1.108409</td>\n",
       "      <td>0.979069</td>\n",
       "      <td>1.001507</td>\n",
       "      <td>0.946616</td>\n",
       "      <td>0.988299</td>\n",
       "      <td>1.224717</td>\n",
       "      <td>1.256248</td>\n",
       "      <td>1.082271</td>\n",
       "      <td>1.098750</td>\n",
       "      <td>...</td>\n",
       "      <td>1.199063</td>\n",
       "      <td>1.442071</td>\n",
       "      <td>3.361853</td>\n",
       "      <td>1.576329</td>\n",
       "      <td>1.299151</td>\n",
       "      <td>1.285491</td>\n",
       "      <td>1.260884</td>\n",
       "      <td>1.242907</td>\n",
       "      <td>1.547885</td>\n",
       "      <td>1.502697</td>\n",
       "    </tr>\n",
       "    <tr>\n",
       "      <th>3</th>\n",
       "      <td>FOODS_1_001_CA_4_validation</td>\n",
       "      <td>0.527117</td>\n",
       "      <td>0.390107</td>\n",
       "      <td>0.390107</td>\n",
       "      <td>0.390107</td>\n",
       "      <td>0.431790</td>\n",
       "      <td>0.509663</td>\n",
       "      <td>0.576354</td>\n",
       "      <td>0.522031</td>\n",
       "      <td>0.477405</td>\n",
       "      <td>...</td>\n",
       "      <td>0.299848</td>\n",
       "      <td>0.357799</td>\n",
       "      <td>0.334403</td>\n",
       "      <td>0.379155</td>\n",
       "      <td>0.222374</td>\n",
       "      <td>0.222374</td>\n",
       "      <td>0.213949</td>\n",
       "      <td>0.300820</td>\n",
       "      <td>0.334889</td>\n",
       "      <td>0.410625</td>\n",
       "    </tr>\n",
       "    <tr>\n",
       "      <th>4</th>\n",
       "      <td>FOODS_1_001_TX_1_validation</td>\n",
       "      <td>0.484306</td>\n",
       "      <td>0.451790</td>\n",
       "      <td>0.451790</td>\n",
       "      <td>0.451790</td>\n",
       "      <td>0.493473</td>\n",
       "      <td>0.570452</td>\n",
       "      <td>0.650548</td>\n",
       "      <td>0.553522</td>\n",
       "      <td>0.470489</td>\n",
       "      <td>...</td>\n",
       "      <td>0.295631</td>\n",
       "      <td>0.326577</td>\n",
       "      <td>0.321519</td>\n",
       "      <td>0.261672</td>\n",
       "      <td>0.170326</td>\n",
       "      <td>0.170326</td>\n",
       "      <td>0.161901</td>\n",
       "      <td>0.203584</td>\n",
       "      <td>0.224331</td>\n",
       "      <td>0.224331</td>\n",
       "    </tr>\n",
       "    <tr>\n",
       "      <th>5</th>\n",
       "      <td>FOODS_1_001_TX_2_validation</td>\n",
       "      <td>0.592742</td>\n",
       "      <td>0.501992</td>\n",
       "      <td>0.501992</td>\n",
       "      <td>0.725748</td>\n",
       "      <td>0.654563</td>\n",
       "      <td>0.502515</td>\n",
       "      <td>0.569207</td>\n",
       "      <td>0.488901</td>\n",
       "      <td>0.453281</td>\n",
       "      <td>...</td>\n",
       "      <td>0.710207</td>\n",
       "      <td>0.560833</td>\n",
       "      <td>0.614395</td>\n",
       "      <td>0.468235</td>\n",
       "      <td>0.415948</td>\n",
       "      <td>0.415948</td>\n",
       "      <td>0.407523</td>\n",
       "      <td>0.435774</td>\n",
       "      <td>0.559391</td>\n",
       "      <td>0.514202</td>\n",
       "    </tr>\n",
       "    <tr>\n",
       "      <th>6</th>\n",
       "      <td>FOODS_1_001_TX_3_validation</td>\n",
       "      <td>0.352160</td>\n",
       "      <td>0.319645</td>\n",
       "      <td>0.319645</td>\n",
       "      <td>0.319645</td>\n",
       "      <td>0.406516</td>\n",
       "      <td>0.496802</td>\n",
       "      <td>0.563494</td>\n",
       "      <td>0.453131</td>\n",
       "      <td>0.453380</td>\n",
       "      <td>...</td>\n",
       "      <td>0.443960</td>\n",
       "      <td>0.581175</td>\n",
       "      <td>0.623937</td>\n",
       "      <td>0.390328</td>\n",
       "      <td>0.303066</td>\n",
       "      <td>0.303066</td>\n",
       "      <td>0.497150</td>\n",
       "      <td>0.446876</td>\n",
       "      <td>0.537176</td>\n",
       "      <td>0.537176</td>\n",
       "    </tr>\n",
       "    <tr>\n",
       "      <th>7</th>\n",
       "      <td>FOODS_1_001_WI_1_validation</td>\n",
       "      <td>0.406603</td>\n",
       "      <td>0.417279</td>\n",
       "      <td>0.394842</td>\n",
       "      <td>0.417279</td>\n",
       "      <td>0.436525</td>\n",
       "      <td>0.543241</td>\n",
       "      <td>0.609933</td>\n",
       "      <td>0.488016</td>\n",
       "      <td>0.462949</td>\n",
       "      <td>...</td>\n",
       "      <td>0.389998</td>\n",
       "      <td>0.506914</td>\n",
       "      <td>0.600788</td>\n",
       "      <td>0.413018</td>\n",
       "      <td>0.468105</td>\n",
       "      <td>0.363610</td>\n",
       "      <td>0.355186</td>\n",
       "      <td>0.393989</td>\n",
       "      <td>1.325727</td>\n",
       "      <td>0.843036</td>\n",
       "    </tr>\n",
       "    <tr>\n",
       "      <th>8</th>\n",
       "      <td>FOODS_1_001_WI_2_validation</td>\n",
       "      <td>0.259181</td>\n",
       "      <td>0.226666</td>\n",
       "      <td>0.226666</td>\n",
       "      <td>0.226666</td>\n",
       "      <td>0.268348</td>\n",
       "      <td>0.289095</td>\n",
       "      <td>0.638577</td>\n",
       "      <td>0.419153</td>\n",
       "      <td>0.377461</td>\n",
       "      <td>...</td>\n",
       "      <td>0.507544</td>\n",
       "      <td>0.622620</td>\n",
       "      <td>0.630994</td>\n",
       "      <td>0.442045</td>\n",
       "      <td>0.452507</td>\n",
       "      <td>0.460403</td>\n",
       "      <td>0.413358</td>\n",
       "      <td>0.455041</td>\n",
       "      <td>0.545341</td>\n",
       "      <td>0.470129</td>\n",
       "    </tr>\n",
       "    <tr>\n",
       "      <th>9</th>\n",
       "      <td>FOODS_1_001_WI_3_validation</td>\n",
       "      <td>0.210369</td>\n",
       "      <td>0.177854</td>\n",
       "      <td>0.208187</td>\n",
       "      <td>0.216744</td>\n",
       "      <td>0.235990</td>\n",
       "      <td>0.283741</td>\n",
       "      <td>0.329821</td>\n",
       "      <td>0.280192</td>\n",
       "      <td>0.258004</td>\n",
       "      <td>...</td>\n",
       "      <td>0.281666</td>\n",
       "      <td>0.390309</td>\n",
       "      <td>0.353494</td>\n",
       "      <td>0.283199</td>\n",
       "      <td>0.218375</td>\n",
       "      <td>0.212087</td>\n",
       "      <td>0.203662</td>\n",
       "      <td>0.245345</td>\n",
       "      <td>0.695467</td>\n",
       "      <td>0.436421</td>\n",
       "    </tr>\n",
       "  </tbody>\n",
       "</table>\n",
       "<p>10 rows × 29 columns</p>\n",
       "</div>"
      ],
      "text/plain": [
       "                            id        F1        F2        F3        F4  \\\n",
       "0  FOODS_1_001_CA_1_validation  0.792490  0.738099  0.738099  0.715662   \n",
       "1  FOODS_1_001_CA_2_validation  0.835313  0.797980  0.784548  0.784548   \n",
       "2  FOODS_1_001_CA_3_validation  1.108409  0.979069  1.001507  0.946616   \n",
       "3  FOODS_1_001_CA_4_validation  0.527117  0.390107  0.390107  0.390107   \n",
       "4  FOODS_1_001_TX_1_validation  0.484306  0.451790  0.451790  0.451790   \n",
       "5  FOODS_1_001_TX_2_validation  0.592742  0.501992  0.501992  0.725748   \n",
       "6  FOODS_1_001_TX_3_validation  0.352160  0.319645  0.319645  0.319645   \n",
       "7  FOODS_1_001_WI_1_validation  0.406603  0.417279  0.394842  0.417279   \n",
       "8  FOODS_1_001_WI_2_validation  0.259181  0.226666  0.226666  0.226666   \n",
       "9  FOODS_1_001_WI_3_validation  0.210369  0.177854  0.208187  0.216744   \n",
       "\n",
       "         F5        F6        F7        F8        F9  ...       F19       F20  \\\n",
       "0  1.078781  0.998942  1.078272  1.271536  0.974852  ...  1.021052  1.434840   \n",
       "1  0.753512  0.855877  0.925352  0.568030  0.611973  ...  0.532795  0.604522   \n",
       "2  0.988299  1.224717  1.256248  1.082271  1.098750  ...  1.199063  1.442071   \n",
       "3  0.431790  0.509663  0.576354  0.522031  0.477405  ...  0.299848  0.357799   \n",
       "4  0.493473  0.570452  0.650548  0.553522  0.470489  ...  0.295631  0.326577   \n",
       "5  0.654563  0.502515  0.569207  0.488901  0.453281  ...  0.710207  0.560833   \n",
       "6  0.406516  0.496802  0.563494  0.453131  0.453380  ...  0.443960  0.581175   \n",
       "7  0.436525  0.543241  0.609933  0.488016  0.462949  ...  0.389998  0.506914   \n",
       "8  0.268348  0.289095  0.638577  0.419153  0.377461  ...  0.507544  0.622620   \n",
       "9  0.235990  0.283741  0.329821  0.280192  0.258004  ...  0.281666  0.390309   \n",
       "\n",
       "        F21       F22       F23       F24       F25       F26       F27  \\\n",
       "0  1.331391  1.286231  0.962233  0.953771  0.922909  1.027135  1.319584   \n",
       "1  2.599111  0.953452  0.900568  0.897784  1.167804  0.934423  1.106521   \n",
       "2  3.361853  1.576329  1.299151  1.285491  1.260884  1.242907  1.547885   \n",
       "3  0.334403  0.379155  0.222374  0.222374  0.213949  0.300820  0.334889   \n",
       "4  0.321519  0.261672  0.170326  0.170326  0.161901  0.203584  0.224331   \n",
       "5  0.614395  0.468235  0.415948  0.415948  0.407523  0.435774  0.559391   \n",
       "6  0.623937  0.390328  0.303066  0.303066  0.497150  0.446876  0.537176   \n",
       "7  0.600788  0.413018  0.468105  0.363610  0.355186  0.393989  1.325727   \n",
       "8  0.630994  0.442045  0.452507  0.460403  0.413358  0.455041  0.545341   \n",
       "9  0.353494  0.283199  0.218375  0.212087  0.203662  0.245345  0.695467   \n",
       "\n",
       "        F28  \n",
       "0  1.274396  \n",
       "1  1.573027  \n",
       "2  1.502697  \n",
       "3  0.410625  \n",
       "4  0.224331  \n",
       "5  0.514202  \n",
       "6  0.537176  \n",
       "7  0.843036  \n",
       "8  0.470129  \n",
       "9  0.436421  \n",
       "\n",
       "[10 rows x 29 columns]"
      ]
     },
     "execution_count": 21,
     "metadata": {},
     "output_type": "execute_result"
    }
   ],
   "source": [
    "# convert dict to dataframe\n",
    "submission_df = pd.DataFrame(submission_dict).T\n",
    "submission_df.reset_index(level=0, inplace=True)\n",
    "submission_df.columns = ['id'] + [f'F{di}' for di in list(range(1, 29))]\n",
    "submission_df.head(10)"
   ]
  },
  {
   "cell_type": "markdown",
   "metadata": {},
   "source": [
    "# Submit to Kaggle "
   ]
  },
  {
   "cell_type": "code",
   "execution_count": 22,
   "metadata": {
    "ExecuteTime": {
     "end_time": "2020-04-04T22:40:07.238227Z",
     "start_time": "2020-04-04T22:40:03.750156Z"
    }
   },
   "outputs": [
    {
     "name": "stderr",
     "output_type": "stream",
     "text": [
      "usage: kaggle competitions submit [-h] -f FILE_NAME -m MESSAGE [-q]\n",
      "                                  [competition]\n",
      "kaggle competitions submit: error: the following arguments are required: -f/--file, -m/--message\n"
     ]
    }
   ],
   "source": [
    "if submit_to_kaggle:\n",
    "    # Bring data to Kaggel's required form (evaluation & validation)\n",
    "    df_submission = submission_df.append(\n",
    "        submission_df.replace(to_replace='validation', value='evaluation',\n",
    "                              regex=True))\n",
    "    filename = utils.get_m5_root_dir(\n",
    "    ) + '/data/submissions/gradient_boosting_regressor_v_2_0.csv'\n",
    "    df_submission.to_csv(filename, index=False)\n",
    "    \n",
    "\n",
    "    # Submit via Kaggle API or with website https://www.kaggle.com/c/m5-forecasting-accuracy/submissions\n",
    "    !kaggle competitions submit - c m5-forecasting-accuracy - f data/submissions/gradient_boosting_regressor_v_2_0.csv - m \"gradient_boosting_regressor_v_2_0.csv\""
   ]
  },
  {
   "cell_type": "code",
   "execution_count": null,
   "metadata": {},
   "outputs": [],
   "source": []
  }
 ],
 "metadata": {
  "kernelspec": {
   "display_name": "Python 3",
   "language": "python",
   "name": "python3"
  },
  "language_info": {
   "codemirror_mode": {
    "name": "ipython",
    "version": 3
   },
   "file_extension": ".py",
   "mimetype": "text/x-python",
   "name": "python",
   "nbconvert_exporter": "python",
   "pygments_lexer": "ipython3",
   "version": "3.7.6"
  }
 },
 "nbformat": 4,
 "nbformat_minor": 4
}
