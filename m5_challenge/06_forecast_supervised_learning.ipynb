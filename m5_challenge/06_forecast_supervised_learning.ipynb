{
 "cells": [
  {
   "cell_type": "markdown",
   "metadata": {},
   "source": [
    "# Define Running Mode"
   ]
  },
  {
   "cell_type": "markdown",
   "metadata": {},
   "source": [
    "'performance_validation = True' when validating the performance of the model based on last 28 training days.  \n",
    "  \n",
    "    \n",
    "'performance_validation = False' when computing forecasts that will be submitted to Kaggle.  \n"
   ]
  },
  {
   "cell_type": "code",
   "execution_count": 1,
   "metadata": {
    "ExecuteTime": {
     "end_time": "2020-03-30T22:55:16.174551Z",
     "start_time": "2020-03-30T22:55:16.171556Z"
    }
   },
   "outputs": [],
   "source": [
    "performance_validation = False"
   ]
  },
  {
   "cell_type": "markdown",
   "metadata": {},
   "source": [
    "# Import Packages"
   ]
  },
  {
   "cell_type": "code",
   "execution_count": 2,
   "metadata": {
    "ExecuteTime": {
     "end_time": "2020-03-30T22:55:17.078874Z",
     "start_time": "2020-03-30T22:55:16.176592Z"
    }
   },
   "outputs": [],
   "source": [
    "import utils\n",
    "import pandas as pd\n",
    "import numpy as np\n",
    "import matplotlib.pyplot as plt\n",
    "from tqdm.notebook import tqdm\n",
    "import time\n",
    "from sklearn.metrics import mean_squared_error"
   ]
  },
  {
   "cell_type": "markdown",
   "metadata": {},
   "source": [
    "# Data Import and Preparation"
   ]
  },
  {
   "cell_type": "code",
   "execution_count": 3,
   "metadata": {
    "ExecuteTime": {
     "end_time": "2020-03-30T23:01:51.976860Z",
     "start_time": "2020-03-30T22:55:17.079840Z"
    }
   },
   "outputs": [
    {
     "name": "stderr",
     "output_type": "stream",
     "text": [
      "c:\\users\\domin\\anaconda3\\envs\\predicting-sales-data\\lib\\site-packages\\IPython\\core\\interactiveshell.py:3063: DtypeWarning: Columns (14,15,16,17) have mixed types.Specify dtype option on import or set low_memory=False.\n",
      "  interactivity=interactivity, compiler=compiler, result=result)\n"
     ]
    }
   ],
   "source": [
    "if performance_validation is True:\n",
    "    # Import data\n",
    "    submission = pd.read_csv(\n",
    "        f'{utils.get_m5_root_dir()}/data/input/sample_submission.csv')\n",
    "    df_merged = pd.read_csv(\n",
    "        f'{utils.get_m5_root_dir()}/data/preprocessed/tx2_hobbies_1year.csv')\n",
    "\n",
    "    # take only values where target value is known\n",
    "    df_merged = df_merged.loc[df_merged['data_type'] == 'train']\n",
    "\n",
    "    # extract target values (last 28 days) in seperate list\n",
    "    y_test = df_merged[(df_merged['date'] > '2016-03-27')]['sale']\n",
    "\n",
    "    # replace target values in DataFrame with NaN\n",
    "    df_merged['sale'].loc[df_merged['date'] > '2016-03-27'] = np.nan\n",
    "\n",
    "else:\n",
    "    # Import data\n",
    "    submission = pd.read_csv(\n",
    "        f'{utils.get_m5_root_dir()}/data/input/sample_submission.csv')\n",
    "    df_merged = pd.read_csv(\n",
    "        f'{utils.get_m5_root_dir()}/data/preprocessed/preprocessed_input_data.csv')\n",
    "    \n",
    "    # extract training and validation data (drop evaluation)\n",
    "    df_merged = df_merged.loc[df_merged['data_type'] != 'evaluation']"
   ]
  },
  {
   "cell_type": "code",
   "execution_count": 4,
   "metadata": {
    "ExecuteTime": {
     "end_time": "2020-03-30T23:02:19.555461Z",
     "start_time": "2020-03-30T23:01:52.015763Z"
    }
   },
   "outputs": [
    {
     "name": "stdout",
     "output_type": "stream",
     "text": [
      "Mem. usage of decreased to 7732.21 Mb (28.6% reduction)\n"
     ]
    }
   ],
   "source": [
    "# downcast numerical values to reduce mem usage\n",
    "df_merged = utils.reduce_mem_usage(df_merged)"
   ]
  },
  {
   "cell_type": "code",
   "execution_count": 5,
   "metadata": {
    "ExecuteTime": {
     "end_time": "2020-03-30T23:11:33.032814Z",
     "start_time": "2020-03-30T23:02:19.558485Z"
    }
   },
   "outputs": [
    {
     "name": "stdout",
     "output_type": "stream",
     "text": [
      "Mem. usage of decreased to 3894.32 Mb (28.9% reduction)\n"
     ]
    },
    {
     "data": {
      "text/html": [
       "<div>\n",
       "<style scoped>\n",
       "    .dataframe tbody tr th:only-of-type {\n",
       "        vertical-align: middle;\n",
       "    }\n",
       "\n",
       "    .dataframe tbody tr th {\n",
       "        vertical-align: top;\n",
       "    }\n",
       "\n",
       "    .dataframe thead th {\n",
       "        text-align: right;\n",
       "    }\n",
       "</style>\n",
       "<table border=\"1\" class=\"dataframe\">\n",
       "  <thead>\n",
       "    <tr style=\"text-align: right;\">\n",
       "      <th></th>\n",
       "      <th>id</th>\n",
       "      <th>item_id</th>\n",
       "      <th>dept_id</th>\n",
       "      <th>cat_id</th>\n",
       "      <th>store_id</th>\n",
       "      <th>state_id</th>\n",
       "      <th>d</th>\n",
       "      <th>sale</th>\n",
       "      <th>date</th>\n",
       "      <th>wm_yr_wk</th>\n",
       "      <th>...</th>\n",
       "      <th>year</th>\n",
       "      <th>event_name_1</th>\n",
       "      <th>event_type_1</th>\n",
       "      <th>event_name_2</th>\n",
       "      <th>event_type_2</th>\n",
       "      <th>snap_CA</th>\n",
       "      <th>snap_TX</th>\n",
       "      <th>snap_WI</th>\n",
       "      <th>sell_price</th>\n",
       "      <th>data_type</th>\n",
       "    </tr>\n",
       "  </thead>\n",
       "  <tbody>\n",
       "    <tr>\n",
       "      <th>0</th>\n",
       "      <td>HOBBIES_1_001_CA_1_validation</td>\n",
       "      <td>1437</td>\n",
       "      <td>3</td>\n",
       "      <td>1</td>\n",
       "      <td>0</td>\n",
       "      <td>0</td>\n",
       "      <td>0</td>\n",
       "      <td>0.0</td>\n",
       "      <td>2011-01-29</td>\n",
       "      <td>11101</td>\n",
       "      <td>...</td>\n",
       "      <td>2011</td>\n",
       "      <td>13</td>\n",
       "      <td>1</td>\n",
       "      <td>3</td>\n",
       "      <td>1</td>\n",
       "      <td>0</td>\n",
       "      <td>0</td>\n",
       "      <td>0</td>\n",
       "      <td>NaN</td>\n",
       "      <td>train</td>\n",
       "    </tr>\n",
       "    <tr>\n",
       "      <th>1</th>\n",
       "      <td>HOBBIES_1_002_CA_1_validation</td>\n",
       "      <td>1438</td>\n",
       "      <td>3</td>\n",
       "      <td>1</td>\n",
       "      <td>0</td>\n",
       "      <td>0</td>\n",
       "      <td>0</td>\n",
       "      <td>0.0</td>\n",
       "      <td>2011-01-29</td>\n",
       "      <td>11101</td>\n",
       "      <td>...</td>\n",
       "      <td>2011</td>\n",
       "      <td>13</td>\n",
       "      <td>1</td>\n",
       "      <td>3</td>\n",
       "      <td>1</td>\n",
       "      <td>0</td>\n",
       "      <td>0</td>\n",
       "      <td>0</td>\n",
       "      <td>NaN</td>\n",
       "      <td>train</td>\n",
       "    </tr>\n",
       "    <tr>\n",
       "      <th>2</th>\n",
       "      <td>HOBBIES_1_003_CA_1_validation</td>\n",
       "      <td>1439</td>\n",
       "      <td>3</td>\n",
       "      <td>1</td>\n",
       "      <td>0</td>\n",
       "      <td>0</td>\n",
       "      <td>0</td>\n",
       "      <td>0.0</td>\n",
       "      <td>2011-01-29</td>\n",
       "      <td>11101</td>\n",
       "      <td>...</td>\n",
       "      <td>2011</td>\n",
       "      <td>13</td>\n",
       "      <td>1</td>\n",
       "      <td>3</td>\n",
       "      <td>1</td>\n",
       "      <td>0</td>\n",
       "      <td>0</td>\n",
       "      <td>0</td>\n",
       "      <td>NaN</td>\n",
       "      <td>train</td>\n",
       "    </tr>\n",
       "    <tr>\n",
       "      <th>3</th>\n",
       "      <td>HOBBIES_1_004_CA_1_validation</td>\n",
       "      <td>1440</td>\n",
       "      <td>3</td>\n",
       "      <td>1</td>\n",
       "      <td>0</td>\n",
       "      <td>0</td>\n",
       "      <td>0</td>\n",
       "      <td>0.0</td>\n",
       "      <td>2011-01-29</td>\n",
       "      <td>11101</td>\n",
       "      <td>...</td>\n",
       "      <td>2011</td>\n",
       "      <td>13</td>\n",
       "      <td>1</td>\n",
       "      <td>3</td>\n",
       "      <td>1</td>\n",
       "      <td>0</td>\n",
       "      <td>0</td>\n",
       "      <td>0</td>\n",
       "      <td>NaN</td>\n",
       "      <td>train</td>\n",
       "    </tr>\n",
       "    <tr>\n",
       "      <th>4</th>\n",
       "      <td>HOBBIES_1_005_CA_1_validation</td>\n",
       "      <td>1441</td>\n",
       "      <td>3</td>\n",
       "      <td>1</td>\n",
       "      <td>0</td>\n",
       "      <td>0</td>\n",
       "      <td>0</td>\n",
       "      <td>0.0</td>\n",
       "      <td>2011-01-29</td>\n",
       "      <td>11101</td>\n",
       "      <td>...</td>\n",
       "      <td>2011</td>\n",
       "      <td>13</td>\n",
       "      <td>1</td>\n",
       "      <td>3</td>\n",
       "      <td>1</td>\n",
       "      <td>0</td>\n",
       "      <td>0</td>\n",
       "      <td>0</td>\n",
       "      <td>NaN</td>\n",
       "      <td>train</td>\n",
       "    </tr>\n",
       "    <tr>\n",
       "      <th>5</th>\n",
       "      <td>HOBBIES_1_006_CA_1_validation</td>\n",
       "      <td>1442</td>\n",
       "      <td>3</td>\n",
       "      <td>1</td>\n",
       "      <td>0</td>\n",
       "      <td>0</td>\n",
       "      <td>0</td>\n",
       "      <td>0.0</td>\n",
       "      <td>2011-01-29</td>\n",
       "      <td>11101</td>\n",
       "      <td>...</td>\n",
       "      <td>2011</td>\n",
       "      <td>13</td>\n",
       "      <td>1</td>\n",
       "      <td>3</td>\n",
       "      <td>1</td>\n",
       "      <td>0</td>\n",
       "      <td>0</td>\n",
       "      <td>0</td>\n",
       "      <td>NaN</td>\n",
       "      <td>train</td>\n",
       "    </tr>\n",
       "    <tr>\n",
       "      <th>6</th>\n",
       "      <td>HOBBIES_1_007_CA_1_validation</td>\n",
       "      <td>1443</td>\n",
       "      <td>3</td>\n",
       "      <td>1</td>\n",
       "      <td>0</td>\n",
       "      <td>0</td>\n",
       "      <td>0</td>\n",
       "      <td>0.0</td>\n",
       "      <td>2011-01-29</td>\n",
       "      <td>11101</td>\n",
       "      <td>...</td>\n",
       "      <td>2011</td>\n",
       "      <td>13</td>\n",
       "      <td>1</td>\n",
       "      <td>3</td>\n",
       "      <td>1</td>\n",
       "      <td>0</td>\n",
       "      <td>0</td>\n",
       "      <td>0</td>\n",
       "      <td>NaN</td>\n",
       "      <td>train</td>\n",
       "    </tr>\n",
       "    <tr>\n",
       "      <th>7</th>\n",
       "      <td>HOBBIES_1_008_CA_1_validation</td>\n",
       "      <td>1444</td>\n",
       "      <td>3</td>\n",
       "      <td>1</td>\n",
       "      <td>0</td>\n",
       "      <td>0</td>\n",
       "      <td>0</td>\n",
       "      <td>12.0</td>\n",
       "      <td>2011-01-29</td>\n",
       "      <td>11101</td>\n",
       "      <td>...</td>\n",
       "      <td>2011</td>\n",
       "      <td>13</td>\n",
       "      <td>1</td>\n",
       "      <td>3</td>\n",
       "      <td>1</td>\n",
       "      <td>0</td>\n",
       "      <td>0</td>\n",
       "      <td>0</td>\n",
       "      <td>0.46</td>\n",
       "      <td>train</td>\n",
       "    </tr>\n",
       "    <tr>\n",
       "      <th>8</th>\n",
       "      <td>HOBBIES_1_009_CA_1_validation</td>\n",
       "      <td>1445</td>\n",
       "      <td>3</td>\n",
       "      <td>1</td>\n",
       "      <td>0</td>\n",
       "      <td>0</td>\n",
       "      <td>0</td>\n",
       "      <td>2.0</td>\n",
       "      <td>2011-01-29</td>\n",
       "      <td>11101</td>\n",
       "      <td>...</td>\n",
       "      <td>2011</td>\n",
       "      <td>13</td>\n",
       "      <td>1</td>\n",
       "      <td>3</td>\n",
       "      <td>1</td>\n",
       "      <td>0</td>\n",
       "      <td>0</td>\n",
       "      <td>0</td>\n",
       "      <td>1.56</td>\n",
       "      <td>train</td>\n",
       "    </tr>\n",
       "    <tr>\n",
       "      <th>9</th>\n",
       "      <td>HOBBIES_1_010_CA_1_validation</td>\n",
       "      <td>1446</td>\n",
       "      <td>3</td>\n",
       "      <td>1</td>\n",
       "      <td>0</td>\n",
       "      <td>0</td>\n",
       "      <td>0</td>\n",
       "      <td>0.0</td>\n",
       "      <td>2011-01-29</td>\n",
       "      <td>11101</td>\n",
       "      <td>...</td>\n",
       "      <td>2011</td>\n",
       "      <td>13</td>\n",
       "      <td>1</td>\n",
       "      <td>3</td>\n",
       "      <td>1</td>\n",
       "      <td>0</td>\n",
       "      <td>0</td>\n",
       "      <td>0</td>\n",
       "      <td>3.17</td>\n",
       "      <td>train</td>\n",
       "    </tr>\n",
       "  </tbody>\n",
       "</table>\n",
       "<p>10 rows × 23 columns</p>\n",
       "</div>"
      ],
      "text/plain": [
       "                              id  item_id  dept_id  cat_id  store_id  \\\n",
       "0  HOBBIES_1_001_CA_1_validation     1437        3       1         0   \n",
       "1  HOBBIES_1_002_CA_1_validation     1438        3       1         0   \n",
       "2  HOBBIES_1_003_CA_1_validation     1439        3       1         0   \n",
       "3  HOBBIES_1_004_CA_1_validation     1440        3       1         0   \n",
       "4  HOBBIES_1_005_CA_1_validation     1441        3       1         0   \n",
       "5  HOBBIES_1_006_CA_1_validation     1442        3       1         0   \n",
       "6  HOBBIES_1_007_CA_1_validation     1443        3       1         0   \n",
       "7  HOBBIES_1_008_CA_1_validation     1444        3       1         0   \n",
       "8  HOBBIES_1_009_CA_1_validation     1445        3       1         0   \n",
       "9  HOBBIES_1_010_CA_1_validation     1446        3       1         0   \n",
       "\n",
       "   state_id  d  sale        date  wm_yr_wk  ...  year  event_name_1  \\\n",
       "0         0  0   0.0  2011-01-29     11101  ...  2011            13   \n",
       "1         0  0   0.0  2011-01-29     11101  ...  2011            13   \n",
       "2         0  0   0.0  2011-01-29     11101  ...  2011            13   \n",
       "3         0  0   0.0  2011-01-29     11101  ...  2011            13   \n",
       "4         0  0   0.0  2011-01-29     11101  ...  2011            13   \n",
       "5         0  0   0.0  2011-01-29     11101  ...  2011            13   \n",
       "6         0  0   0.0  2011-01-29     11101  ...  2011            13   \n",
       "7         0  0  12.0  2011-01-29     11101  ...  2011            13   \n",
       "8         0  0   2.0  2011-01-29     11101  ...  2011            13   \n",
       "9         0  0   0.0  2011-01-29     11101  ...  2011            13   \n",
       "\n",
       "   event_type_1  event_name_2  event_type_2  snap_CA  snap_TX  snap_WI  \\\n",
       "0             1             3             1        0        0        0   \n",
       "1             1             3             1        0        0        0   \n",
       "2             1             3             1        0        0        0   \n",
       "3             1             3             1        0        0        0   \n",
       "4             1             3             1        0        0        0   \n",
       "5             1             3             1        0        0        0   \n",
       "6             1             3             1        0        0        0   \n",
       "7             1             3             1        0        0        0   \n",
       "8             1             3             1        0        0        0   \n",
       "9             1             3             1        0        0        0   \n",
       "\n",
       "   sell_price  data_type  \n",
       "0         NaN      train  \n",
       "1         NaN      train  \n",
       "2         NaN      train  \n",
       "3         NaN      train  \n",
       "4         NaN      train  \n",
       "5         NaN      train  \n",
       "6         NaN      train  \n",
       "7        0.46      train  \n",
       "8        1.56      train  \n",
       "9        3.17      train  \n",
       "\n",
       "[10 rows x 23 columns]"
      ]
     },
     "execution_count": 5,
     "metadata": {},
     "output_type": "execute_result"
    }
   ],
   "source": [
    "# Convert categorical features to integers as the categorical values cause problems when using large datasets\n",
    "\n",
    "df_merged = utils.encode_categorical(df_merged, [\n",
    "    \"item_id\", \"dept_id\", \"cat_id\", \"store_id\", \"state_id\", \"event_name_1\",\n",
    "    \"event_type_1\", \"event_name_2\", \"event_type_2\", 'd'\n",
    "])\n",
    "\n",
    "df_merged.head(10)"
   ]
  },
  {
   "cell_type": "markdown",
   "metadata": {},
   "source": [
    "# Feature Engineering"
   ]
  },
  {
   "cell_type": "code",
   "execution_count": 6,
   "metadata": {
    "ExecuteTime": {
     "end_time": "2020-03-30T23:17:06.471150Z",
     "start_time": "2020-03-30T23:11:33.036818Z"
    }
   },
   "outputs": [],
   "source": [
    "# sales data\n",
    "\n",
    "# rolling mean and rolling std (weekly, monthly, quarterly, and half-year)\n",
    "df_merged['rolling_mean_t7'] = df_merged.groupby(\n",
    "    ['id'])['sale'].transform(lambda x: x.shift(28).rolling(7).mean())\n",
    "\n",
    "df_merged['rolling_std_t7'] = df_merged.groupby(\n",
    "    ['id'])['sale'].transform(lambda x: x.shift(28).rolling(7).std())\n",
    "\n",
    "df_merged['rolling_mean_t30'] = df_merged.groupby(\n",
    "    ['id'])['sale'].transform(lambda x: x.shift(28).rolling(30).mean())\n",
    "\n",
    "df_merged['rolling_std_t30'] = df_merged.groupby(\n",
    "    ['id'])['sale'].transform(lambda x: x.shift(28).rolling(30).std())\n",
    "\n",
    "df_merged['rolling_mean_t90'] = df_merged.groupby(\n",
    "    ['id'])['sale'].transform(lambda x: x.shift(28).rolling(90).mean())\n",
    "\n",
    "df_merged['rolling_std_t90'] = df_merged.groupby(\n",
    "    ['id'])['sale'].transform(lambda x: x.shift(28).rolling(90).std())\n",
    "\n",
    "# laged values\n",
    "df_merged['lag_t30'] = df_merged.groupby(\n",
    "    ['id'])['sale'].transform(lambda x: x.shift(30))"
   ]
  },
  {
   "cell_type": "code",
   "execution_count": 7,
   "metadata": {
    "ExecuteTime": {
     "end_time": "2020-03-30T23:21:05.563418Z",
     "start_time": "2020-03-30T23:17:06.472146Z"
    }
   },
   "outputs": [],
   "source": [
    "# price data\n",
    "df_merged['lag_price_t1'] = df_merged.groupby(\n",
    "    ['id'])['sell_price'].transform(lambda x: x.shift(1))\n",
    "\n",
    "df_merged['rolling_price_max_t30'] = df_merged.groupby(\n",
    "    ['id'])['sell_price'].transform(lambda x: x.shift(1).rolling(30).max())\n",
    "\n",
    "df_merged['price_change_t1'] = (df_merged['lag_price_t1'] -\n",
    "                                df_merged['sell_price']) / (\n",
    "                                    df_merged['lag_price_t1'])\n",
    "\n",
    "df_merged['price_change_t30'] = (df_merged['rolling_price_max_t30'] -\n",
    "                                 df_merged['sell_price']) / (\n",
    "                                     df_merged['rolling_price_max_t30'])\n",
    "\n",
    "df_merged['rolling_price_std_t7'] = df_merged.groupby(\n",
    "    ['id'])['sell_price'].transform(lambda x: x.rolling(7).std())\n",
    "\n",
    "df_merged['rolling_price_std_t30'] = df_merged.groupby(\n",
    "    ['id'])['sell_price'].transform(lambda x: x.rolling(30).std())\n",
    "\n",
    "df_merged.drop(['rolling_price_max_t30', 'lag_price_t1'], inplace=True, axis=1)"
   ]
  },
  {
   "cell_type": "code",
   "execution_count": 8,
   "metadata": {
    "ExecuteTime": {
     "end_time": "2020-03-30T23:21:18.818031Z",
     "start_time": "2020-03-30T23:21:05.588351Z"
    }
   },
   "outputs": [],
   "source": [
    "# date data\n",
    "df_merged[\"is_weekend\"] = df_merged[\"wday\"].isin([1, 2]).astype(np.int8)\n",
    "\n",
    "df_merged.loc[:, 'date'] = pd.to_datetime(df_merged['date'])\n",
    "df_merged['day'] = df_merged['date'].dt.day.astype(np.int8)"
   ]
  },
  {
   "cell_type": "code",
   "execution_count": 9,
   "metadata": {
    "ExecuteTime": {
     "end_time": "2020-03-30T23:21:18.831963Z",
     "start_time": "2020-03-30T23:21:18.822986Z"
    }
   },
   "outputs": [],
   "source": [
    "# TODO: proper feature selection (e.g. random forrest)\n",
    "# for now: hardcoded list of features\n",
    "features = [\n",
    "    'item_id',\n",
    "    'dept_id',\n",
    "    'cat_id',\n",
    "    'store_id',\n",
    "    'state_id',\n",
    "    'year',\n",
    "    'month',\n",
    "    'day',\n",
    "    'is_weekend',\n",
    "    'wday',\n",
    "    'event_name_1',\n",
    "    'event_type_1',\n",
    "    'event_name_2',\n",
    "    'event_type_2',\n",
    "    'snap_CA',\n",
    "    'snap_TX',\n",
    "    'snap_WI',\n",
    "    'sell_price',\n",
    "    'lag_t30',\n",
    "    'rolling_mean_t7',\n",
    "    'rolling_std_t7',\n",
    "    'rolling_mean_t30',\n",
    "    'rolling_std_t30',\n",
    "    'rolling_mean_t90',\n",
    "    'rolling_std_t90',\n",
    "    'price_change_t1',\n",
    "    'rolling_price_std_t7',\n",
    "    'rolling_price_std_t30',\n",
    "]"
   ]
  },
  {
   "cell_type": "code",
   "execution_count": 10,
   "metadata": {
    "ExecuteTime": {
     "end_time": "2020-03-30T23:22:17.275257Z",
     "start_time": "2020-03-30T23:21:18.833957Z"
    }
   },
   "outputs": [],
   "source": [
    "# drop lines with missing values that occur due to feature engineering\n",
    "df_merged = df_merged.dropna(subset=features)"
   ]
  },
  {
   "cell_type": "markdown",
   "metadata": {},
   "source": [
    "# Prepare Data for Training"
   ]
  },
  {
   "cell_type": "code",
   "execution_count": 11,
   "metadata": {
    "ExecuteTime": {
     "end_time": "2020-03-30T23:23:25.102031Z",
     "start_time": "2020-03-30T23:22:17.297165Z"
    }
   },
   "outputs": [
    {
     "name": "stdout",
     "output_type": "stream",
     "text": [
      "(43972762, 28)\n",
      "(43972762,)\n",
      "(853720, 28)\n",
      "(853720,)\n"
     ]
    }
   ],
   "source": [
    "if performance_validation:\n",
    "    x_train = df_merged[df_merged['date'] <= '2016-03-27'][features]\n",
    "    y_train = df_merged[df_merged['date'] <= '2016-03-27']['sale']\n",
    "    x_val = df_merged[(df_merged['date'] > '2016-03-27')][features]\n",
    "    y_val = y_test\n",
    "\n",
    "else:\n",
    "    x_train = df_merged[df_merged['data_type'] == 'train'][features]\n",
    "    y_train = df_merged[df_merged['data_type'] == 'train']['sale']\n",
    "    x_val = df_merged[(df_merged['data_type'] == 'validation')][features]\n",
    "    y_val = df_merged[(df_merged['data_type'] == 'validation')]['sale']\n",
    "    # -> y_val always NA\n",
    "\n",
    "print(x_train.shape)\n",
    "print(y_train.shape)\n",
    "print(x_val.shape)\n",
    "print(y_val.shape)"
   ]
  },
  {
   "cell_type": "markdown",
   "metadata": {},
   "source": [
    "# Model Training & Forecasting (GradientBoostingRegressor)"
   ]
  },
  {
   "cell_type": "code",
   "execution_count": 12,
   "metadata": {
    "ExecuteTime": {
     "end_time": "2020-03-31T06:16:06.440776Z",
     "start_time": "2020-03-30T23:23:25.108962Z"
    }
   },
   "outputs": [
    {
     "name": "stdout",
     "output_type": "stream",
     "text": [
      "      Iter       Train Loss   Remaining Time \n",
      "         1          16.6018          299.51m\n",
      "         2          15.0881          295.26m\n",
      "         3          13.8463          292.84m\n",
      "         4          12.8141          289.65m\n",
      "         5          11.9620          301.67m\n",
      "         6          11.2558          703.54m\n",
      "         7          10.6715          643.43m\n",
      "         8          10.1888          602.71m\n",
      "         9           9.7911          569.55m\n",
      "        10           9.4633          541.81m\n",
      "        20           8.0104          397.45m\n",
      "        30           7.6917          322.51m\n",
      "        40           7.5788          265.98m\n",
      "        50           7.5124          216.51m\n",
      "        60           7.4613          170.17m\n",
      "        70           7.4177          126.10m\n",
      "        80           7.3806           83.30m\n",
      "        90           7.3566           41.38m\n",
      "       100           7.3315            0.00s\n"
     ]
    }
   ],
   "source": [
    "# docu of classifier: https://scikit-learn.org/stable/modules/generated/sklearn.ensemble.RandomForestRegressor.html#sklearn.ensemble.RandomForestRegressor\n",
    "from sklearn.ensemble import GradientBoostingRegressor\n",
    "\n",
    "clf = GradientBoostingRegressor(n_iter_no_change=5, tol=0.005, verbose=1)\n",
    "clf = clf.fit(x_train, y_train)\n",
    "\n",
    "y_pred = clf.predict(x_val)"
   ]
  },
  {
   "cell_type": "markdown",
   "metadata": {},
   "source": [
    "# Training Analysis"
   ]
  },
  {
   "cell_type": "code",
   "execution_count": 13,
   "metadata": {
    "ExecuteTime": {
     "end_time": "2020-03-31T06:16:06.469878Z",
     "start_time": "2020-03-31T06:16:06.449898Z"
    }
   },
   "outputs": [],
   "source": [
    "if performance_validation:\n",
    "\n",
    "    # R-Squared value\n",
    "    print('R-Squared Value: %0.3f' % clf.score(x_val, y_val))\n",
    "\n",
    "    # MSE of computed forecasts\n",
    "    print('MSE of computed forecasts: %0.3f' %\n",
    "          mean_squared_error(y_val, y_pred))\n",
    "\n",
    "    # MSE of SARIMA\n",
    "    print('MSE of SARIMA on small data set', 3.565)\n",
    "    print('MSE of SARIMA on entire data set', 7.615)"
   ]
  },
  {
   "cell_type": "code",
   "execution_count": 14,
   "metadata": {
    "ExecuteTime": {
     "end_time": "2020-03-31T06:16:07.456040Z",
     "start_time": "2020-03-31T06:16:06.474832Z"
    }
   },
   "outputs": [
    {
     "data": {
      "image/png": "[encoded data removed]",
      "text/plain": [
       "<Figure size 360x576 with 1 Axes>"
      ]
     },
     "metadata": {
      "needs_background": "light"
     },
     "output_type": "display_data"
    }
   ],
   "source": [
    "# Plot feature importances\n",
    "feature_importance = clf.feature_importances_\n",
    "\n",
    "feature_importance = 100.0 * (feature_importance / feature_importance.max())\n",
    "sorted_idx = np.argsort(feature_importance)\n",
    "pos = np.arange(sorted_idx.shape[0]) + .5\n",
    "\n",
    "plt.figure(figsize=(5, 8))\n",
    "plt.grid()\n",
    "plt.barh(pos, feature_importance[sorted_idx], align='center')\n",
    "plt.yticks(pos, x_train.columns[sorted_idx])\n",
    "plt.xlabel('Relative Importance')\n",
    "plt.title('Variable Importance')\n",
    "plt.show()"
   ]
  },
  {
   "cell_type": "code",
   "execution_count": 15,
   "metadata": {
    "ExecuteTime": {
     "end_time": "2020-03-31T06:16:10.183236Z",
     "start_time": "2020-03-31T06:16:07.457053Z"
    }
   },
   "outputs": [
    {
     "data": {
      "text/plain": [
       "Text(0, 0.5, 'Deviance')"
      ]
     },
     "execution_count": 15,
     "metadata": {},
     "output_type": "execute_result"
    },
    {
     "data": {
      "image/png": "[encoded data removed]",
      "text/plain": [
       "<Figure size 864x432 with 1 Axes>"
      ]
     },
     "metadata": {
      "needs_background": "light"
     },
     "output_type": "display_data"
    }
   ],
   "source": [
    "# Plot training deviance\n",
    "\n",
    "test_score = np.zeros((len(clf.estimators_), ), dtype=np.float64)\n",
    "\n",
    "for i, y_pred in enumerate(clf.staged_predict(x_val)):\n",
    "    test_score[i] = clf.loss_(y_val, y_pred)\n",
    "\n",
    "plt.figure(figsize=(12, 6))\n",
    "plt.subplot(1, 2, 1)\n",
    "plt.title('Deviance')\n",
    "plt.plot(np.arange(len(clf.estimators_)) + 1,\n",
    "         clf.train_score_,\n",
    "         'b-',\n",
    "         label='Training Set Deviance')\n",
    "plt.plot(np.arange(len(clf.estimators_)) + 1,\n",
    "         test_score,\n",
    "         'r-',\n",
    "         label='Test Set Deviance')\n",
    "plt.legend(loc='upper right')\n",
    "plt.xlabel('Boosting Iterations')\n",
    "plt.ylabel('Deviance')"
   ]
  },
  {
   "cell_type": "markdown",
   "metadata": {},
   "source": [
    "# Printout Forecasts"
   ]
  },
  {
   "cell_type": "code",
   "execution_count": 16,
   "metadata": {
    "ExecuteTime": {
     "end_time": "2020-03-31T06:16:10.195254Z",
     "start_time": "2020-03-31T06:16:10.184234Z"
    }
   },
   "outputs": [],
   "source": [
    "# map forecast values to encoded item_ids\n",
    "x_val['y_pred'] = y_pred"
   ]
  },
  {
   "cell_type": "code",
   "execution_count": 17,
   "metadata": {
    "ExecuteTime": {
     "end_time": "2020-03-31T06:16:25.418324Z",
     "start_time": "2020-03-31T06:16:10.196202Z"
    }
   },
   "outputs": [],
   "source": [
    "# map encoded ids to decoded ids\n",
    "id_mapping_table = df_merged[['id', 'item_id', 'store_id']].drop_duplicates()\n",
    "df_results = x_val.merge(id_mapping_table,\n",
    "                         on=['item_id', 'store_id'],\n",
    "                         how='left')[[\n",
    "                             'id', 'item_id', 'store_id', 'year', 'month',\n",
    "                             'day', 'y_pred'\n",
    "                         ]]"
   ]
  },
  {
   "cell_type": "code",
   "execution_count": 18,
   "metadata": {
    "ExecuteTime": {
     "end_time": "2020-03-31T06:16:36.422209Z",
     "start_time": "2020-03-31T06:16:25.420319Z"
    }
   },
   "outputs": [],
   "source": [
    "# create dict with IDs and forecasts\n",
    "submission_dict = {}\n",
    "\n",
    "for i, df in df_results.groupby(['id']):\n",
    "    df = df.reset_index(drop=True)\n",
    "    submission_dict[i] = df['y_pred']"
   ]
  },
  {
   "cell_type": "code",
   "execution_count": 19,
   "metadata": {
    "ExecuteTime": {
     "end_time": "2020-03-31T06:16:37.545833Z",
     "start_time": "2020-03-31T06:16:36.423160Z"
    }
   },
   "outputs": [
    {
     "data": {
      "text/html": [
       "<div>\n",
       "<style scoped>\n",
       "    .dataframe tbody tr th:only-of-type {\n",
       "        vertical-align: middle;\n",
       "    }\n",
       "\n",
       "    .dataframe tbody tr th {\n",
       "        vertical-align: top;\n",
       "    }\n",
       "\n",
       "    .dataframe thead th {\n",
       "        text-align: right;\n",
       "    }\n",
       "</style>\n",
       "<table border=\"1\" class=\"dataframe\">\n",
       "  <thead>\n",
       "    <tr style=\"text-align: right;\">\n",
       "      <th></th>\n",
       "      <th>id</th>\n",
       "      <th>F1</th>\n",
       "      <th>F2</th>\n",
       "      <th>F3</th>\n",
       "      <th>F4</th>\n",
       "      <th>F5</th>\n",
       "      <th>F6</th>\n",
       "      <th>F7</th>\n",
       "      <th>F8</th>\n",
       "      <th>F9</th>\n",
       "      <th>...</th>\n",
       "      <th>F19</th>\n",
       "      <th>F20</th>\n",
       "      <th>F21</th>\n",
       "      <th>F22</th>\n",
       "      <th>F23</th>\n",
       "      <th>F24</th>\n",
       "      <th>F25</th>\n",
       "      <th>F26</th>\n",
       "      <th>F27</th>\n",
       "      <th>F28</th>\n",
       "    </tr>\n",
       "  </thead>\n",
       "  <tbody>\n",
       "    <tr>\n",
       "      <th>0</th>\n",
       "      <td>FOODS_1_001_CA_1_validation</td>\n",
       "      <td>0.791531</td>\n",
       "      <td>0.687453</td>\n",
       "      <td>0.687453</td>\n",
       "      <td>0.687453</td>\n",
       "      <td>0.812982</td>\n",
       "      <td>0.973923</td>\n",
       "      <td>1.041051</td>\n",
       "      <td>1.021580</td>\n",
       "      <td>0.977885</td>\n",
       "      <td>...</td>\n",
       "      <td>0.918795</td>\n",
       "      <td>1.177635</td>\n",
       "      <td>1.105582</td>\n",
       "      <td>1.032853</td>\n",
       "      <td>0.980919</td>\n",
       "      <td>0.980919</td>\n",
       "      <td>0.976542</td>\n",
       "      <td>1.026192</td>\n",
       "      <td>1.187134</td>\n",
       "      <td>1.187134</td>\n",
       "    </tr>\n",
       "    <tr>\n",
       "      <th>1</th>\n",
       "      <td>FOODS_1_001_CA_2_validation</td>\n",
       "      <td>0.802732</td>\n",
       "      <td>0.760502</td>\n",
       "      <td>0.683110</td>\n",
       "      <td>0.683110</td>\n",
       "      <td>0.732760</td>\n",
       "      <td>0.775754</td>\n",
       "      <td>0.842881</td>\n",
       "      <td>0.626167</td>\n",
       "      <td>0.665097</td>\n",
       "      <td>...</td>\n",
       "      <td>0.603785</td>\n",
       "      <td>0.835638</td>\n",
       "      <td>1.688601</td>\n",
       "      <td>1.371773</td>\n",
       "      <td>1.258716</td>\n",
       "      <td>1.212429</td>\n",
       "      <td>1.314401</td>\n",
       "      <td>1.393870</td>\n",
       "      <td>1.836921</td>\n",
       "      <td>1.419995</td>\n",
       "    </tr>\n",
       "    <tr>\n",
       "      <th>2</th>\n",
       "      <td>FOODS_1_001_CA_3_validation</td>\n",
       "      <td>1.418598</td>\n",
       "      <td>1.357047</td>\n",
       "      <td>1.357047</td>\n",
       "      <td>1.165723</td>\n",
       "      <td>1.188511</td>\n",
       "      <td>1.085778</td>\n",
       "      <td>1.152905</td>\n",
       "      <td>0.978981</td>\n",
       "      <td>0.940578</td>\n",
       "      <td>...</td>\n",
       "      <td>1.162759</td>\n",
       "      <td>1.305812</td>\n",
       "      <td>1.909826</td>\n",
       "      <td>1.494068</td>\n",
       "      <td>1.408784</td>\n",
       "      <td>1.277134</td>\n",
       "      <td>1.272757</td>\n",
       "      <td>1.322407</td>\n",
       "      <td>1.578423</td>\n",
       "      <td>1.185130</td>\n",
       "    </tr>\n",
       "    <tr>\n",
       "      <th>3</th>\n",
       "      <td>FOODS_1_001_CA_4_validation</td>\n",
       "      <td>0.420082</td>\n",
       "      <td>0.391882</td>\n",
       "      <td>0.369890</td>\n",
       "      <td>0.354540</td>\n",
       "      <td>0.404190</td>\n",
       "      <td>0.489040</td>\n",
       "      <td>0.508757</td>\n",
       "      <td>0.425243</td>\n",
       "      <td>0.400869</td>\n",
       "      <td>...</td>\n",
       "      <td>0.290810</td>\n",
       "      <td>0.409781</td>\n",
       "      <td>0.406132</td>\n",
       "      <td>0.285249</td>\n",
       "      <td>0.233315</td>\n",
       "      <td>0.233315</td>\n",
       "      <td>0.228938</td>\n",
       "      <td>0.305009</td>\n",
       "      <td>0.459581</td>\n",
       "      <td>0.511504</td>\n",
       "    </tr>\n",
       "    <tr>\n",
       "      <th>4</th>\n",
       "      <td>FOODS_1_001_TX_1_validation</td>\n",
       "      <td>0.767722</td>\n",
       "      <td>0.725493</td>\n",
       "      <td>0.699072</td>\n",
       "      <td>0.699072</td>\n",
       "      <td>0.459983</td>\n",
       "      <td>0.585296</td>\n",
       "      <td>0.652423</td>\n",
       "      <td>0.527680</td>\n",
       "      <td>0.419367</td>\n",
       "      <td>...</td>\n",
       "      <td>0.326190</td>\n",
       "      <td>0.445160</td>\n",
       "      <td>0.448986</td>\n",
       "      <td>0.285055</td>\n",
       "      <td>0.214971</td>\n",
       "      <td>0.214971</td>\n",
       "      <td>0.210593</td>\n",
       "      <td>0.260244</td>\n",
       "      <td>0.357194</td>\n",
       "      <td>0.357194</td>\n",
       "    </tr>\n",
       "    <tr>\n",
       "      <th>...</th>\n",
       "      <td>...</td>\n",
       "      <td>...</td>\n",
       "      <td>...</td>\n",
       "      <td>...</td>\n",
       "      <td>...</td>\n",
       "      <td>...</td>\n",
       "      <td>...</td>\n",
       "      <td>...</td>\n",
       "      <td>...</td>\n",
       "      <td>...</td>\n",
       "      <td>...</td>\n",
       "      <td>...</td>\n",
       "      <td>...</td>\n",
       "      <td>...</td>\n",
       "      <td>...</td>\n",
       "      <td>...</td>\n",
       "      <td>...</td>\n",
       "      <td>...</td>\n",
       "      <td>...</td>\n",
       "      <td>...</td>\n",
       "      <td>...</td>\n",
       "    </tr>\n",
       "    <tr>\n",
       "      <th>30485</th>\n",
       "      <td>HOUSEHOLD_2_516_TX_2_validation</td>\n",
       "      <td>0.266016</td>\n",
       "      <td>0.237816</td>\n",
       "      <td>0.259809</td>\n",
       "      <td>0.259809</td>\n",
       "      <td>0.287467</td>\n",
       "      <td>0.413028</td>\n",
       "      <td>0.396302</td>\n",
       "      <td>0.266097</td>\n",
       "      <td>0.268144</td>\n",
       "      <td>...</td>\n",
       "      <td>0.285034</td>\n",
       "      <td>0.458848</td>\n",
       "      <td>0.418189</td>\n",
       "      <td>0.241607</td>\n",
       "      <td>0.200494</td>\n",
       "      <td>0.226914</td>\n",
       "      <td>0.226914</td>\n",
       "      <td>0.276565</td>\n",
       "      <td>0.354396</td>\n",
       "      <td>0.303281</td>\n",
       "    </tr>\n",
       "    <tr>\n",
       "      <th>30486</th>\n",
       "      <td>HOUSEHOLD_2_516_TX_3_validation</td>\n",
       "      <td>0.170681</td>\n",
       "      <td>0.151344</td>\n",
       "      <td>0.184148</td>\n",
       "      <td>0.171568</td>\n",
       "      <td>0.221218</td>\n",
       "      <td>0.309695</td>\n",
       "      <td>0.333225</td>\n",
       "      <td>0.205082</td>\n",
       "      <td>0.180708</td>\n",
       "      <td>...</td>\n",
       "      <td>0.570215</td>\n",
       "      <td>0.525753</td>\n",
       "      <td>0.529579</td>\n",
       "      <td>0.421960</td>\n",
       "      <td>0.380847</td>\n",
       "      <td>0.380847</td>\n",
       "      <td>0.380847</td>\n",
       "      <td>0.435971</td>\n",
       "      <td>0.518991</td>\n",
       "      <td>0.518991</td>\n",
       "    </tr>\n",
       "    <tr>\n",
       "      <th>30487</th>\n",
       "      <td>HOUSEHOLD_2_516_WI_1_validation</td>\n",
       "      <td>0.161345</td>\n",
       "      <td>0.133145</td>\n",
       "      <td>0.133145</td>\n",
       "      <td>0.133145</td>\n",
       "      <td>0.182796</td>\n",
       "      <td>0.250282</td>\n",
       "      <td>0.273812</td>\n",
       "      <td>0.180372</td>\n",
       "      <td>0.155998</td>\n",
       "      <td>...</td>\n",
       "      <td>0.199309</td>\n",
       "      <td>0.262292</td>\n",
       "      <td>0.266118</td>\n",
       "      <td>0.174032</td>\n",
       "      <td>0.132919</td>\n",
       "      <td>0.132919</td>\n",
       "      <td>0.132919</td>\n",
       "      <td>0.182570</td>\n",
       "      <td>0.250055</td>\n",
       "      <td>0.250055</td>\n",
       "    </tr>\n",
       "    <tr>\n",
       "      <th>30488</th>\n",
       "      <td>HOUSEHOLD_2_516_WI_2_validation</td>\n",
       "      <td>0.152456</td>\n",
       "      <td>0.124256</td>\n",
       "      <td>0.124256</td>\n",
       "      <td>0.124256</td>\n",
       "      <td>0.173907</td>\n",
       "      <td>0.241392</td>\n",
       "      <td>0.264922</td>\n",
       "      <td>0.180372</td>\n",
       "      <td>0.155998</td>\n",
       "      <td>...</td>\n",
       "      <td>0.190420</td>\n",
       "      <td>0.262292</td>\n",
       "      <td>0.266118</td>\n",
       "      <td>0.165143</td>\n",
       "      <td>0.124030</td>\n",
       "      <td>0.124030</td>\n",
       "      <td>0.124030</td>\n",
       "      <td>0.173680</td>\n",
       "      <td>0.241166</td>\n",
       "      <td>0.241166</td>\n",
       "    </tr>\n",
       "    <tr>\n",
       "      <th>30489</th>\n",
       "      <td>HOUSEHOLD_2_516_WI_3_validation</td>\n",
       "      <td>0.152456</td>\n",
       "      <td>0.124256</td>\n",
       "      <td>0.124256</td>\n",
       "      <td>0.124256</td>\n",
       "      <td>0.173907</td>\n",
       "      <td>0.241392</td>\n",
       "      <td>0.264922</td>\n",
       "      <td>0.180372</td>\n",
       "      <td>0.155998</td>\n",
       "      <td>...</td>\n",
       "      <td>0.190420</td>\n",
       "      <td>0.262292</td>\n",
       "      <td>0.266118</td>\n",
       "      <td>0.165143</td>\n",
       "      <td>0.124030</td>\n",
       "      <td>0.124030</td>\n",
       "      <td>0.124030</td>\n",
       "      <td>0.173680</td>\n",
       "      <td>0.241166</td>\n",
       "      <td>0.241166</td>\n",
       "    </tr>\n",
       "  </tbody>\n",
       "</table>\n",
       "<p>30490 rows × 29 columns</p>\n",
       "</div>"
      ],
      "text/plain": [
       "                                    id        F1        F2        F3  \\\n",
       "0          FOODS_1_001_CA_1_validation  0.791531  0.687453  0.687453   \n",
       "1          FOODS_1_001_CA_2_validation  0.802732  0.760502  0.683110   \n",
       "2          FOODS_1_001_CA_3_validation  1.418598  1.357047  1.357047   \n",
       "3          FOODS_1_001_CA_4_validation  0.420082  0.391882  0.369890   \n",
       "4          FOODS_1_001_TX_1_validation  0.767722  0.725493  0.699072   \n",
       "...                                ...       ...       ...       ...   \n",
       "30485  HOUSEHOLD_2_516_TX_2_validation  0.266016  0.237816  0.259809   \n",
       "30486  HOUSEHOLD_2_516_TX_3_validation  0.170681  0.151344  0.184148   \n",
       "30487  HOUSEHOLD_2_516_WI_1_validation  0.161345  0.133145  0.133145   \n",
       "30488  HOUSEHOLD_2_516_WI_2_validation  0.152456  0.124256  0.124256   \n",
       "30489  HOUSEHOLD_2_516_WI_3_validation  0.152456  0.124256  0.124256   \n",
       "\n",
       "             F4        F5        F6        F7        F8        F9  ...  \\\n",
       "0      0.687453  0.812982  0.973923  1.041051  1.021580  0.977885  ...   \n",
       "1      0.683110  0.732760  0.775754  0.842881  0.626167  0.665097  ...   \n",
       "2      1.165723  1.188511  1.085778  1.152905  0.978981  0.940578  ...   \n",
       "3      0.354540  0.404190  0.489040  0.508757  0.425243  0.400869  ...   \n",
       "4      0.699072  0.459983  0.585296  0.652423  0.527680  0.419367  ...   \n",
       "...         ...       ...       ...       ...       ...       ...  ...   \n",
       "30485  0.259809  0.287467  0.413028  0.396302  0.266097  0.268144  ...   \n",
       "30486  0.171568  0.221218  0.309695  0.333225  0.205082  0.180708  ...   \n",
       "30487  0.133145  0.182796  0.250282  0.273812  0.180372  0.155998  ...   \n",
       "30488  0.124256  0.173907  0.241392  0.264922  0.180372  0.155998  ...   \n",
       "30489  0.124256  0.173907  0.241392  0.264922  0.180372  0.155998  ...   \n",
       "\n",
       "            F19       F20       F21       F22       F23       F24       F25  \\\n",
       "0      0.918795  1.177635  1.105582  1.032853  0.980919  0.980919  0.976542   \n",
       "1      0.603785  0.835638  1.688601  1.371773  1.258716  1.212429  1.314401   \n",
       "2      1.162759  1.305812  1.909826  1.494068  1.408784  1.277134  1.272757   \n",
       "3      0.290810  0.409781  0.406132  0.285249  0.233315  0.233315  0.228938   \n",
       "4      0.326190  0.445160  0.448986  0.285055  0.214971  0.214971  0.210593   \n",
       "...         ...       ...       ...       ...       ...       ...       ...   \n",
       "30485  0.285034  0.458848  0.418189  0.241607  0.200494  0.226914  0.226914   \n",
       "30486  0.570215  0.525753  0.529579  0.421960  0.380847  0.380847  0.380847   \n",
       "30487  0.199309  0.262292  0.266118  0.174032  0.132919  0.132919  0.132919   \n",
       "30488  0.190420  0.262292  0.266118  0.165143  0.124030  0.124030  0.124030   \n",
       "30489  0.190420  0.262292  0.266118  0.165143  0.124030  0.124030  0.124030   \n",
       "\n",
       "            F26       F27       F28  \n",
       "0      1.026192  1.187134  1.187134  \n",
       "1      1.393870  1.836921  1.419995  \n",
       "2      1.322407  1.578423  1.185130  \n",
       "3      0.305009  0.459581  0.511504  \n",
       "4      0.260244  0.357194  0.357194  \n",
       "...         ...       ...       ...  \n",
       "30485  0.276565  0.354396  0.303281  \n",
       "30486  0.435971  0.518991  0.518991  \n",
       "30487  0.182570  0.250055  0.250055  \n",
       "30488  0.173680  0.241166  0.241166  \n",
       "30489  0.173680  0.241166  0.241166  \n",
       "\n",
       "[30490 rows x 29 columns]"
      ]
     },
     "execution_count": 19,
     "metadata": {},
     "output_type": "execute_result"
    }
   ],
   "source": [
    "# convert dict to dataframe\n",
    "submission_df = pd.DataFrame(submission_dict).T\n",
    "submission_df.reset_index(level=0, inplace=True)\n",
    "submission_df.columns = ['id'] + [f'F{di}' for di in list(range(1, 29))]\n",
    "submission_df"
   ]
  },
  {
   "cell_type": "markdown",
   "metadata": {},
   "source": [
    "# Submit to Kaggle "
   ]
  },
  {
   "cell_type": "code",
   "execution_count": 20,
   "metadata": {
    "ExecuteTime": {
     "end_time": "2020-03-31T06:16:39.905833Z",
     "start_time": "2020-03-31T06:16:37.546799Z"
    }
   },
   "outputs": [],
   "source": [
    "if performance_validation is False:\n",
    "    # Bring data to Kaggel's required form (evaluation & validation)\n",
    "    df_submission = submission_df.append(\n",
    "        submission_df.replace(to_replace='validation', value='evaluation',\n",
    "                              regex=True))\n",
    "    filename = utils.get_m5_root_dir(\n",
    "    ) + '/data/submissions/gradient_boosting_regressor_v_1_1.csv'\n",
    "    df_submission.to_csv(filename, index=False)\n",
    "    \n",
    "\n",
    "    # Submit via Kaggle API or with website https://www.kaggle.com/c/m5-forecasting-accuracy/submissions\n",
    "    #!kaggle competitions submit - c m5-forecasting-accuracy - f data/submissions/gradient_boosting_regressor_v_1_0.csv - m\"gradient_boosting_regressor_v_1_0.csv\""
   ]
  },
  {
   "cell_type": "code",
   "execution_count": null,
   "metadata": {},
   "outputs": [],
   "source": []
  },
  {
   "cell_type": "code",
   "execution_count": null,
   "metadata": {},
   "outputs": [],
   "source": []
  }
 ],
 "metadata": {
  "kernelspec": {
   "display_name": "Python 3",
   "language": "python",
   "name": "python3"
  },
  "language_info": {
   "codemirror_mode": {
    "name": "ipython",
    "version": 3
   },
   "file_extension": ".py",
   "mimetype": "text/x-python",
   "name": "python",
   "nbconvert_exporter": "python",
   "pygments_lexer": "ipython3",
   "version": "3.7.6"
  }
 },
 "nbformat": 4,
 "nbformat_minor": 4
}
