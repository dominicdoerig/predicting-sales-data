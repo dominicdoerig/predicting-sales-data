{
 "cells": [
  {
   "cell_type": "markdown",
   "metadata": {},
   "source": [
    "# Import Packages"
   ]
  },
  {
   "cell_type": "code",
   "execution_count": 1,
   "metadata": {
    "ExecuteTime": {
     "end_time": "2020-03-15T13:54:48.442928Z",
     "start_time": "2020-03-15T13:54:47.048655Z"
    }
   },
   "outputs": [],
   "source": [
    "import os\n",
    "import pandas as pd\n",
    "import matplotlib.pyplot as plt\n",
    "import numpy as np\n",
    "import seaborn as sns\n",
    "import math\n",
    "import itertools\n",
    "sns.set(style=\"ticks\")\n",
    "%config IPCompleter.greedy = True\n",
    "from sklearn.preprocessing import LabelEncoder\n",
    "\n",
    "import utils"
   ]
  },
  {
   "cell_type": "markdown",
   "metadata": {},
   "source": [
    "# Import Data"
   ]
  },
  {
   "cell_type": "code",
   "execution_count": 2,
   "metadata": {
    "ExecuteTime": {
     "end_time": "2020-03-15T13:54:53.814627Z",
     "start_time": "2020-03-15T13:54:48.443925Z"
    }
   },
   "outputs": [],
   "source": [
    "  df_calendar, df_sales, df_prices= utils.import_m5_data(reduce_memory=False)"
   ]
  },
  {
   "cell_type": "markdown",
   "metadata": {},
   "source": [
    "# Encode Categorical Variables if neccesairy"
   ]
  },
  {
   "cell_type": "markdown",
   "metadata": {},
   "source": [
    "Problems of categorical variables:\n",
    "- more memory (RAM) needed\n",
    "- the notebook may crash due to categorical variables"
   ]
  },
  {
   "cell_type": "code",
   "execution_count": 3,
   "metadata": {
    "ExecuteTime": {
     "end_time": "2020-03-15T13:54:53.822557Z",
     "start_time": "2020-03-15T13:54:53.815575Z"
    }
   },
   "outputs": [
    {
     "data": {
      "text/plain": [
       "'\\ndf_calendar = encode_categorical(\\n    df_calendar,\\n    [\"event_name_1\", \"event_type_1\", \"event_name_2\", \"event_type_2\"],\\n    fillna=True,\\n).pipe(utils.reduce_mem_usage)\\n\\ndf_sales = encode_categorical(\\n    df_sales, [\"item_id\", \"dept_id\", \"cat_id\", \"store_id\", \"state_id\"],\\n).pipe(utils.reduce_mem_usage)\\n\\ndf_prices = encode_categorical(df_prices, [\"item_id\", \"store_id\"]).pipe(\\n    utils.reduce_mem_usage\\n)\\n'"
      ]
     },
     "execution_count": 3,
     "metadata": {},
     "output_type": "execute_result"
    }
   ],
   "source": [
    "\n",
    "def encode_categorical(df, cols, fillna=False):\n",
    "    for col in cols:\n",
    "        encoder = LabelEncoder()\n",
    "        df[col] = encoder.fit_transform(\n",
    "            df[col].fillna(\"MISSING\") if fillna else df[col]\n",
    "        )\n",
    "    return df\n",
    "\n",
    "'''\n",
    "df_calendar = encode_categorical(\n",
    "    df_calendar,\n",
    "    [\"event_name_1\", \"event_type_1\", \"event_name_2\", \"event_type_2\"],\n",
    "    fillna=True,\n",
    ").pipe(utils.reduce_mem_usage)\n",
    "\n",
    "df_sales = encode_categorical(\n",
    "    df_sales, [\"item_id\", \"dept_id\", \"cat_id\", \"store_id\", \"state_id\"],\n",
    ").pipe(utils.reduce_mem_usage)\n",
    "\n",
    "df_prices = encode_categorical(df_prices, [\"item_id\", \"store_id\"]).pipe(\n",
    "    utils.reduce_mem_usage\n",
    ")\n",
    "'''\n"
   ]
  },
  {
   "cell_type": "markdown",
   "metadata": {},
   "source": [
    "# Transform Dataframe"
   ]
  },
  {
   "cell_type": "code",
   "execution_count": 4,
   "metadata": {
    "ExecuteTime": {
     "end_time": "2020-03-15T13:54:53.860603Z",
     "start_time": "2020-03-15T13:54:53.823554Z"
    }
   },
   "outputs": [],
   "source": [
    "# Add placeholders as timeframe is different for df_sales\n",
    "for i in range(1914, 1970):\n",
    "    df_sales[f'd_{i}'] = 'NA'"
   ]
  },
  {
   "cell_type": "code",
   "execution_count": 5,
   "metadata": {
    "ExecuteTime": {
     "end_time": "2020-03-15T13:57:03.675025Z",
     "start_time": "2020-03-15T13:54:53.860903Z"
    }
   },
   "outputs": [],
   "source": [
    "# transform Dataframe\n",
    "df = utils.transform_dataframe(df_sales, df_calendar, df_prices)"
   ]
  },
  {
   "cell_type": "code",
   "execution_count": 6,
   "metadata": {
    "ExecuteTime": {
     "end_time": "2020-03-15T13:57:20.641753Z",
     "start_time": "2020-03-15T13:57:03.687990Z"
    }
   },
   "outputs": [],
   "source": [
    "# Add column with type of data (training, validation & evaluation)\n",
    "\n",
    "# 2011-01-29 ~ 2016-04-24 : d_1    ~ d_1913 ---> training\n",
    "# 2016-04-25 ~ 2016-05-22 : d_1914 ~ d_1941 (public) ---> validation\n",
    "# 2016-05-23 ~ 2016-06-19 : d_1942 ~ d_1969 (private) ---> evaluation\n",
    "\n",
    "\n",
    "conditions = [\n",
    "    (df['date'] <= '2016-04-24'),\n",
    "    (df['date'] >= '2016-04-25') & (df['date'] <= '2016-05-22'),\n",
    "    (df['date'] >= '2016-05-23')]\n",
    "choices = ['train', 'validation', 'evaluation']\n",
    "df['data_type'] = np.select(conditions, choices)\n",
    "\n"
   ]
  },
  {
   "cell_type": "code",
   "execution_count": 7,
   "metadata": {
    "ExecuteTime": {
     "end_time": "2020-03-15T13:57:26.720490Z",
     "start_time": "2020-03-15T13:57:20.642718Z"
    }
   },
   "outputs": [
    {
     "name": "stdout",
     "output_type": "stream",
     "text": [
      "Mem. usage of decreased to 7958.26 Mb (27.6% reduction)\n"
     ]
    }
   ],
   "source": [
    "# reduce memory usage\n",
    "df = utils.reduce_mem_usage(df)"
   ]
  },
  {
   "cell_type": "code",
   "execution_count": 8,
   "metadata": {
    "ExecuteTime": {
     "end_time": "2020-03-15T13:57:26.779332Z",
     "start_time": "2020-03-15T13:57:26.723482Z"
    }
   },
   "outputs": [
    {
     "data": {
      "text/html": [
       "<div>\n",
       "<style scoped>\n",
       "    .dataframe tbody tr th:only-of-type {\n",
       "        vertical-align: middle;\n",
       "    }\n",
       "\n",
       "    .dataframe tbody tr th {\n",
       "        vertical-align: top;\n",
       "    }\n",
       "\n",
       "    .dataframe thead th {\n",
       "        text-align: right;\n",
       "    }\n",
       "</style>\n",
       "<table border=\"1\" class=\"dataframe\">\n",
       "  <thead>\n",
       "    <tr style=\"text-align: right;\">\n",
       "      <th></th>\n",
       "      <th>id</th>\n",
       "      <th>item_id</th>\n",
       "      <th>dept_id</th>\n",
       "      <th>cat_id</th>\n",
       "      <th>store_id</th>\n",
       "      <th>state_id</th>\n",
       "      <th>d</th>\n",
       "      <th>sale</th>\n",
       "      <th>date</th>\n",
       "      <th>wm_yr_wk</th>\n",
       "      <th>...</th>\n",
       "      <th>year</th>\n",
       "      <th>event_name_1</th>\n",
       "      <th>event_type_1</th>\n",
       "      <th>event_name_2</th>\n",
       "      <th>event_type_2</th>\n",
       "      <th>snap_CA</th>\n",
       "      <th>snap_TX</th>\n",
       "      <th>snap_WI</th>\n",
       "      <th>sell_price</th>\n",
       "      <th>data_type</th>\n",
       "    </tr>\n",
       "  </thead>\n",
       "  <tbody>\n",
       "    <tr>\n",
       "      <th>0</th>\n",
       "      <td>HOBBIES_1_001_CA_1_validation</td>\n",
       "      <td>HOBBIES_1_001</td>\n",
       "      <td>HOBBIES_1</td>\n",
       "      <td>HOBBIES</td>\n",
       "      <td>CA_1</td>\n",
       "      <td>CA</td>\n",
       "      <td>d_1</td>\n",
       "      <td>0</td>\n",
       "      <td>2011-01-29</td>\n",
       "      <td>11101</td>\n",
       "      <td>...</td>\n",
       "      <td>2011</td>\n",
       "      <td>NaN</td>\n",
       "      <td>NaN</td>\n",
       "      <td>NaN</td>\n",
       "      <td>NaN</td>\n",
       "      <td>0</td>\n",
       "      <td>0</td>\n",
       "      <td>0</td>\n",
       "      <td>NaN</td>\n",
       "      <td>train</td>\n",
       "    </tr>\n",
       "    <tr>\n",
       "      <th>1</th>\n",
       "      <td>HOBBIES_1_002_CA_1_validation</td>\n",
       "      <td>HOBBIES_1_002</td>\n",
       "      <td>HOBBIES_1</td>\n",
       "      <td>HOBBIES</td>\n",
       "      <td>CA_1</td>\n",
       "      <td>CA</td>\n",
       "      <td>d_1</td>\n",
       "      <td>0</td>\n",
       "      <td>2011-01-29</td>\n",
       "      <td>11101</td>\n",
       "      <td>...</td>\n",
       "      <td>2011</td>\n",
       "      <td>NaN</td>\n",
       "      <td>NaN</td>\n",
       "      <td>NaN</td>\n",
       "      <td>NaN</td>\n",
       "      <td>0</td>\n",
       "      <td>0</td>\n",
       "      <td>0</td>\n",
       "      <td>NaN</td>\n",
       "      <td>train</td>\n",
       "    </tr>\n",
       "    <tr>\n",
       "      <th>2</th>\n",
       "      <td>HOBBIES_1_003_CA_1_validation</td>\n",
       "      <td>HOBBIES_1_003</td>\n",
       "      <td>HOBBIES_1</td>\n",
       "      <td>HOBBIES</td>\n",
       "      <td>CA_1</td>\n",
       "      <td>CA</td>\n",
       "      <td>d_1</td>\n",
       "      <td>0</td>\n",
       "      <td>2011-01-29</td>\n",
       "      <td>11101</td>\n",
       "      <td>...</td>\n",
       "      <td>2011</td>\n",
       "      <td>NaN</td>\n",
       "      <td>NaN</td>\n",
       "      <td>NaN</td>\n",
       "      <td>NaN</td>\n",
       "      <td>0</td>\n",
       "      <td>0</td>\n",
       "      <td>0</td>\n",
       "      <td>NaN</td>\n",
       "      <td>train</td>\n",
       "    </tr>\n",
       "  </tbody>\n",
       "</table>\n",
       "<p>3 rows × 23 columns</p>\n",
       "</div>"
      ],
      "text/plain": [
       "                              id        item_id    dept_id   cat_id store_id  \\\n",
       "0  HOBBIES_1_001_CA_1_validation  HOBBIES_1_001  HOBBIES_1  HOBBIES     CA_1   \n",
       "1  HOBBIES_1_002_CA_1_validation  HOBBIES_1_002  HOBBIES_1  HOBBIES     CA_1   \n",
       "2  HOBBIES_1_003_CA_1_validation  HOBBIES_1_003  HOBBIES_1  HOBBIES     CA_1   \n",
       "\n",
       "  state_id    d sale        date  wm_yr_wk  ...  year  event_name_1  \\\n",
       "0       CA  d_1    0  2011-01-29     11101  ...  2011           NaN   \n",
       "1       CA  d_1    0  2011-01-29     11101  ...  2011           NaN   \n",
       "2       CA  d_1    0  2011-01-29     11101  ...  2011           NaN   \n",
       "\n",
       "   event_type_1  event_name_2 event_type_2 snap_CA snap_TX snap_WI  \\\n",
       "0           NaN           NaN          NaN       0       0       0   \n",
       "1           NaN           NaN          NaN       0       0       0   \n",
       "2           NaN           NaN          NaN       0       0       0   \n",
       "\n",
       "   sell_price  data_type  \n",
       "0         NaN      train  \n",
       "1         NaN      train  \n",
       "2         NaN      train  \n",
       "\n",
       "[3 rows x 23 columns]"
      ]
     },
     "execution_count": 8,
     "metadata": {},
     "output_type": "execute_result"
    }
   ],
   "source": [
    "df[:3]"
   ]
  },
  {
   "cell_type": "markdown",
   "metadata": {},
   "source": [
    "# Save DataFrame as CSV"
   ]
  },
  {
   "cell_type": "code",
   "execution_count": 9,
   "metadata": {
    "ExecuteTime": {
     "end_time": "2020-03-15T14:02:25.090216Z",
     "start_time": "2020-03-15T13:57:26.781328Z"
    }
   },
   "outputs": [],
   "source": [
    "df.to_csv(f'{utils.get_m5_root_dir()}/data/preprocessed/preprocessed_input_data.csv', index=False)"
   ]
  }
 ],
 "metadata": {
  "kernelspec": {
   "display_name": "Python 3",
   "language": "python",
   "name": "python3"
  },
  "language_info": {
   "codemirror_mode": {
    "name": "ipython",
    "version": 3
   },
   "file_extension": ".py",
   "mimetype": "text/x-python",
   "name": "python",
   "nbconvert_exporter": "python",
   "pygments_lexer": "ipython3",
   "version": "3.7.6"
  }
 },
 "nbformat": 4,
 "nbformat_minor": 4
}
