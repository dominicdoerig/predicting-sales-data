{
 "cells": [
  {
   "cell_type": "markdown",
   "metadata": {},
   "source": [
    "# Define Running Mode"
   ]
  },
  {
   "cell_type": "markdown",
   "metadata": {},
   "source": [
    "- 'full_dataset = True' to use the full data set. If 'full_dataset = True', then a data set containing only data one year of the hobbies sales in TX2.  \n",
    "\n"
   ]
  },
  {
   "cell_type": "code",
   "execution_count": 161,
   "metadata": {
    "ExecuteTime": {
     "end_time": "2020-04-10T21:03:34.737447Z",
     "start_time": "2020-04-10T21:03:34.734430Z"
    }
   },
   "outputs": [],
   "source": [
    "full_dataset = False"
   ]
  },
  {
   "cell_type": "markdown",
   "metadata": {},
   "source": [
    "# Import Packages"
   ]
  },
  {
   "cell_type": "code",
   "execution_count": 162,
   "metadata": {
    "ExecuteTime": {
     "end_time": "2020-04-10T21:03:34.745400Z",
     "start_time": "2020-04-10T21:03:34.738419Z"
    }
   },
   "outputs": [],
   "source": [
    "import utils\n",
    "import pandas as pd\n",
    "import numpy as np\n",
    "import matplotlib.pyplot as plt\n",
    "from tqdm.notebook import tqdm\n",
    "import time\n",
    "from sklearn.metrics import mean_squared_error\n",
    "import lightgbm as lgb\n",
    "import seaborn as sns"
   ]
  },
  {
   "cell_type": "markdown",
   "metadata": {},
   "source": [
    "# Data Import and Preparation"
   ]
  },
  {
   "cell_type": "code",
   "execution_count": 163,
   "metadata": {
    "ExecuteTime": {
     "end_time": "2020-04-10T21:03:43.622966Z",
     "start_time": "2020-04-10T21:03:34.747395Z"
    }
   },
   "outputs": [],
   "source": [
    "if full_dataset:\n",
    "    prefix = 'full_dataset'\n",
    "else:\n",
    "    prefix = 'subset'\n",
    "\n",
    "train_data = lgb.Dataset(\n",
    "    f'{utils.get_m5_root_dir()}/data/feature_engineering/{prefix}_train_lightgbm.bin')\n",
    "validation_data = lgb.Dataset(\n",
    "    f'{utils.get_m5_root_dir()}/data/feature_engineering/{prefix}_validation_data_lightgbm.bin')\n",
    "\n",
    "x_train = pd.read_csv(\n",
    "    f'{utils.get_m5_root_dir()}/data/feature_engineering/{prefix}_x_train.csv')\n",
    "y_train = pd.read_csv(\n",
    "    f'{utils.get_m5_root_dir()}/data/feature_engineering/{prefix}_y_train.csv')\n",
    "\n",
    "x_val = pd.read_csv(\n",
    "    f'{utils.get_m5_root_dir()}/data/feature_engineering/{prefix}_x_val.csv')\n",
    "y_val = pd.read_csv(\n",
    "    f'{utils.get_m5_root_dir()}/data/feature_engineering/{prefix}_y_val.csv').sale  # -> save as pd.Series\n",
    "\n",
    "x_pred = pd.read_csv(\n",
    "    f'{utils.get_m5_root_dir()}/data/feature_engineering/{prefix}_x_pred.csv')\n",
    "\n",
    "df_merged = pd.read_csv(\n",
    "    f'{utils.get_m5_root_dir()}/data/feature_engineering/{prefix}_df_merged.csv')"
   ]
  },
  {
   "cell_type": "code",
   "execution_count": 164,
   "metadata": {
    "ExecuteTime": {
     "end_time": "2020-04-10T21:03:44.179479Z",
     "start_time": "2020-04-10T21:03:43.623963Z"
    }
   },
   "outputs": [
    {
     "name": "stdout",
     "output_type": "stream",
     "text": [
      "Mem. usage of decreased to  4.77 Mb (74.1% reduction)\n",
      "Mem. usage of decreased to  0.85 Mb (74.1% reduction)\n",
      "Mem. usage of decreased to 11.07 Mb (64.7% reduction)\n"
     ]
    }
   ],
   "source": [
    "# downcast numerical values to reduce mem usage\n",
    "x_train = utils.reduce_mem_usage(x_train)\n",
    "x_val = utils.reduce_mem_usage(x_val)\n",
    "df_merged = utils.reduce_mem_usage(df_merged)"
   ]
  },
  {
   "cell_type": "markdown",
   "metadata": {},
   "source": [
    "# Model Training & Forecasting (LightGBM)"
   ]
  },
  {
   "cell_type": "markdown",
   "metadata": {},
   "source": [
    "Run the model in order to analyse its residuals afterwards."
   ]
  },
  {
   "cell_type": "code",
   "execution_count": 165,
   "metadata": {
    "ExecuteTime": {
     "end_time": "2020-04-10T21:03:44.448759Z",
     "start_time": "2020-04-10T21:03:44.180476Z"
    }
   },
   "outputs": [
    {
     "name": "stdout",
     "output_type": "stream",
     "text": [
      "Training until validation scores don't improve for 20 rounds\n",
      "[25]\ttraining's rmse: 1.31808\tvalid_1's rmse: 1.46571\n",
      "Early stopping, best iteration is:\n",
      "[11]\ttraining's rmse: 1.38284\tvalid_1's rmse: 1.45479\n"
     ]
    }
   ],
   "source": [
    "params = {\n",
    "    'boosting_type': 'gbdt',\n",
    "    'metric': 'rmse',\n",
    "    'objective': 'regression',\n",
    "    'seed': 10,\n",
    "    'learning_rate': 0.15,\n",
    "    'bagging_fraction': 0.75,\n",
    "    'bagging_freq': 10,\n",
    "    'max_bin': 128,\n",
    "    'feature_fraction ': 0.75,\n",
    "}\n",
    "\n",
    "evals_result = {}  # to record eval results for plotting\n",
    "\n",
    "gbm = lgb.train(params, train_data, valid_sets=[train_data, validation_data],\n",
    "                evals_result=evals_result, num_boost_round=1000,\n",
    "                verbose_eval=25, early_stopping_rounds=20)\n",
    "\n",
    "y_pred = gbm.predict(x_pred)"
   ]
  },
  {
   "cell_type": "markdown",
   "metadata": {},
   "source": [
    "# Training Analysis"
   ]
  },
  {
   "cell_type": "code",
   "execution_count": 166,
   "metadata": {
    "ExecuteTime": {
     "end_time": "2020-04-10T21:03:44.620301Z",
     "start_time": "2020-04-10T21:03:44.450754Z"
    }
   },
   "outputs": [
    {
     "name": "stdout",
     "output_type": "stream",
     "text": [
      "Plotting metrics recorded during training...\n"
     ]
    },
    {
     "data": {
      "image/png": "[encoded data removed]",
      "text/plain": [
       "<Figure size 432x288 with 1 Axes>"
      ]
     },
     "metadata": {
      "needs_background": "light"
     },
     "output_type": "display_data"
    }
   ],
   "source": [
    "print('Plotting metrics recorded during training...')\n",
    "ax = lgb.plot_metric(evals_result)\n",
    "plt.show()"
   ]
  },
  {
   "cell_type": "markdown",
   "metadata": {},
   "source": [
    "# Residual Analysis"
   ]
  },
  {
   "cell_type": "code",
   "execution_count": 167,
   "metadata": {
    "ExecuteTime": {
     "end_time": "2020-04-10T21:03:44.638253Z",
     "start_time": "2020-04-10T21:03:44.622295Z"
    }
   },
   "outputs": [
    {
     "name": "stdout",
     "output_type": "stream",
     "text": [
      "*** y_pred ***\n",
      "min: 0.210\n",
      "5% Quantile: 0.235\n",
      "25% Quantile: 0.263\n",
      "mean: 0.649\n",
      "50% Quantile: 0.393\n",
      "75% Quantile: 0.686\n",
      "95% Quantile: 1.985\n",
      "max: 9.980\n",
      "\n",
      "*** Residuals ***\n",
      "min: -5.445\n",
      "5% Quantile: -1.112\n",
      "25% Quantile: -0.436\n",
      "mean: 0.024\n",
      "50% Quantile: -0.263\n",
      "75% Quantile: 0.314\n",
      "95% Quantile: 1.838\n",
      "max: 45.571\n"
     ]
    }
   ],
   "source": [
    "print('*** y_pred ***')\n",
    "print('min: %0.3f' % np.min(y_pred))\n",
    "print('5%% Quantile: %0.3f' % np.quantile(y_pred, 0.05))\n",
    "print('25%% Quantile: %0.3f' % np.quantile(y_pred, 0.25))\n",
    "print('mean: %0.3f' % np.mean(y_pred))\n",
    "print('50%% Quantile: %0.3f' % np.quantile(y_pred, 0.5))\n",
    "print('75%% Quantile: %0.3f' % np.quantile(y_pred, 0.75))\n",
    "print('95%% Quantile: %0.3f' % np.quantile(y_pred, 0.95))\n",
    "print('max: %0.3f' % np.max(y_pred))\n",
    "\n",
    "res = y_val - y_pred\n",
    "print('\\n*** Residuals ***')\n",
    "print('min: %0.3f' % np.min(res))\n",
    "print('5%% Quantile: %0.3f' % np.quantile(res, 0.05))\n",
    "print('25%% Quantile: %0.3f' % np.quantile(res, 0.25))\n",
    "print('mean: %0.3f' % np.mean(res))\n",
    "print('50%% Quantile: %0.3f' % np.quantile(res, 0.5))\n",
    "print('75%% Quantile: %0.3f' % np.quantile(res, 0.75))\n",
    "print('95%% Quantile: %0.3f' % np.quantile(res, 0.95))\n",
    "print('max: %0.3f' % np.max(res))"
   ]
  },
  {
   "cell_type": "code",
   "execution_count": 168,
   "metadata": {
    "ExecuteTime": {
     "end_time": "2020-04-10T21:03:44.752947Z",
     "start_time": "2020-04-10T21:03:44.640248Z"
    }
   },
   "outputs": [
    {
     "data": {
      "text/plain": [
       "[<matplotlib.lines.Line2D at 0x240c193af48>]"
      ]
     },
     "execution_count": 168,
     "metadata": {},
     "output_type": "execute_result"
    },
    {
     "data": {
      "image/png": "[encoded data removed]",
      "text/plain": [
       "<Figure size 864x432 with 1 Axes>"
      ]
     },
     "metadata": {
      "needs_background": "light"
     },
     "output_type": "display_data"
    }
   ],
   "source": [
    "fig, ax = plt.subplots(figsize=(12, 6))\n",
    "ax = sns.distplot(res, hist=False, kde=True,\n",
    "                  kde_kws={'shade': True, 'linewidth': 3}, axlabel=\"Residual\")\n",
    "ax.plot([0, 0], [0, 0.5])"
   ]
  },
  {
   "cell_type": "code",
   "execution_count": 169,
   "metadata": {
    "ExecuteTime": {
     "end_time": "2020-04-10T21:03:44.890579Z",
     "start_time": "2020-04-10T21:03:44.753944Z"
    }
   },
   "outputs": [
    {
     "data": {
      "text/plain": [
       "[<matplotlib.lines.Line2D at 0x2437f5773c8>]"
      ]
     },
     "execution_count": 169,
     "metadata": {},
     "output_type": "execute_result"
    },
    {
     "data": {
      "image/png": "[encoded data removed]",
      "text/plain": [
       "<Figure size 432x288 with 1 Axes>"
      ]
     },
     "metadata": {
      "needs_background": "light"
     },
     "output_type": "display_data"
    }
   ],
   "source": [
    "plt.plot(y_pred, y_val, 'o')\n",
    "plt.xlabel('Predicted Sales')\n",
    "plt.ylabel('Actual Sales')\n",
    "plt.plot([-10, 200], [-10, 200])"
   ]
  },
  {
   "cell_type": "code",
   "execution_count": 170,
   "metadata": {
    "ExecuteTime": {
     "end_time": "2020-04-10T21:03:44.912520Z",
     "start_time": "2020-04-10T21:03:44.891576Z"
    }
   },
   "outputs": [
    {
     "data": {
      "text/html": [
       "<div>\n",
       "<style scoped>\n",
       "    .dataframe tbody tr th:only-of-type {\n",
       "        vertical-align: middle;\n",
       "    }\n",
       "\n",
       "    .dataframe tbody tr th {\n",
       "        vertical-align: top;\n",
       "    }\n",
       "\n",
       "    .dataframe thead th {\n",
       "        text-align: right;\n",
       "    }\n",
       "</style>\n",
       "<table border=\"1\" class=\"dataframe\">\n",
       "  <thead>\n",
       "    <tr style=\"text-align: right;\">\n",
       "      <th></th>\n",
       "      <th>y_true</th>\n",
       "      <th>y_pred</th>\n",
       "      <th>residual</th>\n",
       "    </tr>\n",
       "  </thead>\n",
       "  <tbody>\n",
       "    <tr>\n",
       "      <th>0</th>\n",
       "      <td>2.0</td>\n",
       "      <td>1.55</td>\n",
       "      <td>0.45</td>\n",
       "    </tr>\n",
       "    <tr>\n",
       "      <th>1</th>\n",
       "      <td>2.0</td>\n",
       "      <td>1.96</td>\n",
       "      <td>0.04</td>\n",
       "    </tr>\n",
       "    <tr>\n",
       "      <th>2</th>\n",
       "      <td>0.0</td>\n",
       "      <td>1.44</td>\n",
       "      <td>-1.44</td>\n",
       "    </tr>\n",
       "    <tr>\n",
       "      <th>3</th>\n",
       "      <td>0.0</td>\n",
       "      <td>1.57</td>\n",
       "      <td>-1.57</td>\n",
       "    </tr>\n",
       "    <tr>\n",
       "      <th>4</th>\n",
       "      <td>8.0</td>\n",
       "      <td>1.77</td>\n",
       "      <td>6.23</td>\n",
       "    </tr>\n",
       "    <tr>\n",
       "      <th>5</th>\n",
       "      <td>3.0</td>\n",
       "      <td>1.75</td>\n",
       "      <td>1.25</td>\n",
       "    </tr>\n",
       "    <tr>\n",
       "      <th>6</th>\n",
       "      <td>1.0</td>\n",
       "      <td>1.77</td>\n",
       "      <td>-0.77</td>\n",
       "    </tr>\n",
       "    <tr>\n",
       "      <th>7</th>\n",
       "      <td>1.0</td>\n",
       "      <td>1.62</td>\n",
       "      <td>-0.62</td>\n",
       "    </tr>\n",
       "    <tr>\n",
       "      <th>8</th>\n",
       "      <td>5.0</td>\n",
       "      <td>1.86</td>\n",
       "      <td>3.14</td>\n",
       "    </tr>\n",
       "    <tr>\n",
       "      <th>9</th>\n",
       "      <td>3.0</td>\n",
       "      <td>1.57</td>\n",
       "      <td>1.43</td>\n",
       "    </tr>\n",
       "    <tr>\n",
       "      <th>10</th>\n",
       "      <td>0.0</td>\n",
       "      <td>2.01</td>\n",
       "      <td>-2.01</td>\n",
       "    </tr>\n",
       "    <tr>\n",
       "      <th>11</th>\n",
       "      <td>5.0</td>\n",
       "      <td>1.71</td>\n",
       "      <td>3.29</td>\n",
       "    </tr>\n",
       "    <tr>\n",
       "      <th>12</th>\n",
       "      <td>2.0</td>\n",
       "      <td>1.71</td>\n",
       "      <td>0.29</td>\n",
       "    </tr>\n",
       "    <tr>\n",
       "      <th>13</th>\n",
       "      <td>11.0</td>\n",
       "      <td>1.39</td>\n",
       "      <td>9.61</td>\n",
       "    </tr>\n",
       "    <tr>\n",
       "      <th>14</th>\n",
       "      <td>9.0</td>\n",
       "      <td>1.82</td>\n",
       "      <td>7.18</td>\n",
       "    </tr>\n",
       "    <tr>\n",
       "      <th>15</th>\n",
       "      <td>3.0</td>\n",
       "      <td>2.18</td>\n",
       "      <td>0.82</td>\n",
       "    </tr>\n",
       "    <tr>\n",
       "      <th>16</th>\n",
       "      <td>1.0</td>\n",
       "      <td>2.13</td>\n",
       "      <td>-1.13</td>\n",
       "    </tr>\n",
       "    <tr>\n",
       "      <th>17</th>\n",
       "      <td>0.0</td>\n",
       "      <td>1.58</td>\n",
       "      <td>-1.58</td>\n",
       "    </tr>\n",
       "    <tr>\n",
       "      <th>18</th>\n",
       "      <td>5.0</td>\n",
       "      <td>1.76</td>\n",
       "      <td>3.24</td>\n",
       "    </tr>\n",
       "    <tr>\n",
       "      <th>19</th>\n",
       "      <td>0.0</td>\n",
       "      <td>1.52</td>\n",
       "      <td>-1.52</td>\n",
       "    </tr>\n",
       "    <tr>\n",
       "      <th>20</th>\n",
       "      <td>4.0</td>\n",
       "      <td>1.96</td>\n",
       "      <td>2.04</td>\n",
       "    </tr>\n",
       "    <tr>\n",
       "      <th>21</th>\n",
       "      <td>48.0</td>\n",
       "      <td>2.43</td>\n",
       "      <td>45.57</td>\n",
       "    </tr>\n",
       "    <tr>\n",
       "      <th>22</th>\n",
       "      <td>4.0</td>\n",
       "      <td>1.91</td>\n",
       "      <td>2.09</td>\n",
       "    </tr>\n",
       "    <tr>\n",
       "      <th>23</th>\n",
       "      <td>0.0</td>\n",
       "      <td>1.90</td>\n",
       "      <td>-1.90</td>\n",
       "    </tr>\n",
       "    <tr>\n",
       "      <th>24</th>\n",
       "      <td>0.0</td>\n",
       "      <td>2.58</td>\n",
       "      <td>-2.58</td>\n",
       "    </tr>\n",
       "    <tr>\n",
       "      <th>25</th>\n",
       "      <td>0.0</td>\n",
       "      <td>1.88</td>\n",
       "      <td>-1.88</td>\n",
       "    </tr>\n",
       "    <tr>\n",
       "      <th>26</th>\n",
       "      <td>1.0</td>\n",
       "      <td>1.96</td>\n",
       "      <td>-0.96</td>\n",
       "    </tr>\n",
       "    <tr>\n",
       "      <th>27</th>\n",
       "      <td>0.0</td>\n",
       "      <td>1.67</td>\n",
       "      <td>-1.67</td>\n",
       "    </tr>\n",
       "  </tbody>\n",
       "</table>\n",
       "</div>"
      ],
      "text/plain": [
       "    y_true  y_pred  residual\n",
       "0      2.0    1.55      0.45\n",
       "1      2.0    1.96      0.04\n",
       "2      0.0    1.44     -1.44\n",
       "3      0.0    1.57     -1.57\n",
       "4      8.0    1.77      6.23\n",
       "5      3.0    1.75      1.25\n",
       "6      1.0    1.77     -0.77\n",
       "7      1.0    1.62     -0.62\n",
       "8      5.0    1.86      3.14\n",
       "9      3.0    1.57      1.43\n",
       "10     0.0    2.01     -2.01\n",
       "11     5.0    1.71      3.29\n",
       "12     2.0    1.71      0.29\n",
       "13    11.0    1.39      9.61\n",
       "14     9.0    1.82      7.18\n",
       "15     3.0    2.18      0.82\n",
       "16     1.0    2.13     -1.13\n",
       "17     0.0    1.58     -1.58\n",
       "18     5.0    1.76      3.24\n",
       "19     0.0    1.52     -1.52\n",
       "20     4.0    1.96      2.04\n",
       "21    48.0    2.43     45.57\n",
       "22     4.0    1.91      2.09\n",
       "23     0.0    1.90     -1.90\n",
       "24     0.0    2.58     -2.58\n",
       "25     0.0    1.88     -1.88\n",
       "26     1.0    1.96     -0.96\n",
       "27     0.0    1.67     -1.67"
      ]
     },
     "execution_count": 170,
     "metadata": {},
     "output_type": "execute_result"
    }
   ],
   "source": [
    "# Here we compare the target values and the predictions \n",
    "# of the time series where the greatest of all outlier occured\n",
    "\n",
    "index_res_max = np.where(res == np.max(res))[0].item()\n",
    "id_res_max = int(x_val.iloc[index_res_max, :].item_id)\n",
    "store_id_res_max = int(x_val.iloc[index_res_max, :].store_id)\n",
    "\n",
    "y_val_id_res_max = y_val.loc[x_val['item_id'] == id_res_max].loc[x_val['store_id'] == store_id_res_max]\n",
    "\n",
    "y_pred_id_res_max = pd.Series(y_pred).loc[x_val['item_id'] == id_res_max].loc[x_val['store_id'] == store_id_res_max]\n",
    "\n",
    "\n",
    "df_res_max = pd.DataFrame({\n",
    "    'y_true': y_val_id_res_max,\n",
    "    'y_pred': np.round(y_pred_id_res_max, 2),\n",
    "    'residual': np.round(y_val_id_res_max - y_pred_id_res_max, 2)\n",
    "})\n",
    "df_res_max = df_res_max.reset_index(drop=True)\n",
    "\n",
    "df_res_max"
   ]
  },
  {
   "cell_type": "markdown",
   "metadata": {
    "ExecuteTime": {
     "end_time": "2020-04-08T18:07:17.313002Z",
     "start_time": "2020-04-08T18:07:17.307017Z"
    }
   },
   "source": [
    "### Findings:\n",
    "- Sales are generally small then predicted (negative median)  \n",
    "- Some predicted values are negative which makes in context of sales no sense  \n",
    "- Some great, unpredictable outliers: max residum is 110 whereas 95% quantile: 2.3 \n",
    "\n",
    "### Approach\n",
    "- Asymetric loss function to counter skewed distribution \n",
    "- Clean data before training e.g. remove outliers"
   ]
  },
  {
   "cell_type": "markdown",
   "metadata": {},
   "source": [
    "# Approach 1: Custom Loss (asymetric RMSE)"
   ]
  },
  {
   "cell_type": "markdown",
   "metadata": {},
   "source": [
    "Define custom loss function that is similar to MSE but increase gradient by 10% if residuals are greater than zero (symetric loss function)."
   ]
  },
  {
   "cell_type": "code",
   "execution_count": 171,
   "metadata": {
    "ExecuteTime": {
     "end_time": "2020-04-10T21:03:44.924488Z",
     "start_time": "2020-04-10T21:03:44.913518Z"
    }
   },
   "outputs": [],
   "source": [
    "def custom_mse_asymmetric_loss(y_pred, y_true):\n",
    "    y_true = y_true.get_label()\n",
    "    residual = (y_true - y_pred).astype(\"float\")\n",
    "    grad = np.where(residual < 0, -2 * residual, -2 * residual * 1.1)\n",
    "    hess = np.where(residual < 0, 2, 2 * 1.1)\n",
    "    return grad, hess\n",
    "\n",
    "\n",
    "def custom_rmse_asymmetric_valid(y_pred, y_true):\n",
    "    y_true = y_true.get_label()\n",
    "    residual = (y_true - y_pred).astype(\"float\")\n",
    "    loss = np.where(residual < 0, (residual ** 2), (residual ** 2) * 1.1)\n",
    "    return \"custom_mse_asymmetric_eval\", np.sqrt(np.mean(loss)), False"
   ]
  },
  {
   "cell_type": "markdown",
   "metadata": {},
   "source": [
    "Run same model as above but with custom loss."
   ]
  },
  {
   "cell_type": "code",
   "execution_count": 172,
   "metadata": {
    "ExecuteTime": {
     "end_time": "2020-04-10T21:03:45.541837Z",
     "start_time": "2020-04-10T21:03:44.925485Z"
    }
   },
   "outputs": [
    {
     "name": "stdout",
     "output_type": "stream",
     "text": [
      "Training until validation scores don't improve for 20 rounds\n",
      "[25]\ttraining's custom_mse_asymmetric_eval: 1.36031\tvalid_1's custom_mse_asymmetric_eval: 1.51466\n",
      "Early stopping, best iteration is:\n",
      "[14]\ttraining's custom_mse_asymmetric_eval: 1.41159\tvalid_1's custom_mse_asymmetric_eval: 1.50653\n"
     ]
    }
   ],
   "source": [
    "params = {\n",
    "    'boosting_type': 'gbdt',\n",
    "    'objective': 'regression',\n",
    "    'seed': 10,\n",
    "    'learning_rate': 0.15,\n",
    "    'bagging_fraction': 0.75,\n",
    "    'bagging_freq': 10,\n",
    "    'max_bin': 128,\n",
    "    'feature_fraction ': 0.75,\n",
    "}\n",
    "\n",
    "evals_result = {}  # to record eval results for plotting\n",
    "\n",
    "gbm = lgb.train(params, train_data, valid_sets=[train_data, validation_data],\n",
    "                evals_result=evals_result, num_boost_round=1000,\n",
    "                verbose_eval=25, early_stopping_rounds=20,\n",
    "                fobj=custom_mse_asymmetric_loss,\n",
    "                feval=custom_rmse_asymmetric_valid)\n",
    "\n",
    "y_pred = gbm.predict(x_pred)"
   ]
  },
  {
   "cell_type": "code",
   "execution_count": 173,
   "metadata": {
    "ExecuteTime": {
     "end_time": "2020-04-10T21:03:45.568766Z",
     "start_time": "2020-04-10T21:03:45.543832Z"
    }
   },
   "outputs": [
    {
     "name": "stdout",
     "output_type": "stream",
     "text": [
      "*** y_pred ***\n",
      "min: 0.110\n",
      "5% Quantile: 0.160\n",
      "25% Quantile: 0.196\n",
      "mean: 0.602\n",
      "50% Quantile: 0.328\n",
      "75% Quantile: 0.631\n",
      "95% Quantile: 2.027\n",
      "max: 10.994\n",
      "\n",
      "*** Residuals ***\n",
      "min: -6.789\n",
      "5% Quantile: -1.147\n",
      "25% Quantile: -0.389\n",
      "mean: 0.071\n",
      "50% Quantile: -0.196\n",
      "75% Quantile: 0.369\n",
      "95% Quantile: 1.819\n",
      "max: 45.577\n"
     ]
    }
   ],
   "source": [
    "print('*** y_pred ***')\n",
    "print('min: %0.3f' % np.min(y_pred))\n",
    "print('5%% Quantile: %0.3f' % np.quantile(y_pred, 0.05))\n",
    "print('25%% Quantile: %0.3f' % np.quantile(y_pred, 0.25))\n",
    "print('mean: %0.3f' % np.mean(y_pred))\n",
    "print('50%% Quantile: %0.3f' % np.quantile(y_pred, 0.5))\n",
    "print('75%% Quantile: %0.3f' % np.quantile(y_pred, 0.75))\n",
    "print('95%% Quantile: %0.3f' % np.quantile(y_pred, 0.95))\n",
    "print('max: %0.3f' % np.max(y_pred))\n",
    "\n",
    "res = y_val - y_pred\n",
    "print('\\n*** Residuals ***')\n",
    "print('min: %0.3f' % np.min(res))\n",
    "print('5%% Quantile: %0.3f' % np.quantile(res, 0.05))\n",
    "print('25%% Quantile: %0.3f' % np.quantile(res, 0.25))\n",
    "print('mean: %0.3f' % np.mean(res))\n",
    "print('50%% Quantile: %0.3f' % np.quantile(res, 0.5))\n",
    "print('75%% Quantile: %0.3f' % np.quantile(res, 0.75))\n",
    "print('95%% Quantile: %0.3f' % np.quantile(res, 0.95))\n",
    "print('max: %0.3f' % np.max(res))"
   ]
  },
  {
   "cell_type": "markdown",
   "metadata": {},
   "source": [
    "Now we bring the forecasts to the required structure and submit it manually to Kaggle and then compare the performance."
   ]
  },
  {
   "cell_type": "markdown",
   "metadata": {},
   "source": [
    "# Printout Forecasts"
   ]
  },
  {
   "cell_type": "code",
   "execution_count": 174,
   "metadata": {
    "ExecuteTime": {
     "end_time": "2020-04-10T21:03:45.575747Z",
     "start_time": "2020-04-10T21:03:45.570761Z"
    }
   },
   "outputs": [],
   "source": [
    "# map forecast values to encoded item_ids\n",
    "x_val['y_pred'] = y_pred"
   ]
  },
  {
   "cell_type": "code",
   "execution_count": 175,
   "metadata": {
    "ExecuteTime": {
     "end_time": "2020-04-10T21:03:45.664351Z",
     "start_time": "2020-04-10T21:03:45.577742Z"
    }
   },
   "outputs": [],
   "source": [
    "# map encoded ids to decoded ids\n",
    "id_mapping_table = df_merged[['id', 'item_id', 'store_id']].drop_duplicates()\n",
    "df_results = x_val.merge(id_mapping_table,\n",
    "                         on=['item_id', 'store_id'],\n",
    "                         how='left')[[\n",
    "                             'id', 'item_id', 'store_id', 'year', 'month',\n",
    "                             'day', 'y_pred'\n",
    "                         ]]"
   ]
  },
  {
   "cell_type": "code",
   "execution_count": 176,
   "metadata": {
    "ExecuteTime": {
     "end_time": "2020-04-10T21:03:45.867806Z",
     "start_time": "2020-04-10T21:03:45.665348Z"
    }
   },
   "outputs": [],
   "source": [
    "# create dict with IDs and forecasts\n",
    "submission_dict = {}\n",
    "\n",
    "for i, df in df_results.groupby(['id']):\n",
    "    df = df.reset_index(drop=True)\n",
    "    submission_dict[i] = df['y_pred']"
   ]
  },
  {
   "cell_type": "code",
   "execution_count": 177,
   "metadata": {
    "ExecuteTime": {
     "end_time": "2020-04-10T21:03:45.902683Z",
     "start_time": "2020-04-10T21:03:45.868804Z"
    }
   },
   "outputs": [],
   "source": [
    "# convert dict to dataframe\n",
    "submission_df = pd.DataFrame(submission_dict).T\n",
    "submission_df = submission_df.clip(lower=0)  # Convert negative values to 0\n",
    "submission_df.reset_index(level=0, inplace=True)\n",
    "submission_df.columns = ['id'] + [f'F{di}' for di in list(range(1, 29))]"
   ]
  },
  {
   "cell_type": "code",
   "execution_count": 178,
   "metadata": {
    "ExecuteTime": {
     "end_time": "2020-04-10T21:03:45.911660Z",
     "start_time": "2020-04-10T21:03:45.903681Z"
    }
   },
   "outputs": [],
   "source": [
    "df_submission = submission_df.append(\n",
    "    submission_df.replace(to_replace='validation', value='evaluation',\n",
    "                          regex=True))\n",
    "if full_dataset:\n",
    "    filename = utils.get_m5_root_dir(\n",
    "    ) + '/data/submissions/gradient_boosting_regressor_v_2_5.csv'\n",
    "    df_submission.to_csv(filename, index=False)"
   ]
  },
  {
   "cell_type": "markdown",
   "metadata": {},
   "source": [
    "# Conclusion "
   ]
  },
  {
   "cell_type": "markdown",
   "metadata": {
    "ExecuteTime": {
     "start_time": "2020-04-08T19:32:49.520Z"
    }
   },
   "source": [
    "Asymetric Loss function led to a major increase in performance (0.66884 to 0.60533) even though the factor of 1.1 is not yet optimized."
   ]
  }
 ],
 "metadata": {
  "kernelspec": {
   "display_name": "Python 3",
   "language": "python",
   "name": "python3"
  },
  "language_info": {
   "codemirror_mode": {
    "name": "ipython",
    "version": 3
   },
   "file_extension": ".py",
   "mimetype": "text/x-python",
   "name": "python",
   "nbconvert_exporter": "python",
   "pygments_lexer": "ipython3",
   "version": "3.7.6"
  }
 },
 "nbformat": 4,
 "nbformat_minor": 4
}
